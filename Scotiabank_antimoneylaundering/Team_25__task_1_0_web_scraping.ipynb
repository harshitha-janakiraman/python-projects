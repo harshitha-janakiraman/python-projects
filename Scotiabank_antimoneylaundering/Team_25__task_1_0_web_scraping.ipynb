{
  "cells": [
    {
      "attachments": {},
      "cell_type": "markdown",
      "metadata": {},
      "source": [
        "# TEAM 25 "
      ]
    },
    {
      "attachments": {},
      "cell_type": "markdown",
      "metadata": {},
      "source": [
        "## Task 1: Data Collection\n",
        "\n",
        "This notebook was used while extracting the bad actors from the open sactions website. BeautifulSoup was used to scrape the website."
      ]
    },
    {
      "attachments": {},
      "cell_type": "markdown",
      "metadata": {},
      "source": [
        "### Setup"
      ]
    },
    {
      "cell_type": "code",
      "execution_count": null,
      "metadata": {
        "application/vnd.databricks.v1+cell": {
          "cellMetadata": {},
          "inputWidgets": {},
          "nuid": "2a004087-e003-4b10-aff5-56c7f8f202f7",
          "showTitle": false,
          "title": ""
        },
        "id": "1c1AxBCFvEbQ"
      },
      "outputs": [],
      "source": [
        "import pandas as pd\n",
        "import numpy as np\n",
        "import matplotlib.pyplot as plt\n",
        "import seaborn as sns"
      ]
    },
    {
      "cell_type": "code",
      "execution_count": null,
      "metadata": {
        "application/vnd.databricks.v1+cell": {
          "cellMetadata": {},
          "inputWidgets": {},
          "nuid": "a17eefc4-c7fd-4b9a-b3ea-3a1bd4598dd5",
          "showTitle": false,
          "title": ""
        },
        "id": "eA_8aqtXvEbS",
        "outputId": "9e94c21e-8898-43ed-bef1-d274150a6e39"
      },
      "outputs": [
        {
          "data": {
            "text/plain": [
              "Requirement already satisfied: BeautifulSoup4 in /databricks/python3/lib/python3.9/site-packages (4.11.1)\r\n",
              "Requirement already satisfied: soupsieve>1.2 in /databricks/python3/lib/python3.9/site-packages (from BeautifulSoup4) (2.3.1)\r\n",
              "\u001b[33mWARNING: You are using pip version 21.2.4; however, version 23.0.1 is available.\r\n",
              "You should consider upgrading via the '/local_disk0/.ephemeral_nfs/envs/pythonEnv-6c5ebb92-4963-4518-8221-818e6e7c7038/bin/python -m pip install --upgrade pip' command.\u001b[0m\r\n",
              "Requirement already satisfied: tqdm in /databricks/python3/lib/python3.9/site-packages (4.64.1)\r\n",
              "\u001b[33mWARNING: You are using pip version 21.2.4; however, version 23.0.1 is available.\r\n",
              "You should consider upgrading via the '/local_disk0/.ephemeral_nfs/envs/pythonEnv-6c5ebb92-4963-4518-8221-818e6e7c7038/bin/python -m pip install --upgrade pip' command.\u001b[0m\r\n"
            ]
          },
          "metadata": {
            "application/vnd.databricks.v1+output": {
              "addedWidgets": {},
              "arguments": {},
              "data": "Requirement already satisfied: BeautifulSoup4 in /databricks/python3/lib/python3.9/site-packages (4.11.1)\r\nRequirement already satisfied: soupsieve>1.2 in /databricks/python3/lib/python3.9/site-packages (from BeautifulSoup4) (2.3.1)\r\n\u001b[33mWARNING: You are using pip version 21.2.4; however, version 23.0.1 is available.\r\nYou should consider upgrading via the '/local_disk0/.ephemeral_nfs/envs/pythonEnv-6c5ebb92-4963-4518-8221-818e6e7c7038/bin/python -m pip install --upgrade pip' command.\u001b[0m\r\nRequirement already satisfied: tqdm in /databricks/python3/lib/python3.9/site-packages (4.64.1)\r\n\u001b[33mWARNING: You are using pip version 21.2.4; however, version 23.0.1 is available.\r\nYou should consider upgrading via the '/local_disk0/.ephemeral_nfs/envs/pythonEnv-6c5ebb92-4963-4518-8221-818e6e7c7038/bin/python -m pip install --upgrade pip' command.\u001b[0m\r\n",
              "datasetInfos": [],
              "metadata": {},
              "name": null,
              "removedWidgets": [],
              "type": "ansi"
            }
          },
          "output_type": "display_data"
        }
      ],
      "source": [
        "import time\n",
        "import requests\n",
        "#!pip install BeautifulSoup4\n",
        "from bs4 import BeautifulSoup\n",
        "import sys\n",
        "\n",
        "#!pip install tqdm\n",
        "from tqdm import tqdm\n",
        "import re"
      ]
    },
    {
      "attachments": {},
      "cell_type": "markdown",
      "metadata": {},
      "source": [
        "### Identifying important categories"
      ]
    },
    {
      "cell_type": "code",
      "execution_count": null,
      "metadata": {
        "application/vnd.databricks.v1+cell": {
          "cellMetadata": {},
          "inputWidgets": {},
          "nuid": "0e6f4696-cfe0-4d86-b5b8-2b0ce2c3ebfa",
          "showTitle": false,
          "title": ""
        },
        "id": "otVvkFmfvEbS"
      },
      "outputs": [],
      "source": [
        "# Parameters\n",
        "category = ['crime', 'crime.fin', 'crime.terror', 'crime.fraud', 'crime.war']"
      ]
    },
    {
      "attachments": {},
      "cell_type": "markdown",
      "metadata": {},
      "source": [
        "### Scraping Data"
      ]
    },
    {
      "cell_type": "code",
      "execution_count": null,
      "metadata": {
        "application/vnd.databricks.v1+cell": {
          "cellMetadata": {},
          "inputWidgets": {},
          "nuid": "5dfe3300-1e2a-4870-a7a1-947b40412c7e",
          "showTitle": false,
          "title": ""
        },
        "id": "6yjDRWrSvEbT"
      },
      "outputs": [],
      "source": [
        "#Empty DataFrame\n",
        "data = pd.DataFrame(columns=['Category', 'Name', 'Birth date', 'Gender', 'Nationality', 'Link'])\n",
        "\n",
        "index = 0 ###########CHANGE THIS TO REQUIRED INDEX\n",
        "\n",
        "#first page\n",
        "url = \"https://www.opensanctions.org/search/?scope=default&schema=Person&topics={}\".format(category[index])      \n",
        "response = requests.get(url)\n",
        "soup = BeautifulSoup(response.content,\"html.parser\")\n",
        "\n",
        "#Creating a for loop to loop over all the pages on the website\n",
        "for i in tqdm(range(291, 332)):\n",
        "    if i==0:\n",
        "        soup = soup\n",
        "\n",
        "    else:\n",
        "        url = \"https://www.opensanctions.org/search/?offset={}&schema=Person&scope=default&topics={}\".format((i+1)*25, category[index])\n",
        "        response = requests.get(url)\n",
        "        soup = BeautifulSoup(response.content,\"html.parser\")\n",
        "\n",
        "\n",
        "    soup_title= soup.findAll(\"div\",class_=\"Search_resultTitle__i_two\")\n",
        "\n",
        "\n",
        "    for x in range(len(soup_title)):\n",
        "        link = soup_title[x].find(\"a\").get(\"href\")\n",
        "        \n",
        "        #Category\n",
        "        data.loc[x+i*25,'Category'] = category[index]\n",
        "        \n",
        "        #Link\n",
        "        data.loc[x+i*25,'Link'] = \"https://www.opensanctions.org\" + link\n",
        "        \n",
        "        response2 = requests.get(\"https://www.opensanctions.org\" + link)\n",
        "        soup2 = BeautifulSoup(response2.content,\"html.parser\")\n",
        "        \n",
        "        table = soup2.find(\"table\", class_=re.compile(\"Entity_factsheet__rb6z1 table\"))\n",
        "        \n",
        "        try:\n",
        "            table_body = table.find('tbody')\n",
        "\n",
        "            rows = table_body.find_all('tr')\n",
        "            for k in range(5):\n",
        "                if k>0:\n",
        "                    entry = rows[k].find('th').text\n",
        "                    cols = rows[k].find_all('td')\n",
        "                    cols = [ele.text.strip() for ele in cols]\n",
        "                    data.loc[x+i*25,'{}'.format(entry)] = cols[0]\n",
        "        except:\n",
        "            print('Error')\n",
        "            "
      ]
    },
    {
      "cell_type": "code",
      "execution_count": null,
      "metadata": {
        "application/vnd.databricks.v1+cell": {
          "cellMetadata": {},
          "inputWidgets": {},
          "nuid": "39c8d287-08fe-4488-8af5-c0e16fbc1c4a",
          "showTitle": false,
          "title": ""
        },
        "id": "1fatJnaLvEbX"
      },
      "outputs": [],
      "source": [
        "# display(data)"
      ]
    },
    {
      "cell_type": "code",
      "execution_count": null,
      "metadata": {
        "application/vnd.databricks.v1+cell": {
          "cellMetadata": {},
          "inputWidgets": {},
          "nuid": "170f5181-5cc9-458a-8b21-c03dcef94a51",
          "showTitle": false,
          "title": ""
        },
        "id": "UxmRwAYJvEbX"
      },
      "outputs": [],
      "source": [
        "# nodes_data = pd.read_csv(\"UofT_nodes.csv\")\n",
        "# fin_data = pd.read_csv(\"crime_fin_scrap_data.csv\")\n",
        "# fraud_data = pd.read_csv(\"crime_fraud_scrap_data.csv\")\n",
        "# crime_data = pd.read_csv(\"crime_data.csv\")\n",
        "# terror_data = pd.read_csv(\"terror_data.csv\")\n",
        "# war_data = pd.read_csv(\"crime_war_data.csv\")"
      ]
    }
  ],
  "metadata": {
    "application/vnd.databricks.v1+notebook": {
      "dashboards": [],
      "language": "python",
      "notebookMetadata": {
        "mostRecentlyExecutedCommandWithImplicitDF": {
          "commandId": -1,
          "dataframes": [
            "_sqldf"
          ]
        },
        "pythonIndentUnit": 4
      },
      "notebookName": "Find_Bad_Actors_pyspark",
      "notebookOrigID": 999813396660567,
      "widgets": {}
    },
    "colab": {
      "provenance": []
    },
    "gpuClass": "standard",
    "kernelspec": {
      "display_name": "Python 3",
      "name": "python3"
    },
    "language_info": {
      "name": "python"
    }
  },
  "nbformat": 4,
  "nbformat_minor": 0
}
