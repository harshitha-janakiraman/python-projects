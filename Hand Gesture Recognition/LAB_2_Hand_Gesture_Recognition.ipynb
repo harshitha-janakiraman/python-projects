{
  "cells": [
    {
      "cell_type": "markdown",
      "metadata": {
        "id": "X6WDvajSqIDs"
      },
      "source": [
        "# Lab 2: Hand Gesture Recognition\n",
        "\n",
        "This lab is based on an assignment developed by Prof. Lisa Zhang.\n",
        "\n",
        "This lab will be completed in two parts. In Part A you will gain experience gathering your own data set (specifically images of hand gestures), and understand the challenges involved in the data cleaning process. In Part B you will train a convolutional neural network to make classifications on different hand gestures. By the end of the lab, you should be able to:\n",
        "\n",
        "1. Generate and preprocess your own data\n",
        "2. Load and split data for training, validation and testing\n",
        "3. Train a Convolutional Neural Network\n",
        "4. Apply transfer learning to improve your model\n",
        "\n",
        "Note that for this lab we will not be providing you with any starter code. You should be able to take the code used in previous labs, tutorials and lectures and modify it accordingly to complete the tasks outlined below.\n",
        "\n",
        "### What to submit\n",
        "\n",
        "**Submission for Part A:**  \n",
        "Submit a zip file containing your images. Three images each of American Sign Language gestures for letters A - I (total of 27 images). You will be required to clean the images before submitting them. Details are provided under Part A of the handout.\n",
        "\n",
        "Individual image file names should follow the convention of student-number_Alphabet_file-number.jpg\n",
        "(e.g. 100343434_A_1.jpg).\n",
        "\n",
        "\n",
        "**Submission for Part B:**  \n",
        "Submit an HTML file containing all your code, outputs, and write-up\n",
        "from parts A and B. You can produce a HTML file directly from Google Colab. The Colab instructions are provided at the end of this document.\n",
        "\n",
        "**Do not submit any other files produced by your code.**\n",
        "\n",
        "Include a link to your colab file in your submission.\n",
        "\n",
        "Please use Google Colab to complete this assignment. If you want to use Jupyter Notebook, please complete the assignment and upload your Jupyter Notebook file to Google Colab for submission. "
      ]
    },
    {
      "cell_type": "markdown",
      "metadata": {
        "id": "LfiFE_WOqIDu"
      },
      "source": [
        "## Colab Link\n",
        "\n",
        "Include a link to your colab file here\n",
        "\n",
        "Colab Link: https://colab.research.google.com/drive/1esTSdMLsJUn0rg7NLbBpj3IpNcBk462m?usp=sharing"
      ]
    },
    {
      "cell_type": "markdown",
      "metadata": {
        "id": "kvTXpH_kqIDy"
      },
      "source": [
        "# Part A. Data Collection [10 pt]\n",
        "\n",
        "So far, we have worked with data sets that have been collected, cleaned, and curated by machine learning\n",
        "researchers and practitioners. Datasets like MNIST and CIFAR are often used as toy examples, both by\n",
        "students and by researchers testing new machine learning models.\n",
        "\n",
        "In the real world, getting a clean data set is never that easy. More than half the work in applying machine\n",
        "learning is finding, gathering, cleaning, and formatting your data set.\n",
        "\n",
        "The purpose of this lab is to help you gain experience gathering your own data set, and understand the\n",
        "challenges involved in the data cleaning process.\n",
        "\n",
        "### American Sign Language\n",
        "\n",
        "American Sign Language (ASL) is a complete, complex language that employs signs made by moving the\n",
        "hands combined with facial expressions and postures of the body. It is the primary language of many\n",
        "North Americans who are deaf and is one of several communication options used by people who are deaf or\n",
        "hard-of-hearing.\n",
        "\n",
        "The hand gestures representing English alphabet are shown below. This lab focuses on classifying a subset\n",
        "of these hand gesture images using convolutional neural networks. Specifically, given an image of a hand\n",
        "showing one of the letters A-I, we want to detect which letter is being represented.\n",
        "\n",
        "![alt text](https://www.disabled-world.com/pics/1/asl-alphabet.jpg)\n",
        "\n",
        "\n",
        "### Generating Data\n",
        "We will produce the images required for this lab by ourselves. Each student will collect, clean and submit\n",
        "three images each of Americal Sign Language gestures for letters A - I (total of 27 images)\n",
        "Steps involved in data collection\n",
        "\n",
        "1. Familiarize yourself with American Sign Language gestures for letters from A - I (9 letters).\n",
        "2. Take three pictures at slightly different orientation for each letter gesture using your\n",
        "mobile phone.\n",
        " - Ensure adequate lighting while you are capturing the images.\n",
        " - Use a white wall as your background.\n",
        " - Use your right hand to create gestures (for consistency).\n",
        " - Keep your right hand fairly apart from your body and any other obstructions.\n",
        " - Avoid having shadows on parts of your hand.\n",
        "3. Transfer the images to your laptop for cleaning.\n",
        "\n",
        "### Cleaning Data\n",
        "To simplify the machine learning the task, we will standardize the training images. We will make sure that\n",
        "all our images are of the same size (224 x 224 pixels RGB), and have the hand in the center of the cropped\n",
        "regions.\n",
        "\n",
        "You may use the following applications to crop and resize your images:\n",
        "\n",
        "**Mac**\n",
        "- Use Preview:\n",
        "– Holding down CMD + Shift will keep a square aspect ratio while selecting the hand area.\n",
        "– Resize to 224x224 pixels.\n",
        "\n",
        "**Windows 10**\n",
        "- Use Photos app to edit and crop the image and keep the aspect ratio a square.\n",
        "- Use Paint to resize the image to the final image size of 224x224 pixels.\n",
        "\n",
        "**Linux**\n",
        "- You can use GIMP, imagemagick, or other tools of your choosing.\n",
        "You may also use online tools such as http://picresize.com\n",
        "All the above steps are illustrative only. You need not follow these steps but following these will ensure that\n",
        "you produce a good quality dataset. You will be judged based on the quality of the images alone.\n",
        "Please do not edit your photos in any other way. You should not need to change the aspect ratio of your\n",
        "image. You also should not digitally remove the background or shadows—instead, take photos with a white\n",
        "background and minimal shadows.\n",
        "\n",
        "### Accepted Images\n",
        "Images will be accepted and graded based on the criteria below\n",
        "1. The final image should be size 224x224 pixels (RGB).\n",
        "2. The file format should be a .jpg file.\n",
        "3. The hand should be approximately centered on the frame.\n",
        "4. The hand should not be obscured or cut off.\n",
        "5. The photos follows the ASL gestures posted earlier.\n",
        "6. The photos were not edited in any other way (e.g. no electronic removal of shadows or background).\n",
        "\n",
        "### Submission\n",
        "Submit a zip file containing your images. There should be a total of 27 images (3 for each category)\n",
        "1. Individual image file names should follow the convention of student-number_Alphabet_file-number.jpg\n",
        "(e.g. 100343434_A_1.jpg)\n",
        "2. Zip all the images together and name it with the following convention: last-name_student-number.zip\n",
        "(e.g. last-name_100343434.zip).\n",
        "3. Submit the zipped folder.\n",
        "We will be anonymizing and combining the images that everyone submits. We will announce when the\n",
        "combined data set will be available for download.\n",
        "\n",
        "![alt text](https://github.com/UTNeural/APS360/blob/master/Gesture%20Images.PNG?raw=true)"
      ]
    },
    {
      "cell_type": "markdown",
      "metadata": {
        "id": "bJxMgWGNqID2"
      },
      "source": [
        "# Part B. Building a CNN [40 pt]\n",
        "\n",
        "For this lab, we are not going to give you any starter code. You will be writing a convolutional neural network\n",
        "from scratch. You are welcome to use any code from previous labs, lectures and tutorials. You should also\n",
        "write your own code.\n",
        "\n",
        "You may use the PyTorch documentation freely. You might also find online tutorials helpful. However, all\n",
        "code that you submit must be your own.\n",
        "\n",
        "Make sure that your code is vectorized, and does not contain obvious inefficiencies (for example, unecessary\n",
        "for loops, or unnecessary calls to unsqueeze()). Ensure enough comments are included in the code so that\n",
        "your TA can understand what you are doing. It is your responsibility to show that you understand what you\n",
        "write.\n",
        "\n",
        "**This is much more challenging and time-consuming than the previous labs.** Make sure that you\n",
        "give yourself plenty of time by starting early."
      ]
    },
    {
      "cell_type": "markdown",
      "metadata": {
        "id": "MiDuQaAh56sT"
      },
      "source": [
        "### Part 1. Data Loading and Splitting [5 pt]\n",
        "\n",
        "Download the anonymized data provided on Quercus. Split the data into training, validation, and test sets.\n",
        "\n",
        "Note: Data splitting is not as trivial in this lab. We want our test set to closely resemble the setting in which\n",
        "our model will be used. In particular, our test set should contain hands that are never seen in training!\n",
        "\n",
        "Explain how you split the data, either by describing what you did, or by showing the code that you used.\n",
        "Justify your choice of splitting strategy. How many training, validation, and test images do you have?\n",
        "\n",
        "For loading the data, you can use plt.imread, or any other method that you choose. You may find\n",
        "torchvision.datasets.ImageFolder helpful. (see https://pytorch.org/docs/master/torchvision/datasets.html#imagefolder\n",
        ") "
      ]
    },
    {
      "cell_type": "markdown",
      "source": [
        "## **What am I doing for splitting the dataset?**\n",
        "\n",
        "1. First, I am creating train, test and validation folders. \n",
        "2. Then, in each of the train, test and validation folders, I am creating seperate folders for the classes A to I. \n",
        "3. Then, I am extracting the name of the files in each folder of the full dataset, and getting the starting number ('ex - 1, 2,.. 72)\n",
        "4. Once I do that, I am keeping all the data whose file name starts from 1 till 71 in the training set. \n",
        "5. From 72 to 82, I am keeping in the test dataset. \n",
        "6. Anything above 82, I am keeping in the validation dataset.\n",
        "\n",
        "I am splitting based on the names of the files so that no particular hand can go to the train andd test/validation set as well. \n",
        "\n",
        "I am keeping the test images to be lesser than validation because I want the model to be exposed to more data in the validation and training phase. \n",
        "\n",
        "Totally, test dataset has 266 images. Validation dataset has 504 images. The train dataset has 1671 images. "
      ],
      "metadata": {
        "id": "GrTLNNm_NtDL"
      }
    },
    {
      "cell_type": "code",
      "execution_count": 3,
      "metadata": {
        "id": "_gxH7OyeDcf7",
        "colab": {
          "base_uri": "https://localhost:8080/"
        },
        "outputId": "3082c7db-1e19-46ec-adf7-d4c2d6190f73"
      },
      "outputs": [
        {
          "output_type": "stream",
          "name": "stdout",
          "text": [
            "Drive already mounted at /content/gdrive; to attempt to forcibly remount, call drive.mount(\"/content/gdrive\", force_remount=True).\n"
          ]
        }
      ],
      "source": [
        "from google.colab import drive\n",
        "drive.mount('/content/gdrive')"
      ]
    },
    {
      "cell_type": "code",
      "execution_count": 4,
      "metadata": {
        "id": "RSVnmjzhDlJF"
      },
      "outputs": [],
      "source": [
        "import numpy as np\n",
        "import time\n",
        "import torch\n",
        "import torch.nn as nn\n",
        "import torch.nn.functional as F\n",
        "import torch.optim as optim\n",
        "import torchvision\n",
        "from torch.utils.data.sampler import SubsetRandomSampler\n",
        "import torchvision.transforms as transforms\n",
        "import os\n",
        "import shutil\n",
        "from torch.utils.data import TensorDataset"
      ]
    },
    {
      "cell_type": "code",
      "execution_count": 5,
      "metadata": {
        "id": "WBrH5kBqRLa6"
      },
      "outputs": [],
      "source": [
        "#creating new folders in the google drive\n",
        "def create_folders(pth):\n",
        "  if not os.path.isdir(pth):\n",
        "      os.makedirs(pth)\n",
        "\n",
        "#splits the dataset based on the number in the file names\n",
        "def split_dataset():\n",
        "    # Creating training, validation and test folders\n",
        "    create_folders('/content/gdrive/MyDrive/Lab 2 Dataset/Lab_2_Hand_Gesture_Dataset/Train')\n",
        "    create_folders('/content/gdrive/MyDrive/Lab 2 Dataset/Lab_2_Hand_Gesture_Dataset/Test')\n",
        "    create_folders('/content/gdrive/MyDrive/Lab 2 Dataset/Lab_2_Hand_Gesture_Dataset/Validation')\n",
        "\n",
        "    #appending the training, test and validation folders with images\n",
        "    for cls in classes:\n",
        "      create_folders(f'/content/gdrive/MyDrive/Lab 2 Dataset/Lab_2_Hand_Gesture_Dataset/Train/{cls}/')\n",
        "      create_folders(f'/content/gdrive/MyDrive/Lab 2 Dataset/Lab_2_Hand_Gesture_Dataset/Test/{cls}/')\n",
        "      create_folders(f'/content/gdrive/MyDrive/Lab 2 Dataset/Lab_2_Hand_Gesture_Dataset/Validation/{cls}/')\n",
        "      temp_fl_list = os.listdir(f'/content/gdrive/MyDrive/Lab 2 Dataset/Lab_2_Hand_Gesture_Dataset/Lab_3b_Gesture_Dataset/{cls}')\n",
        "      for fl in temp_fl_list:\n",
        "          threshold_num = int(fl.split('_')[0])\n",
        "          if threshold_num < 72:\n",
        "              shutil.copy(f'/content/gdrive/MyDrive/Lab 2 Dataset/Lab_2_Hand_Gesture_Dataset/Lab_3b_Gesture_Dataset/{cls}/{fl}', f'/content/gdrive/MyDrive/Lab 2 Dataset/Lab_2_Hand_Gesture_Dataset/Train/{cls}/{fl}')\n",
        "          elif threshold_num >= 72 and threshold_num <= 82:\n",
        "              shutil.copy(f'/content/gdrive/MyDrive/Lab 2 Dataset/Lab_2_Hand_Gesture_Dataset/Lab_3b_Gesture_Dataset/{cls}/{fl}', f'/content/gdrive/MyDrive/Lab 2 Dataset/Lab_2_Hand_Gesture_Dataset/Test/{cls}/{fl}')\n",
        "          else:\n",
        "              shutil.copy(f'/content/gdrive/MyDrive/Lab 2 Dataset/Lab_2_Hand_Gesture_Dataset/Lab_3b_Gesture_Dataset/{cls}/{fl}', f'/content/gdrive/MyDrive/Lab 2 Dataset/Lab_2_Hand_Gesture_Dataset/Validation/{cls}/{fl}')\n",
        "  \n",
        "#loading the data\n",
        "def get_data_loader(pth, batch_size):\n",
        "\n",
        "    transform = transforms.Compose(\n",
        "        [transforms.Resize((224,224)), transforms.ToTensor(),\n",
        "         transforms.Normalize((0.5, 0.5, 0.5), (0.5, 0.5, 0.5))])\n",
        "    \n",
        "    # Load  training data\n",
        "    tempset = torchvision.datasets.ImageFolder(pth, transform=transform)\n",
        "    temp_sampler = SubsetRandomSampler([*range(0,len(tempset.samples))])\n",
        "    temp_loader = torch.utils.data.DataLoader(tempset, batch_size=batch_size, num_workers=1, sampler=temp_sampler)\n",
        "\n",
        "    return temp_loader"
      ]
    },
    {
      "cell_type": "code",
      "source": [
        "classes = ('A', 'B', 'C', 'D',\n",
        "               'E', 'F', 'G', 'H', 'I')"
      ],
      "metadata": {
        "id": "VmYyMbawgiLv"
      },
      "execution_count": 17,
      "outputs": []
    },
    {
      "cell_type": "code",
      "source": [
        "split_dataset()"
      ],
      "metadata": {
        "id": "7HzVwODLt4nb"
      },
      "execution_count": 18,
      "outputs": []
    },
    {
      "cell_type": "code",
      "source": [
        "train_data_loader = get_data_loader('/content/gdrive/MyDrive/Lab 2 Dataset/Lab_2_Hand_Gesture_Dataset/Train', 1)\n",
        "test_data_loader = get_data_loader('/content/gdrive/MyDrive/Lab 2 Dataset/Lab_2_Hand_Gesture_Dataset/Test', 1)\n",
        "val_data_loader = get_data_loader('/content/gdrive/MyDrive/Lab 2 Dataset/Lab_2_Hand_Gesture_Dataset/Validation', 1)"
      ],
      "metadata": {
        "id": "uvnQmzFge-Kn"
      },
      "execution_count": null,
      "outputs": []
    },
    {
      "cell_type": "markdown",
      "metadata": {
        "id": "5VWX4DGY5gQE"
      },
      "source": [
        "### Part 2. Model Building and Sanity Checking [9 pt]\n",
        "\n",
        "### Part (a) Convolutional Network - 3 pt\n",
        "\n",
        "Build a convolutional neural network model that takes the (224x224 RGB) image as input, and predicts the gesture\n",
        "letter. Your model should be a subclass of nn.Module. Explain your choice of neural network architecture: how\n",
        "many layers did you choose? What types of layers did you use? Were they fully-connected or convolutional?\n",
        "What about other decisions like pooling layers, activation functions, number of channels / hidden units?"
      ]
    },
    {
      "cell_type": "markdown",
      "source": [
        "I am choosing three convolutional layers and two linear layers for my architecture. The reason I am also adding the convolutional layers is because, convolutional layer is able to extract the different features in the images effectively without any lose of information. By identifying the different patterns in the images, it is aiding the linear layers to extract features for more efficient classification of the images. \n",
        "\n",
        "I am using pooling layer of 5,5 because I want to reduce the dimensions of the feature map, therfore reducing the number of parameters and the computational complexity. \n",
        "\n",
        "I am using 1 hidden layer. I am also using ReLu as the activation function as it has been empirically proven to be faster in converging and hence reduces the time and computational complexity.\n",
        "\n",
        "As I am having a larger pooling layer, I could afford to increase the number of output channels and hence I am doing that to gain more information, while also not drastically increasing the number of parameters. "
      ],
      "metadata": {
        "id": "aGyF4IXZ0fTq"
      }
    },
    {
      "cell_type": "code",
      "execution_count": null,
      "metadata": {
        "id": "2dtx1z5951fS"
      },
      "outputs": [],
      "source": [
        "#defining the structure\n",
        "class letterclassifier(nn.Module):\n",
        "    def __init__(self):\n",
        "        super(letterclassifier, self).__init__()\n",
        "        self.name = \"letterclassifier\"\n",
        "        self.conv1 = nn.Conv2d(3, 5, 5)\n",
        "        self.pool = nn.MaxPool2d(5, 5)\n",
        "        self.conv2 = nn.Conv2d(5, 7, 3)\n",
        "        self.conv3 = nn.Conv2d(7, 14, 3)\n",
        "        self.fc1 = nn.Linear(14, 200)\n",
        "        self.fc2 = nn.Linear(200, 9)\n",
        "\n",
        "    def forward(self, x):\n",
        "        x = self.pool(F.relu(self.conv1(x)))\n",
        "        x = self.pool(F.relu(self.conv2(x)))\n",
        "        x = self.pool(F.relu(self.conv3(x)))\n",
        "        x = x.view(-1, 14)\n",
        "        x = F.relu(self.fc1(x))\n",
        "        x = self.fc2(x)\n",
        "        return x"
      ]
    },
    {
      "cell_type": "markdown",
      "metadata": {
        "id": "XeGvelvb515e"
      },
      "source": [
        "### Part (b) Training Code - 3 pt\n",
        "\n",
        "Write code that trains your neural network given some training data. Your training code should make it easy\n",
        "to tweak the usual hyperparameters, like batch size, learning rate, and the model object itself. Make sure\n",
        "that you are checkpointing your models from time to time (the frequency is up to you). Explain your choice\n",
        "of loss function and optimizer."
      ]
    },
    {
      "cell_type": "markdown",
      "source": [
        "**Loss function:**\n",
        "I am using Cross Entropy Loss function because cross entropy results in a smooth reduction in loss as we move from bad predictions to good predictions and aids in minimizing the loss, as opposed to something like Mean Squared error which actually increases even when the model predicts the right class with high probability. \n",
        "\n",
        "**Optimizer**: I ams using Adam's Optimizer because it is easy to implement, works well with noisy gradients, large datasets and large parameters. "
      ],
      "metadata": {
        "id": "Ab-upKeXVFkz"
      }
    },
    {
      "cell_type": "code",
      "execution_count": 49,
      "metadata": {
        "id": "17YTQv4l54W1"
      },
      "outputs": [],
      "source": [
        "#this function can get the accuracy of the train/val or test loader and loss also if needed. \n",
        "\n",
        "def get_accuracy(model, train_loader, val_loader, test_loader, train=False, test = False, loss = False, criterion = None, sanity_check = False):\n",
        "    \n",
        "    use_cuda = True\n",
        "    if train or sanity_check:\n",
        "        data = train_loader\n",
        "    else:\n",
        "        data = val_loader\n",
        "\n",
        "    if test:\n",
        "      data = test_loader\n",
        "\n",
        "    correct = 0\n",
        "    total = 0\n",
        "    loss_ = 0\n",
        "    c = 0\n",
        "    if loss == True:\n",
        "      for imgs, labels in data:\n",
        "\n",
        "        #############################################\n",
        "        #To Enable GPU Usage\n",
        "          if use_cuda and torch.cuda.is_available():\n",
        "            imgs = imgs.cuda()\n",
        "            labels = labels.cuda()\n",
        "        #############################################\n",
        "          c+=1\n",
        "          output = model(imgs)\n",
        "          loss_ = criterion(output, labels)\n",
        "          loss_ += loss_.item()\n",
        "          #select index with maximum prediction score\n",
        "          pred = output.max(1, keepdim=True)[1]\n",
        "          correct += pred.eq(labels.view_as(pred)).sum().item()\n",
        "          total += imgs.shape[0]\n",
        "          return correct / total, float(loss_) / (c)\n",
        "    if loss == False:\n",
        "      for imgs, labels in data:\n",
        "        #############################################\n",
        "        #To Enable GPU Usage\n",
        "        if use_cuda and torch.cuda.is_available():\n",
        "            imgs = imgs.cuda()\n",
        "            labels = labels.cuda()\n",
        "        #############################################\n",
        "        c+=1\n",
        "        output = model(imgs)\n",
        "        #select index with maximum prediction score\n",
        "        pred = output.max(1, keepdim=True)[1]\n",
        "        correct += pred.eq(labels.view_as(pred)).sum().item()\n",
        "        total += imgs.shape[0]\n",
        "      return correct / total \n",
        "\n"
      ]
    },
    {
      "cell_type": "code",
      "execution_count": 7,
      "metadata": {
        "id": "IZJTX2hgNf3j"
      },
      "outputs": [],
      "source": [
        "#this code gets the name of the model\n",
        "def get_model_name(name, batch_size, learning_rate, epoch):\n",
        "    \"\"\" Generate a name for the model consisting of all the hyperparameter values\n",
        "\n",
        "    Args:\n",
        "        config: Configuration object containing the hyperparameters\n",
        "    Returns:\n",
        "        path: A string with the hyperparameter name and value concatenated\n",
        "    \"\"\"\n",
        "    path = \"model_{0}_bs{1}_lr{2}_epoch{3}\".format(name,\n",
        "                                                   batch_size,\n",
        "                                                   learning_rate,\n",
        "                                                   epoch)\n",
        "    return path\n"
      ]
    },
    {
      "cell_type": "code",
      "execution_count": 8,
      "metadata": {
        "id": "S02-RP6rNoxq"
      },
      "outputs": [],
      "source": [
        "#this code plots the training accuracy and loss curve of the model\n",
        "def plot_training_curve(path):\n",
        "    \"\"\" Plots the training curve for a model run, given the csv files\n",
        "    containing the train/validation error/loss.\n",
        "\n",
        "    Args:\n",
        "        path: The base path of the csv files produced during training\n",
        "    \"\"\"\n",
        "    import matplotlib.pyplot as plt\n",
        "    train_err = np.loadtxt(\"{}_train_acc.csv\".format(path))\n",
        "    val_err = np.loadtxt(\"{}_val_acc.csv\".format(path))\n",
        "    train_loss = np.loadtxt(\"{}_train_loss.csv\".format(path))\n",
        "    val_loss = np.loadtxt(\"{}_val_loss.csv\".format(path))\n",
        "    plt.title(\"Train vs Validation Error\")\n",
        "    n = len(train_err) # number of epochs\n",
        "    plt.plot(range(1,n+1), train_err, label=\"Train\")\n",
        "    plt.plot(range(1,n+1), val_err, label=\"Validation\")\n",
        "    plt.xlabel(\"Epoch\")\n",
        "    plt.ylabel(\"Accuracy\")\n",
        "    plt.legend(loc='best')\n",
        "    plt.show()\n",
        "    plt.title(\"Train vs Validation Loss\")\n",
        "    plt.plot(range(1,n+1), train_loss, label=\"Train\")\n",
        "    plt.plot(range(1,n+1), val_loss, label=\"Validation\")\n",
        "    plt.xlabel(\"Epoch\")\n",
        "    plt.ylabel(\"Loss\")\n",
        "    plt.legend(loc='best')\n",
        "    plt.show()"
      ]
    },
    {
      "cell_type": "code",
      "execution_count": 9,
      "metadata": {
        "id": "mj3lMFqfOtTq"
      },
      "outputs": [],
      "source": [
        "#This function is trains the neural network based on the batch size, epochs and the learning rates \n",
        "def train_net(net, batch_size=64, learning_rate=0.01, num_epochs=30, transfer_learning = False):\n",
        "    #use_cuda = True\n",
        "    classes = ('A', 'B', 'C', 'D',\n",
        "               'E', 'F', 'G', 'H', 'I', 'J')\n",
        "    # Fixed PyTorch random seed for reproducible result\n",
        "    torch.manual_seed(1000)\n",
        "    ########################################################################\n",
        "\n",
        "    if transfer_learning == True:\n",
        "      train_feature = torch.load('/content/gdrive/MyDrive/Lab 2 Dataset/features_train.pt')\n",
        "      val_feature = torch.load('/content/gdrive/MyDrive/Lab 2 Dataset/features_val.pt')\n",
        "      test_feature = torch.load('/content/gdrive/MyDrive/Lab 2 Dataset/features_test.pt')\n",
        "      train_labels = torch.load('/content/gdrive/MyDrive/Lab 2 Dataset/labels_train.pt')\n",
        "      val_labels = torch.load('/content/gdrive/MyDrive/Lab 2 Dataset/labels_val.pt')\n",
        "      test_labels = torch.load('/content/gdrive/MyDrive/Lab 2 Dataset/labels_test.pt')\n",
        "      train_loader = torch.utils.data.DataLoader(TensorDataset(train_feature, train_labels), batch_size=batch_size)\n",
        "      val_loader = torch.utils.data.DataLoader(TensorDataset(val_feature, val_labels), batch_size=batch_size)\n",
        "      test_loader = torch.utils.data.DataLoader(TensorDataset(test_feature, test_labels), batch_size=batch_size)\n",
        "    else:\n",
        "      train_loader = get_data_loader('/content/gdrive/MyDrive/Lab 2 Dataset/Lab_2_Hand_Gesture_Dataset/Train', batch_size)\n",
        "      test_loader = get_data_loader('/content/gdrive/MyDrive/Lab 2 Dataset/Lab_2_Hand_Gesture_Dataset/Test', batch_size)\n",
        "      val_loader = get_data_loader('/content/gdrive/MyDrive/Lab 2 Dataset/Lab_2_Hand_Gesture_Dataset/Validation', batch_size)\n",
        "\n",
        "    # Define the Loss function and optimizer\n",
        "    # Optimizer will be SGD with Momentum.\n",
        "    criterion = nn.CrossEntropyLoss()\n",
        "    #optimizer = optim.SGD(net.parameters(), lr=learning_rate, momentum=0.9)\n",
        "    optimizer = optim.Adam(net.parameters(), lr=learning_rate, betas=(0.9, 0.999), eps=1e-08, weight_decay=0, amsgrad=False)\n",
        "\n",
        "    ########################################################################\n",
        "    # Set up some numpy arrays to store the training/test loss/erruracy\n",
        "    train_acc = np.zeros(num_epochs)\n",
        "    train_loss = np.zeros(num_epochs)\n",
        "    val_acc = np.zeros(num_epochs)\n",
        "    val_loss = np.zeros(num_epochs)\n",
        "    ########################################################################\n",
        "\n",
        "    # Train the network\n",
        "    # Loop over the data iterator and sample a new batch of training data\n",
        "    # Get the output from the network, and optimize our loss function.\n",
        "    start_time = time.time()\n",
        "    for epoch in range(num_epochs):  # loop over the dataset multiple times\n",
        "        total_train_loss = 0.0\n",
        "        total_train_acc = 0.0\n",
        "        total_epoch = 0\n",
        "        for i, data in enumerate(train_loader, 0):\n",
        "            # Get the inputs\n",
        "            inputs, labels = data\n",
        "            \n",
        "            #############################################\n",
        "            #To Enable GPU Usage\n",
        "            if use_cuda and torch.cuda.is_available():\n",
        "              inputs = inputs.cuda()\n",
        "              labels = labels.cuda()\n",
        "            #############################################\n",
        "            \n",
        "            # Zero the parameter gradients\n",
        "            optimizer.zero_grad()\n",
        "            # Forward pass, backward pass, and optimize\n",
        "            outputs = net(inputs)\n",
        "            loss = criterion(outputs, labels)\n",
        "            loss.backward()\n",
        "            optimizer.step()\n",
        "            # Calculate the statistics\n",
        "            total_train_loss += loss.item()\n",
        "            total_epoch += len(labels)\n",
        "\n",
        "        train_loss[epoch] = float(total_train_loss) / (i+1)\n",
        "        train_acc[epoch] = get_accuracy(net, train_loader, val_loader, test_loader, train=True, test = False)\n",
        "\n",
        "        with torch.no_grad():\n",
        "          val_acc[epoch], val_loss[epoch] = get_accuracy(net, train_loader, val_loader, test_loader, train=False, test = False, loss = True, criterion= criterion)\n",
        "        print((\"Epoch {}: Train acc: {}, Train loss: {} |\"+\n",
        "               \"Validation acc: {}, Validation loss: {}\").format(\n",
        "                   epoch + 1,\n",
        "                   train_acc[epoch],\n",
        "                   train_loss[epoch],\n",
        "                   val_acc[epoch],\n",
        "                   val_loss[epoch]))\n",
        "        \n",
        "        # Save the current model (checkpoint) to a file\n",
        "        model_path = get_model_name(net.name, batch_size, learning_rate, epoch)\n",
        "\n",
        "        torch.save(net.state_dict(), model_path)\n",
        "    print('Finished Training')\n",
        "    end_time = time.time()\n",
        "    elapsed_time = end_time - start_time\n",
        "    print(\"Total time elapsed: {:.2f} seconds\".format(elapsed_time))\n",
        "\n",
        "    # Write the train/test loss/err into CSV file for plotting later\n",
        "    epochs = np.arange(1, num_epochs + 1)\n",
        "    np.savetxt(\"{}_train_acc.csv\".format(model_path), train_acc)\n",
        "    np.savetxt(\"{}_train_loss.csv\".format(model_path), train_loss)\n",
        "    np.savetxt(\"{}_val_acc.csv\".format(model_path), val_acc)\n",
        "    np.savetxt(\"{}_val_loss.csv\".format(model_path), val_loss)"
      ]
    },
    {
      "cell_type": "code",
      "execution_count": null,
      "metadata": {
        "id": "7wk6AfYpcwN_",
        "colab": {
          "base_uri": "https://localhost:8080/"
        },
        "outputId": "21040a98-e8b0-4516-fc42-dda5d996a6be"
      },
      "outputs": [
        {
          "output_type": "stream",
          "name": "stdout",
          "text": [
            "CUDA is available!  Training on GPU ...\n"
          ]
        }
      ],
      "source": [
        "use_cuda = True\n",
        "\n",
        "net = letterclassifier()\n",
        "\n",
        "if use_cuda and torch.cuda.is_available():\n",
        "  net.cuda()\n",
        "  print('CUDA is available!  Training on GPU ...')\n",
        "else:\n",
        "  print('CUDA is not available.  Training on CPU ...')\n"
      ]
    },
    {
      "cell_type": "code",
      "execution_count": null,
      "metadata": {
        "colab": {
          "base_uri": "https://localhost:8080/"
        },
        "id": "YngdcUuwcosb",
        "outputId": "2f8a257e-82bc-4bf5-bd9b-4fae69eb7e9f"
      },
      "outputs": [
        {
          "output_type": "stream",
          "name": "stdout",
          "text": [
            "Epoch 1: Train acc: 0.22034918723660446, Train loss: 2.156548390021691 |Validation acc: 0.28125, Validation loss: 3.7341935634613037\n",
            "Epoch 2: Train acc: 0.4370860927152318, Train loss: 1.8105918352420514 |Validation acc: 0.4375, Validation loss: 2.8824191093444824\n",
            "Epoch 3: Train acc: 0.5665261890427453, Train loss: 1.4819550147423377 |Validation acc: 0.515625, Validation loss: 2.4080471992492676\n",
            "Epoch 4: Train acc: 0.605057194461168, Train loss: 1.2538354213421161 |Validation acc: 0.5703125, Validation loss: 2.2206382751464844\n",
            "Epoch 5: Train acc: 0.6447922937989163, Train loss: 1.08313656770266 |Validation acc: 0.6953125, Validation loss: 1.692769169807434\n",
            "Epoch 6: Train acc: 0.6556291390728477, Train loss: 0.9671427836784949 |Validation acc: 0.53125, Validation loss: 2.1917014122009277\n",
            "Epoch 7: Train acc: 0.7332931968693558, Train loss: 0.8501504613802984 |Validation acc: 0.671875, Validation loss: 1.9047703742980957\n",
            "Epoch 8: Train acc: 0.7700180614087899, Train loss: 0.7322255097902738 |Validation acc: 0.75, Validation loss: 1.5116379261016846\n",
            "Epoch 9: Train acc: 0.7910897049969897, Train loss: 0.6584877967834473 |Validation acc: 0.6953125, Validation loss: 1.7141910791397095\n",
            "Epoch 10: Train acc: 0.7724262492474413, Train loss: 0.6207841634750366 |Validation acc: 0.734375, Validation loss: 1.7736365795135498\n",
            "Epoch 11: Train acc: 0.822998193859121, Train loss: 0.5688063846184657 |Validation acc: 0.734375, Validation loss: 1.8869558572769165\n",
            "Epoch 12: Train acc: 0.8332329921733895, Train loss: 0.5095716577309829 |Validation acc: 0.703125, Validation loss: 1.576411247253418\n",
            "Epoch 13: Train acc: 0.831426851294401, Train loss: 0.4868994836623852 |Validation acc: 0.796875, Validation loss: 1.3529951572418213\n",
            "Epoch 14: Train acc: 0.8512944009632751, Train loss: 0.4243040199463184 |Validation acc: 0.7578125, Validation loss: 1.8306732177734375\n",
            "Epoch 15: Train acc: 0.892835641180012, Train loss: 0.3871470047877385 |Validation acc: 0.765625, Validation loss: 1.703757882118225\n",
            "Epoch 16: Train acc: 0.8807947019867549, Train loss: 0.3757743239402771 |Validation acc: 0.78125, Validation loss: 1.3266576528549194\n",
            "Epoch 17: Train acc: 0.876580373269115, Train loss: 0.3791742485303145 |Validation acc: 0.7890625, Validation loss: 1.6660308837890625\n",
            "Epoch 18: Train acc: 0.893437688139675, Train loss: 0.35037802503659177 |Validation acc: 0.8203125, Validation loss: 1.1965630054473877\n",
            "Epoch 19: Train acc: 0.8807947019867549, Train loss: 0.3322373193043929 |Validation acc: 0.765625, Validation loss: 1.9465157985687256\n",
            "Epoch 20: Train acc: 0.8621312462372065, Train loss: 0.3399994889130959 |Validation acc: 0.7890625, Validation loss: 1.4883149862289429\n",
            "Epoch 21: Train acc: 0.8627332931968693, Train loss: 0.36081438110424924 |Validation acc: 0.7890625, Validation loss: 1.676029086112976\n",
            "Epoch 22: Train acc: 0.9199277543648404, Train loss: 0.3332217014752902 |Validation acc: 0.7890625, Validation loss: 1.9074914455413818\n",
            "Epoch 23: Train acc: 0.925948223961469, Train loss: 0.2737729194072577 |Validation acc: 0.828125, Validation loss: 1.4038203954696655\n",
            "Epoch 24: Train acc: 0.9319686935580975, Train loss: 0.24123399418133956 |Validation acc: 0.78125, Validation loss: 1.4722256660461426\n",
            "Epoch 25: Train acc: 0.9446116797110174, Train loss: 0.20752728558503664 |Validation acc: 0.7890625, Validation loss: 1.848652720451355\n",
            "Epoch 26: Train acc: 0.954846478025286, Train loss: 0.17545428356299034 |Validation acc: 0.765625, Validation loss: 2.28336238861084\n",
            "Epoch 27: Train acc: 0.9409993979530403, Train loss: 0.16635662546524635 |Validation acc: 0.7890625, Validation loss: 2.727658987045288\n",
            "Epoch 28: Train acc: 0.909692956050572, Train loss: 0.1874596465092439 |Validation acc: 0.7734375, Validation loss: 2.26183819770813\n",
            "Epoch 29: Train acc: 0.909692956050572, Train loss: 0.23823546102413765 |Validation acc: 0.796875, Validation loss: 1.7117283344268799\n",
            "Epoch 30: Train acc: 0.963275135460566, Train loss: 0.21462064408338988 |Validation acc: 0.78125, Validation loss: 1.8929553031921387\n",
            "Finished Training\n",
            "Total time elapsed: 609.03 seconds\n"
          ]
        }
      ],
      "source": [
        "train_net(net, batch_size=128, learning_rate=0.01, num_epochs=30)"
      ]
    },
    {
      "cell_type": "code",
      "source": [
        "model_path_1 = get_model_name(\"letterclassifier\", batch_size=128, learning_rate=0.01, epoch=29)\n",
        "plot_training_curve(model_path_1)"
      ],
      "metadata": {
        "colab": {
          "base_uri": "https://localhost:8080/",
          "height": 573
        },
        "id": "gxTPtruC2Tsw",
        "outputId": "0545e799-b0ae-4a0b-9b4d-78a45012ea49"
      },
      "execution_count": null,
      "outputs": [
        {
          "output_type": "display_data",
          "data": {
            "image/png": "[encoded data removed]",
            "text/plain": [
              "<Figure size 432x288 with 1 Axes>"
            ]
          },
          "metadata": {
            "needs_background": "light"
          }
        },
        {
          "output_type": "display_data",
          "data": {
            "image/png": "[encoded data removed]",
            "text/plain": [
              "<Figure size 432x288 with 1 Axes>"
            ]
          },
          "metadata": {
            "needs_background": "light"
          }
        }
      ]
    },
    {
      "cell_type": "markdown",
      "metadata": {
        "id": "bk1RNgAj54rZ"
      },
      "source": [
        "### Part (c) “Overfit” to a Small Dataset - 3 pt\n",
        "\n",
        "One way to sanity check our neural network model and training code is to check whether the model is capable\n",
        "of “overfitting” or “memorizing” a small dataset. A properly constructed CNN with correct training code\n",
        "should be able to memorize the answers to a small number of images quickly.\n",
        "\n",
        "Construct a small dataset (e.g. just the images that you have collected). Then show that your model and\n",
        "training code is capable of memorizing the labels of this small data set.\n",
        "\n",
        "With a large batch size (e.g. the entire small dataset) and learning rate that is not too high, You should be\n",
        "able to obtain a 100% training accuracy on that small dataset relatively quickly (within 200 iterations)."
      ]
    },
    {
      "cell_type": "code",
      "execution_count": null,
      "metadata": {
        "id": "lXYRBhQO6d3u"
      },
      "outputs": [],
      "source": [
        "sample_data = get_data_loader('/content/gdrive/MyDrive/Lab 2 Dataset/Janakiraman_1007397158', 27)\n",
        "\n",
        "#just to feed inputs to my get_accuracy function, I will not be using it here\n",
        "test_loader = get_data_loader('/content/gdrive/MyDrive/Lab 2 Dataset/Lab_2_Hand_Gesture_Dataset/Test', 27)\n",
        "val_loader = get_data_loader('/content/gdrive/MyDrive/Lab 2 Dataset/Lab_2_Hand_Gesture_Dataset/Validation', 27)"
      ]
    },
    {
      "cell_type": "code",
      "source": [
        "use_cuda = True\n",
        "\n",
        "net = letterclassifier()\n",
        "\n",
        "if use_cuda and torch.cuda.is_available():\n",
        "  net.cuda()\n",
        "  print('CUDA is available!  Training on GPU ...')\n",
        "else:\n",
        "  print('CUDA is not available.  Training on CPU ...')"
      ],
      "metadata": {
        "colab": {
          "base_uri": "https://localhost:8080/"
        },
        "id": "qooc_wQbM1Xd",
        "outputId": "c47d9fa3-42de-4379-a6be-44168692c46f"
      },
      "execution_count": null,
      "outputs": [
        {
          "output_type": "stream",
          "name": "stdout",
          "text": [
            "CUDA is available!  Training on GPU ...\n"
          ]
        }
      ]
    },
    {
      "cell_type": "code",
      "source": [
        "num_epochs = 30\n",
        "# Define the Loss function and optimizer\n",
        "# Optimizer will be SGD with Momentum.\n",
        "criterion = nn.CrossEntropyLoss()\n",
        "#optimizer = optim.SGD(net.parameters(), lr=learning_rate, momentum=0.9)\n",
        "optimizer = optim.Adam(net.parameters(), lr=0.01, betas=(0.9, 0.999), eps=1e-08, weight_decay=0, amsgrad=False)\n",
        "\n",
        "########################################################################\n",
        "# Set up some numpy arrays to store the training/test loss/erruracy\n",
        "train_acc = np.zeros(num_epochs)\n",
        "train_loss = np.zeros(num_epochs)\n",
        "########################################################################\n",
        "\n",
        "# Train the network\n",
        "# Loop over the data iterator and sample a new batch of training data\n",
        "# Get the output from the network, and optimize our loss function.\n",
        "start_time = time.time()\n",
        "for epoch in range(num_epochs):  # loop over the dataset multiple times\n",
        "    total_train_loss = 0.0\n",
        "    total_train_acc = 0.0\n",
        "    total_epoch = 0\n",
        "    for i, data in enumerate(sample_data, 0):\n",
        "        # Get the inputs\n",
        "        inputs, labels = data\n",
        "        \n",
        "        #############################################\n",
        "        #To Enable GPU Usage\n",
        "        if use_cuda and torch.cuda.is_available():\n",
        "          inputs = inputs.cuda()\n",
        "          labels = labels.cuda()\n",
        "        #############################################\n",
        "        \n",
        "        # Zero the parameter gradients\n",
        "        optimizer.zero_grad()\n",
        "        # Forward pass, backward pass, and optimize\n",
        "        outputs = net(inputs)\n",
        "        loss = criterion(outputs, labels)\n",
        "        loss.backward()\n",
        "        optimizer.step()\n",
        "        # Calculate the statistics\n",
        "        total_train_loss += loss.item()\n",
        "        total_epoch += len(labels)\n",
        "\n",
        "    train_loss[epoch] = float(total_train_loss) / (i+1)\n",
        "    train_acc[epoch] = get_accuracy(net, sample_data, val_loader, test_loader, train=True, test = False, sanity_check= True)\n",
        "\n",
        "    print((\"Epoch {}: Train acc: {}, Train loss: {}\").format(\n",
        "                epoch + 1,\n",
        "                train_acc[epoch],\n",
        "                train_loss[epoch]))\n",
        "    \n",
        "    # Save the current model (checkpoint) to a file\n",
        "    model_path = get_model_name(net.name, 27, 0.01, epoch)\n",
        "\n",
        "    torch.save(net.state_dict(), model_path)\n",
        "print('Finished Training')\n",
        "end_time = time.time()\n",
        "elapsed_time = end_time - start_time\n",
        "print(\"Total time elapsed: {:.2f} seconds\".format(elapsed_time))"
      ],
      "metadata": {
        "colab": {
          "base_uri": "https://localhost:8080/"
        },
        "id": "Gk6pAhixNR8W",
        "outputId": "4e562daa-34af-4837-9b2d-7c7607d5be6a"
      },
      "execution_count": null,
      "outputs": [
        {
          "output_type": "stream",
          "name": "stdout",
          "text": [
            "Epoch 1: Train acc: 0.1111111111111111, Train loss: 2.2026631832122803\n",
            "Epoch 2: Train acc: 0.14814814814814814, Train loss: 2.195122003555298\n",
            "Epoch 3: Train acc: 0.2222222222222222, Train loss: 2.18453311920166\n",
            "Epoch 4: Train acc: 0.2222222222222222, Train loss: 2.1593778133392334\n",
            "Epoch 5: Train acc: 0.5555555555555556, Train loss: 2.10915207862854\n",
            "Epoch 6: Train acc: 0.8148148148148148, Train loss: 2.032367467880249\n",
            "Epoch 7: Train acc: 0.5925925925925926, Train loss: 1.9008382558822632\n",
            "Epoch 8: Train acc: 0.7777777777777778, Train loss: 1.6991959810256958\n",
            "Epoch 9: Train acc: 0.8888888888888888, Train loss: 1.4051148891448975\n",
            "Epoch 10: Train acc: 0.9259259259259259, Train loss: 1.049694299697876\n",
            "Epoch 11: Train acc: 0.9629629629629629, Train loss: 0.6979601383209229\n",
            "Epoch 12: Train acc: 0.9629629629629629, Train loss: 0.4151417016983032\n",
            "Epoch 13: Train acc: 0.9629629629629629, Train loss: 0.24040943384170532\n",
            "Epoch 14: Train acc: 0.9629629629629629, Train loss: 0.14290882647037506\n",
            "Epoch 15: Train acc: 0.9629629629629629, Train loss: 0.11112803220748901\n",
            "Epoch 16: Train acc: 1.0, Train loss: 0.11469278484582901\n",
            "Epoch 17: Train acc: 1.0, Train loss: 0.022740855813026428\n",
            "Epoch 18: Train acc: 1.0, Train loss: 0.050826288759708405\n",
            "Epoch 19: Train acc: 0.9629629629629629, Train loss: 0.005360271316021681\n",
            "Epoch 20: Train acc: 1.0, Train loss: 0.05128506198525429\n",
            "Epoch 21: Train acc: 1.0, Train loss: 0.0005882353289052844\n",
            "Epoch 22: Train acc: 1.0, Train loss: 0.0009352877968922257\n",
            "Epoch 23: Train acc: 1.0, Train loss: 0.015079732052981853\n",
            "Epoch 24: Train acc: 1.0, Train loss: 0.002562715206295252\n",
            "Epoch 25: Train acc: 1.0, Train loss: 0.0002443657722324133\n",
            "Epoch 26: Train acc: 1.0, Train loss: 5.903875717194751e-05\n",
            "Epoch 27: Train acc: 1.0, Train loss: 2.8607186322915368e-05\n",
            "Epoch 28: Train acc: 1.0, Train loss: 2.7892752768821083e-05\n",
            "Epoch 29: Train acc: 1.0, Train loss: 5.2967552619520575e-05\n",
            "Epoch 30: Train acc: 1.0, Train loss: 0.00013404259516391903\n",
            "Finished Training\n",
            "Total time elapsed: 19.27 seconds\n"
          ]
        }
      ]
    },
    {
      "cell_type": "markdown",
      "source": [
        "It can be seen that we a 100% training accuracy has been achieved. "
      ],
      "metadata": {
        "id": "v6BZHwWNZXvj"
      }
    },
    {
      "cell_type": "markdown",
      "metadata": {
        "id": "nvDLw-Vz6eVS"
      },
      "source": [
        "### Part 3. Hyperparameter Search [8 pt]\n",
        "\n",
        "### Part (a) - 2 pt\n",
        "\n",
        "List 3 hyperparameters that you think are most worth tuning. Choose at least one hyperparameter related to\n",
        "the model architecture."
      ]
    },
    {
      "cell_type": "markdown",
      "source": [
        "The three hyperparameters I am choosing are \n",
        "1. Number of convolutional and linear layers \n",
        "2. Batch size \n",
        "3. Learning rate"
      ],
      "metadata": {
        "id": "r-2S-rXcj3dy"
      }
    },
    {
      "cell_type": "markdown",
      "metadata": {
        "id": "zeD6EzPB6kSW"
      },
      "source": [
        "### Part (b) - 2 pt\n",
        "\n",
        "Tune the hyperparameters you listed in Part (a), trying as many values as you need to until you feel satisfied\n",
        "that you are getting a good model. Plot the training curve of at least 4 different hyperparameter settings."
      ]
    },
    {
      "cell_type": "code",
      "source": [
        "#Using my previously used model as the base architecture, I am checking what happens if I reduce the number of convolutional layers\n",
        "class letterclassifier(nn.Module):\n",
        "    def __init__(self):\n",
        "        super(letterclassifier, self).__init__()\n",
        "        self.name = \"letterclassifier\"\n",
        "        self.conv1 = nn.Conv2d(3, 5, 5)\n",
        "        self.pool = nn.MaxPool2d(5, 5)\n",
        "        self.conv2 = nn.Conv2d(5, 7, 3)\n",
        "        self.fc1 = nn.Linear(448, 200)\n",
        "        self.fc2 = nn.Linear(200, 9)\n",
        "\n",
        "    def forward(self, x):\n",
        "        x = self.pool(F.relu(self.conv1(x)))\n",
        "        x = self.pool(F.relu(self.conv2(x)))\n",
        "        x = x.view(-1, 448)\n",
        "        x = F.relu(self.fc1(x))\n",
        "        x = self.fc2(x)\n",
        "        return x"
      ],
      "metadata": {
        "id": "yc96VZBwPoce"
      },
      "execution_count": null,
      "outputs": []
    },
    {
      "cell_type": "code",
      "source": [
        "use_cuda = True\n",
        "\n",
        "net = letterclassifier()\n",
        "\n",
        "if use_cuda and torch.cuda.is_available():\n",
        "  net.cuda()\n",
        "  print('CUDA is available!  Training on GPU ...')\n",
        "else:\n",
        "  print('CUDA is not available.  Training on CPU ...')"
      ],
      "metadata": {
        "colab": {
          "base_uri": "https://localhost:8080/"
        },
        "id": "fChSLeU-QNFy",
        "outputId": "0c89f1e8-517b-4629-d673-7a2b76d488fa"
      },
      "execution_count": null,
      "outputs": [
        {
          "output_type": "stream",
          "name": "stdout",
          "text": [
            "CUDA is available!  Training on GPU ...\n"
          ]
        }
      ]
    },
    {
      "cell_type": "code",
      "source": [
        "train_net(net, batch_size=128, learning_rate=0.01, num_epochs=30)"
      ],
      "metadata": {
        "id": "4b3aKIilVY3m",
        "colab": {
          "base_uri": "https://localhost:8080/"
        },
        "outputId": "2ab548b0-6240-4d4e-e3be-2090f5a8ab02"
      },
      "execution_count": null,
      "outputs": [
        {
          "output_type": "stream",
          "name": "stdout",
          "text": [
            "Epoch 1: Train acc: 0.5310054184226369, Train loss: 1.8625348714681773 |Validation acc: 0.484375, Validation loss: 2.8335020542144775\n",
            "Epoch 2: Train acc: 0.6779048765803732, Train loss: 1.1791765002103953 |Validation acc: 0.6484375, Validation loss: 2.146699905395508\n",
            "Epoch 3: Train acc: 0.7784467188440698, Train loss: 0.8717764845261207 |Validation acc: 0.7734375, Validation loss: 1.5083072185516357\n",
            "Epoch 4: Train acc: 0.839855508729681, Train loss: 0.6263499007775233 |Validation acc: 0.71875, Validation loss: 1.394476056098938\n",
            "Epoch 5: Train acc: 0.8886213124623721, Train loss: 0.47991978434415966 |Validation acc: 0.75, Validation loss: 1.2824798822402954\n",
            "Epoch 6: Train acc: 0.9121011438892234, Train loss: 0.3789932062992683 |Validation acc: 0.8046875, Validation loss: 1.1953433752059937\n",
            "Epoch 7: Train acc: 0.9295605057194462, Train loss: 0.3199589986067552 |Validation acc: 0.78125, Validation loss: 1.0568050146102905\n",
            "Epoch 8: Train acc: 0.9620710415412402, Train loss: 0.21654085585704216 |Validation acc: 0.78125, Validation loss: 1.5181103944778442\n",
            "Epoch 9: Train acc: 0.9789283564118001, Train loss: 0.12346796404856902 |Validation acc: 0.7421875, Validation loss: 2.145026683807373\n",
            "Epoch 10: Train acc: 0.99157134256472, Train loss: 0.06611500995663497 |Validation acc: 0.828125, Validation loss: 2.0380454063415527\n",
            "Epoch 11: Train acc: 0.9921733895243829, Train loss: 0.04022910431600534 |Validation acc: 0.7734375, Validation loss: 2.3977668285369873\n",
            "Epoch 12: Train acc: 0.9909692956050572, Train loss: 0.03167635173751758 |Validation acc: 0.84375, Validation loss: 1.414425253868103\n",
            "Epoch 13: Train acc: 0.9969897652016857, Train loss: 0.025368180197591964 |Validation acc: 0.78125, Validation loss: 2.43058180809021\n",
            "Epoch 14: Train acc: 1.0, Train loss: 0.024049703819820516 |Validation acc: 0.796875, Validation loss: 2.5301504135131836\n",
            "Epoch 15: Train acc: 0.9945815773630343, Train loss: 0.010883976132250749 |Validation acc: 0.8125, Validation loss: 2.6363630294799805\n",
            "Epoch 16: Train acc: 0.9933774834437086, Train loss: 0.014729507804776613 |Validation acc: 0.78125, Validation loss: 2.541769504547119\n",
            "Epoch 17: Train acc: 0.9957856712823601, Train loss: 0.01897855382412672 |Validation acc: 0.796875, Validation loss: 3.4616591930389404\n",
            "Epoch 18: Train acc: 0.9879590608067429, Train loss: 0.03612581164074632 |Validation acc: 0.828125, Validation loss: 2.5228614807128906\n",
            "Epoch 19: Train acc: 0.9765201685731487, Train loss: 0.09114823601423548 |Validation acc: 0.7890625, Validation loss: 3.1010665893554688\n",
            "Epoch 20: Train acc: 0.9771222155328115, Train loss: 0.07834892118206391 |Validation acc: 0.78125, Validation loss: 3.3222978115081787\n",
            "Epoch 21: Train acc: 0.9879590608067429, Train loss: 0.08804459869861603 |Validation acc: 0.8125, Validation loss: 1.8498986959457397\n",
            "Epoch 22: Train acc: 0.9831426851294401, Train loss: 0.053583467235931985 |Validation acc: 0.796875, Validation loss: 2.163025140762329\n",
            "Epoch 23: Train acc: 0.9789283564118001, Train loss: 0.07417345333557862 |Validation acc: 0.8359375, Validation loss: 2.1870713233947754\n",
            "Epoch 24: Train acc: 0.9957856712823601, Train loss: 0.044766842101055845 |Validation acc: 0.7890625, Validation loss: 2.153751850128174\n",
            "Epoch 25: Train acc: 0.9849488260084287, Train loss: 0.02934454897275338 |Validation acc: 0.734375, Validation loss: 3.262662649154663\n",
            "Epoch 26: Train acc: 0.9969897652016857, Train loss: 0.017661273658562165 |Validation acc: 0.8359375, Validation loss: 2.5969181060791016\n",
            "Epoch 27: Train acc: 0.9993979530403372, Train loss: 0.006777212202835541 |Validation acc: 0.796875, Validation loss: 2.34039568901062\n",
            "Epoch 28: Train acc: 0.9945815773630343, Train loss: 0.019721306515678477 |Validation acc: 0.7890625, Validation loss: 3.89076566696167\n",
            "Epoch 29: Train acc: 0.9993979530403372, Train loss: 0.01197940909052984 |Validation acc: 0.8359375, Validation loss: 2.4570119380950928\n",
            "Epoch 30: Train acc: 0.9981938591210114, Train loss: 0.00393634181147298 |Validation acc: 0.8515625, Validation loss: 2.080627918243408\n",
            "Finished Training\n",
            "Total time elapsed: 623.49 seconds\n"
          ]
        }
      ]
    },
    {
      "cell_type": "code",
      "source": [
        "model_path_2 = get_model_name(\"letterclassifier\", batch_size=128, learning_rate=0.01, epoch=29)\n",
        "plot_training_curve(model_path_2)"
      ],
      "metadata": {
        "id": "ndWnKYRXVbDy",
        "colab": {
          "base_uri": "https://localhost:8080/",
          "height": 573
        },
        "outputId": "8a29e2e2-3ffa-451d-be78-d6b805a8fb77"
      },
      "execution_count": null,
      "outputs": [
        {
          "output_type": "display_data",
          "data": {
            "image/png": "[encoded data removed]",
            "text/plain": [
              "<Figure size 432x288 with 1 Axes>"
            ]
          },
          "metadata": {
            "needs_background": "light"
          }
        },
        {
          "output_type": "display_data",
          "data": {
            "image/png": "[encoded data removed]",
            "text/plain": [
              "<Figure size 432x288 with 1 Axes>"
            ]
          },
          "metadata": {
            "needs_background": "light"
          }
        }
      ]
    },
    {
      "cell_type": "code",
      "source": [
        "#Now, i am increasing the convolutional layers, as my Calculated padded input size per channel: (1 x 1). Kernel size: (3 x 3). Kernel size can't be greater than actual input size, I am reducing my pooling layer size\n",
        "class letterclassifier(nn.Module):\n",
        "    def __init__(self):\n",
        "        super(letterclassifier, self).__init__()\n",
        "        self.name = \"letterclassifier\"\n",
        "        self.conv1 = nn.Conv2d(3, 5, 5)\n",
        "        self.pool = nn.MaxPool2d(2, 2)\n",
        "        self.conv2 = nn.Conv2d(5, 7, 3)\n",
        "        self.conv3 = nn.Conv2d(7, 14, 3)\n",
        "        self.conv4 = nn.Conv2d(14, 7, 3)\n",
        "        self.fc1 = nn.Linear(1008, 200)\n",
        "        self.fc2 = nn.Linear(200, 9)\n",
        "\n",
        "    def forward(self, x):\n",
        "        x = self.pool(F.relu(self.conv1(x)))\n",
        "        x = self.pool(F.relu(self.conv2(x)))\n",
        "        x = self.pool(F.relu(self.conv3(x)))\n",
        "        x = self.pool(F.relu(self.conv4(x)))\n",
        "        x = x.view(-1, 1008)\n",
        "        x = F.relu(self.fc1(x))\n",
        "        x = self.fc2(x)\n",
        "        return x"
      ],
      "metadata": {
        "id": "SZTcHUYmSP1v"
      },
      "execution_count": 35,
      "outputs": []
    },
    {
      "cell_type": "code",
      "source": [
        "use_cuda = True\n",
        "\n",
        "net = letterclassifier()\n",
        "\n",
        "if use_cuda and torch.cuda.is_available():\n",
        "  net.cuda()\n",
        "  print('CUDA is available!  Training on GPU ...')\n",
        "else:\n",
        "  print('CUDA is not available.  Training on CPU ...')"
      ],
      "metadata": {
        "id": "jKHk8UdbVlBA",
        "colab": {
          "base_uri": "https://localhost:8080/"
        },
        "outputId": "af38318a-ed23-466b-fb86-bdeb73930ca6"
      },
      "execution_count": 36,
      "outputs": [
        {
          "output_type": "stream",
          "name": "stdout",
          "text": [
            "CUDA is available!  Training on GPU ...\n"
          ]
        }
      ]
    },
    {
      "cell_type": "code",
      "source": [
        "train_net(net, batch_size=128, learning_rate=0.01, num_epochs=30)"
      ],
      "metadata": {
        "id": "wIjhgaybVk4h",
        "colab": {
          "base_uri": "https://localhost:8080/"
        },
        "outputId": "f7cf6d3f-71ff-4f3c-b7d9-b6184d19ddcf"
      },
      "execution_count": 37,
      "outputs": [
        {
          "output_type": "stream",
          "name": "stdout",
          "text": [
            "Epoch 1: Train acc: 0.37627934978928357, Train loss: 2.054977765450111 |Validation acc: 0.359375, Validation loss: 3.1526355743408203\n",
            "Epoch 2: Train acc: 0.6291390728476821, Train loss: 1.3872110889508174 |Validation acc: 0.6328125, Validation loss: 2.248551368713379\n",
            "Epoch 3: Train acc: 0.7802528597230584, Train loss: 0.9942440253037673 |Validation acc: 0.6953125, Validation loss: 1.6670606136322021\n",
            "Epoch 4: Train acc: 0.8007224563515954, Train loss: 0.7165078750023475 |Validation acc: 0.671875, Validation loss: 1.6320171356201172\n",
            "Epoch 5: Train acc: 0.8717639975918121, Train loss: 0.5122018594008225 |Validation acc: 0.765625, Validation loss: 1.1796830892562866\n",
            "Epoch 6: Train acc: 0.917519566526189, Train loss: 0.363644356910999 |Validation acc: 0.8359375, Validation loss: 1.3738903999328613\n",
            "Epoch 7: Train acc: 0.9331727874774233, Train loss: 0.26928003705464876 |Validation acc: 0.828125, Validation loss: 1.185867428779602\n",
            "Epoch 8: Train acc: 0.9674894641782059, Train loss: 0.20975129650189325 |Validation acc: 0.7890625, Validation loss: 1.927708625793457\n",
            "Epoch 9: Train acc: 0.9819385912101144, Train loss: 0.10249747421879035 |Validation acc: 0.7578125, Validation loss: 2.812774181365967\n",
            "Epoch 10: Train acc: 0.983744732089103, Train loss: 0.07527785891523728 |Validation acc: 0.84375, Validation loss: 1.8768678903579712\n",
            "Epoch 11: Train acc: 0.9843467790487658, Train loss: 0.09413367925355068 |Validation acc: 0.8046875, Validation loss: 1.9177703857421875\n",
            "Epoch 12: Train acc: 0.983744732089103, Train loss: 0.06753555713937832 |Validation acc: 0.8359375, Validation loss: 1.8279716968536377\n",
            "Epoch 13: Train acc: 0.9927754364840458, Train loss: 0.06881902295236404 |Validation acc: 0.7734375, Validation loss: 2.1157302856445312\n",
            "Epoch 14: Train acc: 0.99157134256472, Train loss: 0.0377114532658687 |Validation acc: 0.8046875, Validation loss: 2.7542498111724854\n",
            "Epoch 15: Train acc: 0.9855508729680915, Train loss: 0.04111567415440312 |Validation acc: 0.8125, Validation loss: 2.832629442214966\n",
            "Epoch 16: Train acc: 0.9777242624924745, Train loss: 0.08442674921109126 |Validation acc: 0.8203125, Validation loss: 2.7753255367279053\n",
            "Epoch 17: Train acc: 0.9897652016857315, Train loss: 0.06434675907859436 |Validation acc: 0.8125, Validation loss: 2.3465375900268555\n",
            "Epoch 18: Train acc: 0.9963877182420229, Train loss: 0.0244282170628699 |Validation acc: 0.828125, Validation loss: 3.9267578125\n",
            "Epoch 19: Train acc: 0.9921733895243829, Train loss: 0.020898753347305152 |Validation acc: 0.796875, Validation loss: 4.535838603973389\n",
            "Epoch 20: Train acc: 0.983744732089103, Train loss: 0.03547448550279324 |Validation acc: 0.7890625, Validation loss: 3.2136166095733643\n",
            "Epoch 21: Train acc: 0.99157134256472, Train loss: 0.040196110207874045 |Validation acc: 0.78125, Validation loss: 2.802590847015381\n",
            "Epoch 22: Train acc: 0.9975918121613486, Train loss: 0.03498765994579746 |Validation acc: 0.8125, Validation loss: 1.756705641746521\n",
            "Epoch 23: Train acc: 0.9987959060806743, Train loss: 0.013590518152341247 |Validation acc: 0.8359375, Validation loss: 2.2912168502807617\n",
            "Epoch 24: Train acc: 1.0, Train loss: 0.006324082568216209 |Validation acc: 0.8203125, Validation loss: 2.0379886627197266\n",
            "Epoch 25: Train acc: 0.9945815773630343, Train loss: 0.004746524046193092 |Validation acc: 0.828125, Validation loss: 3.267404317855835\n",
            "Epoch 26: Train acc: 1.0, Train loss: 0.00955336157774302 |Validation acc: 0.8125, Validation loss: 3.838850975036621\n",
            "Epoch 27: Train acc: 1.0, Train loss: 0.00468135408748192 |Validation acc: 0.8515625, Validation loss: 1.6476571559906006\n",
            "Epoch 28: Train acc: 0.9969897652016857, Train loss: 0.01926900120675922 |Validation acc: 0.8046875, Validation loss: 3.2628283500671387\n",
            "Epoch 29: Train acc: 0.9873570138470801, Train loss: 0.04202182959012974 |Validation acc: 0.8203125, Validation loss: 2.942659616470337\n",
            "Epoch 30: Train acc: 0.9933774834437086, Train loss: 0.0619196375975242 |Validation acc: 0.8359375, Validation loss: 2.0063436031341553\n",
            "Finished Training\n",
            "Total time elapsed: 570.35 seconds\n"
          ]
        }
      ]
    },
    {
      "cell_type": "code",
      "source": [
        "model_path = get_model_name(\"letterclassifier\", batch_size=128, learning_rate=0.01, epoch=29)\n",
        "plot_training_curve(model_path)"
      ],
      "metadata": {
        "id": "KTMG-UrjVkxp",
        "colab": {
          "base_uri": "https://localhost:8080/",
          "height": 573
        },
        "outputId": "9b169d9b-f344-4ef0-c670-09aa69fad1ba"
      },
      "execution_count": 39,
      "outputs": [
        {
          "output_type": "display_data",
          "data": {
            "image/png": "[encoded data removed]",
            "text/plain": [
              "<Figure size 432x288 with 1 Axes>"
            ]
          },
          "metadata": {
            "needs_background": "light"
          }
        },
        {
          "output_type": "display_data",
          "data": {
            "image/png": "[encoded data removed]",
            "text/plain": [
              "<Figure size 432x288 with 1 Axes>"
            ]
          },
          "metadata": {
            "needs_background": "light"
          }
        }
      ]
    },
    {
      "cell_type": "markdown",
      "source": [
        "I am keeping my original architecture and seeing what happens when I increase or decrease the linear layers.  "
      ],
      "metadata": {
        "id": "SF1ZD79Ml2d0"
      }
    },
    {
      "cell_type": "code",
      "source": [
        "#increase the linear layers and alter the hidden layer units\n",
        "#defining the structure\n",
        "class letterclassifier(nn.Module):\n",
        "    def __init__(self):\n",
        "        super(letterclassifier, self).__init__()\n",
        "        self.name = \"letterclassifier\"\n",
        "        self.conv1 = nn.Conv2d(3, 5, 5)\n",
        "        self.pool = nn.MaxPool2d(5, 5)\n",
        "        self.conv2 = nn.Conv2d(5, 7, 3)\n",
        "        self.conv3 = nn.Conv2d(7, 14, 3)\n",
        "        self.fc1 = nn.Linear(14, 400)\n",
        "        self.fc2 = nn.Linear(400, 100)\n",
        "        self.fc3 = nn.Linear(100, 9)\n",
        "\n",
        "    def forward(self, x):\n",
        "        x = self.pool(F.relu(self.conv1(x)))\n",
        "        x = self.pool(F.relu(self.conv2(x)))\n",
        "        x = self.pool(F.relu(self.conv3(x)))\n",
        "        x = x.view(-1, 14)\n",
        "        x = F.relu(self.fc1(x))\n",
        "        x = F.relu(self.fc2(x))\n",
        "        x = self.fc3(x)\n",
        "        return x"
      ],
      "metadata": {
        "id": "dKsdkvwt23YO"
      },
      "execution_count": null,
      "outputs": []
    },
    {
      "cell_type": "code",
      "source": [
        "use_cuda = True\n",
        "\n",
        "net = letterclassifier()\n",
        "\n",
        "if use_cuda and torch.cuda.is_available():\n",
        "  net.cuda()\n",
        "  print('CUDA is available!  Training on GPU ...')\n",
        "else:\n",
        "  print('CUDA is not available.  Training on CPU ...')"
      ],
      "metadata": {
        "id": "xlKzGqS8mXUP",
        "colab": {
          "base_uri": "https://localhost:8080/"
        },
        "outputId": "30421c62-93d6-4fb8-ef73-587e4988ef0a"
      },
      "execution_count": null,
      "outputs": [
        {
          "output_type": "stream",
          "name": "stdout",
          "text": [
            "CUDA is available!  Training on GPU ...\n"
          ]
        }
      ]
    },
    {
      "cell_type": "code",
      "source": [
        "train_net(net, batch_size=128, learning_rate=0.01, num_epochs=30)"
      ],
      "metadata": {
        "colab": {
          "base_uri": "https://localhost:8080/"
        },
        "id": "FfnoX9okmYAy",
        "outputId": "a864069c-49ed-4529-ae07-43e48427a142"
      },
      "execution_count": null,
      "outputs": [
        {
          "output_type": "stream",
          "name": "stdout",
          "text": [
            "Epoch 1: Train acc: 0.18611609814482347, Train loss: 2.164385897772653 |Validation err: 0.234375, Validation loss: 4.074673175811768\n",
            "Epoch 2: Train acc: 0.3357271095152603, Train loss: 1.8013042722429549 |Validation err: 0.3671875, Validation loss: 2.69830322265625\n",
            "Epoch 3: Train acc: 0.43686415320167565, Train loss: 1.6043727397918701 |Validation err: 0.375, Validation loss: 2.7123396396636963\n",
            "Epoch 4: Train acc: 0.5062836624775583, Train loss: 1.3718804717063904 |Validation err: 0.515625, Validation loss: 2.709725856781006\n",
            "Epoch 5: Train acc: 0.6439257929383603, Train loss: 1.2811415706362044 |Validation err: 0.578125, Validation loss: 2.143402338027954\n",
            "Epoch 6: Train acc: 0.6128067025733094, Train loss: 1.0606870225497655 |Validation err: 0.640625, Validation loss: 1.9457128047943115\n",
            "Epoch 7: Train acc: 0.6540993417115499, Train loss: 0.9677458916391645 |Validation err: 0.65625, Validation loss: 1.969787836074829\n",
            "Epoch 8: Train acc: 0.713345302214243, Train loss: 0.873269477060863 |Validation err: 0.6953125, Validation loss: 1.6454435586929321\n",
            "Epoch 9: Train acc: 0.7307001795332136, Train loss: 0.7716770257268634 |Validation err: 0.7578125, Validation loss: 1.5986384153366089\n",
            "Epoch 10: Train acc: 0.6959904248952723, Train loss: 0.7760942365442004 |Validation err: 0.6953125, Validation loss: 1.81222665309906\n",
            "Epoch 11: Train acc: 0.7552363853979653, Train loss: 0.8118785406861987 |Validation err: 0.734375, Validation loss: 1.8967331647872925\n",
            "Epoch 12: Train acc: 0.7743865948533812, Train loss: 0.6820537937538964 |Validation err: 0.7890625, Validation loss: 1.1485741138458252\n",
            "Epoch 13: Train acc: 0.7660083782166367, Train loss: 0.6426118356840951 |Validation err: 0.765625, Validation loss: 1.1994266510009766\n",
            "Epoch 14: Train acc: 0.8108916816277678, Train loss: 0.561315023473331 |Validation err: 0.75, Validation loss: 1.4542089700698853\n",
            "Epoch 15: Train acc: 0.7989228007181328, Train loss: 0.5246948152780533 |Validation err: 0.7890625, Validation loss: 1.1203542947769165\n",
            "Epoch 16: Train acc: 0.8306403351286654, Train loss: 0.532799727150372 |Validation err: 0.828125, Validation loss: 1.1805952787399292\n",
            "Epoch 17: Train acc: 0.8551765409934171, Train loss: 0.4729597195982933 |Validation err: 0.8125, Validation loss: 1.3227620124816895\n",
            "Epoch 18: Train acc: 0.829443447037702, Train loss: 0.4465049888406481 |Validation err: 0.75, Validation loss: 1.6947311162948608\n",
            "Epoch 19: Train acc: 0.8312387791741472, Train loss: 0.45308248485837666 |Validation err: 0.765625, Validation loss: 1.1717801094055176\n",
            "Epoch 20: Train acc: 0.8665469778575703, Train loss: 0.45701954300914494 |Validation err: 0.828125, Validation loss: 1.0621036291122437\n",
            "Epoch 21: Train acc: 0.8354278874925194, Train loss: 0.4014410355261394 |Validation err: 0.7734375, Validation loss: 1.694464921951294\n",
            "Epoch 22: Train acc: 0.8300418910831837, Train loss: 0.6147429645061493 |Validation err: 0.7734375, Validation loss: 1.3870347738265991\n",
            "Epoch 23: Train acc: 0.8384201077199281, Train loss: 0.5493078476616314 |Validation err: 0.8203125, Validation loss: 1.1222385168075562\n",
            "Epoch 24: Train acc: 0.800718132854578, Train loss: 0.6154702539954867 |Validation err: 0.734375, Validation loss: 1.6788605451583862\n",
            "Epoch 25: Train acc: 0.8581687612208259, Train loss: 0.5319916712386268 |Validation err: 0.8203125, Validation loss: 1.0952240228652954\n",
            "Epoch 26: Train acc: 0.8785158587672053, Train loss: 0.44192924882684437 |Validation err: 0.8046875, Validation loss: 1.3973978757858276\n",
            "Epoch 27: Train acc: 0.8581687612208259, Train loss: 0.43751458185059683 |Validation err: 0.859375, Validation loss: 1.1632875204086304\n",
            "Epoch 28: Train acc: 0.8234590065828845, Train loss: 0.41825308970042635 |Validation err: 0.78125, Validation loss: 1.5788440704345703\n",
            "Epoch 29: Train acc: 0.758228605625374, Train loss: 0.6608696558645794 |Validation err: 0.7421875, Validation loss: 1.579929232597351\n",
            "Epoch 30: Train acc: 0.8438061041292639, Train loss: 0.5863547367709023 |Validation err: 0.8046875, Validation loss: 1.5334148406982422\n",
            "Finished Training\n",
            "Total time elapsed: 442.15 seconds\n"
          ]
        }
      ]
    },
    {
      "cell_type": "code",
      "source": [
        "model_path = get_model_name(\"letterclassifier\", batch_size=128, learning_rate=0.01, epoch=29)\n",
        "plot_training_curve(model_path)"
      ],
      "metadata": {
        "colab": {
          "base_uri": "https://localhost:8080/",
          "height": 573
        },
        "id": "_2rfFGnXmcHr",
        "outputId": "1ce1b99e-8e7e-4b75-a5c6-1e25e303a93f"
      },
      "execution_count": null,
      "outputs": [
        {
          "output_type": "display_data",
          "data": {
            "image/png": "[encoded data removed]",
            "text/plain": [
              "<Figure size 432x288 with 1 Axes>"
            ]
          },
          "metadata": {
            "needs_background": "light"
          }
        },
        {
          "output_type": "display_data",
          "data": {
            "image/png": "[encoded data removed]",
            "text/plain": [
              "<Figure size 432x288 with 1 Axes>"
            ]
          },
          "metadata": {
            "needs_background": "light"
          }
        }
      ]
    },
    {
      "cell_type": "markdown",
      "source": [
        "As the maximum validation accuracy did not increase with increasing hidden layers, I am keeping my architecture to 2 linear layers only. I am keeping 4 convolutional layers and tuning the learning rates."
      ],
      "metadata": {
        "id": "niTM_oW8suew"
      }
    },
    {
      "cell_type": "code",
      "source": [
        "#change batch size and reduce learning rate \n",
        "class letterclassifier(nn.Module):\n",
        "    def __init__(self):\n",
        "        super(letterclassifier, self).__init__()\n",
        "        self.name = \"letterclassifier\"\n",
        "        self.conv1 = nn.Conv2d(3, 5, 5)\n",
        "        self.pool = nn.MaxPool2d(2, 2)\n",
        "        self.conv2 = nn.Conv2d(5, 7, 3)\n",
        "        self.conv3 = nn.Conv2d(7, 14, 3)\n",
        "        self.conv4 = nn.Conv2d(14, 7, 3)\n",
        "        self.fc1 = nn.Linear(1008, 200)\n",
        "        self.fc2 = nn.Linear(200, 9)\n",
        "\n",
        "    def forward(self, x):\n",
        "        x = self.pool(F.relu(self.conv1(x)))\n",
        "        x = self.pool(F.relu(self.conv2(x)))\n",
        "        x = self.pool(F.relu(self.conv3(x)))\n",
        "        x = self.pool(F.relu(self.conv4(x)))\n",
        "        x = x.view(-1, 1008)\n",
        "        x = F.relu(self.fc1(x))\n",
        "        x = self.fc2(x)\n",
        "        return x"
      ],
      "metadata": {
        "id": "KbDkZ-JU3Asm"
      },
      "execution_count": null,
      "outputs": []
    },
    {
      "cell_type": "code",
      "source": [
        "#batch size = 32, learning rate = 0.001\n",
        "use_cuda = True\n",
        "net = letterclassifier()\n",
        "\n",
        "if use_cuda and torch.cuda.is_available():\n",
        "  net.cuda()\n",
        "  print('CUDA is available!  Training on GPU ...')\n",
        "else:\n",
        "  print('CUDA is not available.  Training on CPU ...')\n",
        "train_net(net, batch_size=32, learning_rate=0.001, num_epochs=30)"
      ],
      "metadata": {
        "colab": {
          "base_uri": "https://localhost:8080/"
        },
        "id": "m8RoAGWllqRr",
        "outputId": "86ff1cba-e417-4faa-ae01-900c917581e4"
      },
      "execution_count": null,
      "outputs": [
        {
          "output_type": "stream",
          "name": "stdout",
          "text": [
            "CUDA is available!  Training on GPU ...\n",
            "Epoch 1: Train acc: 0.4334738109572547, Train loss: 2.1793938898123226 |Validation acc: 0.40625, Validation loss: 3.845006227493286\n",
            "Epoch 2: Train acc: 0.6375677302829621, Train loss: 1.329316115150085 |Validation acc: 0.6875, Validation loss: 1.952008843421936\n",
            "Epoch 3: Train acc: 0.7934978928356412, Train loss: 0.8926664006251556 |Validation acc: 0.71875, Validation loss: 2.0166878700256348\n",
            "Epoch 4: Train acc: 0.8747742323901264, Train loss: 0.6266715933497136 |Validation acc: 0.84375, Validation loss: 0.9058277010917664\n",
            "Epoch 5: Train acc: 0.8994581577363034, Train loss: 0.43625695143754667 |Validation acc: 0.6875, Validation loss: 1.1922928094863892\n",
            "Epoch 6: Train acc: 0.9590608067429259, Train loss: 0.2933108682672565 |Validation acc: 0.90625, Validation loss: 0.821941614151001\n",
            "Epoch 7: Train acc: 0.9692956050571945, Train loss: 0.1738932878495409 |Validation acc: 0.78125, Validation loss: 1.4086823463439941\n",
            "Epoch 8: Train acc: 0.9668874172185431, Train loss: 0.1067182794571496 |Validation acc: 0.78125, Validation loss: 2.2745251655578613\n",
            "Epoch 9: Train acc: 0.9963877182420229, Train loss: 0.07098127730065383 |Validation acc: 0.71875, Validation loss: 2.6736855506896973\n",
            "Epoch 10: Train acc: 0.9945815773630343, Train loss: 0.0252233864291786 |Validation acc: 0.78125, Validation loss: 2.233497381210327\n",
            "Epoch 11: Train acc: 0.9987959060806743, Train loss: 0.014679624152799638 |Validation acc: 0.6875, Validation loss: 4.060146331787109\n",
            "Epoch 12: Train acc: 1.0, Train loss: 0.010498217150598066 |Validation acc: 0.90625, Validation loss: 0.8666592240333557\n",
            "Epoch 13: Train acc: 1.0, Train loss: 0.002967500944997972 |Validation acc: 0.8125, Validation loss: 4.323774814605713\n",
            "Epoch 14: Train acc: 1.0, Train loss: 0.0009169180737864316 |Validation acc: 0.8125, Validation loss: 3.6862921714782715\n",
            "Epoch 15: Train acc: 1.0, Train loss: 0.0004338310693758383 |Validation acc: 0.90625, Validation loss: 1.5196013450622559\n",
            "Epoch 16: Train acc: 1.0, Train loss: 0.0003310305873688216 |Validation acc: 0.71875, Validation loss: 5.455732822418213\n",
            "Epoch 17: Train acc: 1.0, Train loss: 0.0002703676898538386 |Validation acc: 0.84375, Validation loss: 2.375415802001953\n",
            "Epoch 18: Train acc: 1.0, Train loss: 0.00022500357720043842 |Validation acc: 0.875, Validation loss: 3.3489861488342285\n",
            "Epoch 19: Train acc: 1.0, Train loss: 0.0001933158839444961 |Validation acc: 0.875, Validation loss: 1.9043086767196655\n",
            "Epoch 20: Train acc: 1.0, Train loss: 0.00016814331559964138 |Validation acc: 0.84375, Validation loss: 1.3229118585586548\n",
            "Epoch 21: Train acc: 1.0, Train loss: 0.00014706988774658105 |Validation acc: 0.875, Validation loss: 1.1490428447723389\n",
            "Epoch 22: Train acc: 1.0, Train loss: 0.00013084394266535618 |Validation acc: 0.8125, Validation loss: 4.200583457946777\n",
            "Epoch 23: Train acc: 1.0, Train loss: 0.0001171876964025824 |Validation acc: 0.90625, Validation loss: 4.17055082321167\n",
            "Epoch 24: Train acc: 1.0, Train loss: 0.00010578464885978834 |Validation acc: 0.78125, Validation loss: 3.4700188636779785\n",
            "Epoch 25: Train acc: 1.0, Train loss: 9.547784268831422e-05 |Validation acc: 0.78125, Validation loss: 3.6877806186676025\n",
            "Epoch 26: Train acc: 1.0, Train loss: 8.638359672484233e-05 |Validation acc: 0.875, Validation loss: 1.83676278591156\n",
            "Epoch 27: Train acc: 1.0, Train loss: 7.893485052626111e-05 |Validation acc: 0.8125, Validation loss: 2.3677587509155273\n",
            "Epoch 28: Train acc: 1.0, Train loss: 7.261684529042283e-05 |Validation acc: 0.84375, Validation loss: 1.942298412322998\n",
            "Epoch 29: Train acc: 1.0, Train loss: 6.671115997610636e-05 |Validation acc: 0.90625, Validation loss: 2.047257423400879\n",
            "Epoch 30: Train acc: 1.0, Train loss: 6.145930987818596e-05 |Validation acc: 0.78125, Validation loss: 6.818752288818359\n",
            "Finished Training\n",
            "Total time elapsed: 559.72 seconds\n"
          ]
        }
      ]
    },
    {
      "cell_type": "code",
      "source": [
        "model_path_3 = get_model_name(\"letterclassifier\", batch_size=32, learning_rate=0.001, epoch=29)\n",
        "plot_training_curve(model_path_3)"
      ],
      "metadata": {
        "colab": {
          "base_uri": "https://localhost:8080/",
          "height": 573
        },
        "id": "9A4Tmpc8oPDC",
        "outputId": "03e18fdc-f102-4a91-873c-a368d5d4df09"
      },
      "execution_count": null,
      "outputs": [
        {
          "output_type": "display_data",
          "data": {
            "image/png": "[encoded data removed]",
            "text/plain": [
              "<Figure size 432x288 with 1 Axes>"
            ]
          },
          "metadata": {
            "needs_background": "light"
          }
        },
        {
          "output_type": "display_data",
          "data": {
            "image/png": "[encoded data removed]",
            "text/plain": [
              "<Figure size 432x288 with 1 Axes>"
            ]
          },
          "metadata": {
            "needs_background": "light"
          }
        }
      ]
    },
    {
      "cell_type": "code",
      "source": [
        "#batch size = 32, learning rate = 0.0001\n",
        "use_cuda = True\n",
        "net = letterclassifier()\n",
        "\n",
        "if use_cuda and torch.cuda.is_available():\n",
        "  net.cuda()\n",
        "  print('CUDA is available!  Training on GPU ...')\n",
        "else:\n",
        "  print('CUDA is not available.  Training on CPU ...')\n",
        "train_net(net, batch_size=32, learning_rate=0.0001, num_epochs=30)"
      ],
      "metadata": {
        "colab": {
          "base_uri": "https://localhost:8080/",
          "height": 588
        },
        "id": "pbgKBWP6pDHx",
        "outputId": "886908d7-a9a6-4182-b26c-54b74b652632"
      },
      "execution_count": null,
      "outputs": [
        {
          "output_type": "stream",
          "name": "stdout",
          "text": [
            "CUDA is available!  Training on GPU ...\n",
            "Epoch 1: Train acc: 0.11137868753762793, Train loss: 2.1990593580099254 |Validation acc: 0.15625, Validation loss: 4.388734817504883\n",
            "Epoch 2: Train acc: 0.177001806140879, Train loss: 2.1955098372239332 |Validation acc: 0.1875, Validation loss: 4.379924774169922\n",
            "Epoch 3: Train acc: 0.46177001806140877, Train loss: 2.1067239389969754 |Validation acc: 0.4375, Validation loss: 3.5676369667053223\n",
            "Epoch 4: Train acc: 0.6158940397350994, Train loss: 1.489842522602815 |Validation acc: 0.59375, Validation loss: 2.2788805961608887\n",
            "Epoch 5: Train acc: 0.6538229981938591, Train loss: 1.1797032012389257 |Validation acc: 0.625, Validation loss: 2.26766037940979\n",
            "Epoch 6: Train acc: 0.7092113184828417, Train loss: 1.0453719863524804 |Validation acc: 0.71875, Validation loss: 1.76431143283844\n",
            "Epoch 7: Train acc: 0.7278747742323901, Train loss: 0.9722593495478997 |Validation acc: 0.6875, Validation loss: 1.9267866611480713\n",
            "Epoch 8: Train acc: 0.7501505117399158, Train loss: 0.8907119585917547 |Validation acc: 0.625, Validation loss: 1.787030816078186\n",
            "Epoch 9: Train acc: 0.7561709813365443, Train loss: 0.8436027839779854 |Validation acc: 0.625, Validation loss: 2.524437189102173\n",
            "Epoch 10: Train acc: 0.7724262492474413, Train loss: 0.7924588563350531 |Validation acc: 0.78125, Validation loss: 1.7420079708099365\n",
            "Epoch 11: Train acc: 0.7658037326911499, Train loss: 0.7356359402720745 |Validation acc: 0.59375, Validation loss: 2.2251267433166504\n",
            "Epoch 12: Train acc: 0.7700180614087899, Train loss: 0.7103383724506085 |Validation acc: 0.875, Validation loss: 1.0945628881454468\n",
            "Epoch 13: Train acc: 0.8103552077062011, Train loss: 0.6740170390560076 |Validation acc: 0.71875, Validation loss: 1.8326793909072876\n"
          ]
        },
        {
          "output_type": "error",
          "ename": "KeyboardInterrupt",
          "evalue": "ignored",
          "traceback": [
            "\u001b[0;31m---------------------------------------------------------------------------\u001b[0m",
            "\u001b[0;31mKeyboardInterrupt\u001b[0m                         Traceback (most recent call last)",
            "\u001b[0;32m<ipython-input-30-f5455fe36ff5>\u001b[0m in \u001b[0;36m<module>\u001b[0;34m()\u001b[0m\n\u001b[1;32m      8\u001b[0m \u001b[0;32melse\u001b[0m\u001b[0;34m:\u001b[0m\u001b[0;34m\u001b[0m\u001b[0;34m\u001b[0m\u001b[0m\n\u001b[1;32m      9\u001b[0m   \u001b[0mprint\u001b[0m\u001b[0;34m(\u001b[0m\u001b[0;34m'CUDA is not available.  Training on CPU ...'\u001b[0m\u001b[0;34m)\u001b[0m\u001b[0;34m\u001b[0m\u001b[0;34m\u001b[0m\u001b[0m\n\u001b[0;32m---> 10\u001b[0;31m \u001b[0mtrain_net\u001b[0m\u001b[0;34m(\u001b[0m\u001b[0mnet\u001b[0m\u001b[0;34m,\u001b[0m \u001b[0mbatch_size\u001b[0m\u001b[0;34m=\u001b[0m\u001b[0;36m32\u001b[0m\u001b[0;34m,\u001b[0m \u001b[0mlearning_rate\u001b[0m\u001b[0;34m=\u001b[0m\u001b[0;36m0.0001\u001b[0m\u001b[0;34m,\u001b[0m \u001b[0mnum_epochs\u001b[0m\u001b[0;34m=\u001b[0m\u001b[0;36m30\u001b[0m\u001b[0;34m)\u001b[0m\u001b[0;34m\u001b[0m\u001b[0;34m\u001b[0m\u001b[0m\n\u001b[0m",
            "\u001b[0;32m<ipython-input-12-92573cf8607d>\u001b[0m in \u001b[0;36mtrain_net\u001b[0;34m(net, batch_size, learning_rate, num_epochs, transfer_learning)\u001b[0m\n\u001b[1;32m     67\u001b[0m \u001b[0;34m\u001b[0m\u001b[0m\n\u001b[1;32m     68\u001b[0m         \u001b[0mtrain_loss\u001b[0m\u001b[0;34m[\u001b[0m\u001b[0mepoch\u001b[0m\u001b[0;34m]\u001b[0m \u001b[0;34m=\u001b[0m \u001b[0mfloat\u001b[0m\u001b[0;34m(\u001b[0m\u001b[0mtotal_train_loss\u001b[0m\u001b[0;34m)\u001b[0m \u001b[0;34m/\u001b[0m \u001b[0;34m(\u001b[0m\u001b[0mi\u001b[0m\u001b[0;34m+\u001b[0m\u001b[0;36m1\u001b[0m\u001b[0;34m)\u001b[0m\u001b[0;34m\u001b[0m\u001b[0;34m\u001b[0m\u001b[0m\n\u001b[0;32m---> 69\u001b[0;31m         \u001b[0mtrain_acc\u001b[0m\u001b[0;34m[\u001b[0m\u001b[0mepoch\u001b[0m\u001b[0;34m]\u001b[0m \u001b[0;34m=\u001b[0m \u001b[0mget_accuracy\u001b[0m\u001b[0;34m(\u001b[0m\u001b[0mnet\u001b[0m\u001b[0;34m,\u001b[0m \u001b[0mtrain_loader\u001b[0m\u001b[0;34m,\u001b[0m \u001b[0mval_loader\u001b[0m\u001b[0;34m,\u001b[0m \u001b[0mtest_loader\u001b[0m\u001b[0;34m,\u001b[0m \u001b[0mtrain\u001b[0m\u001b[0;34m=\u001b[0m\u001b[0;32mTrue\u001b[0m\u001b[0;34m,\u001b[0m \u001b[0mtest\u001b[0m \u001b[0;34m=\u001b[0m \u001b[0;32mFalse\u001b[0m\u001b[0;34m)\u001b[0m\u001b[0;34m\u001b[0m\u001b[0;34m\u001b[0m\u001b[0m\n\u001b[0m\u001b[1;32m     70\u001b[0m \u001b[0;34m\u001b[0m\u001b[0m\n\u001b[1;32m     71\u001b[0m         \u001b[0;32mwith\u001b[0m \u001b[0mtorch\u001b[0m\u001b[0;34m.\u001b[0m\u001b[0mno_grad\u001b[0m\u001b[0;34m(\u001b[0m\u001b[0;34m)\u001b[0m\u001b[0;34m:\u001b[0m\u001b[0;34m\u001b[0m\u001b[0;34m\u001b[0m\u001b[0m\n",
            "\u001b[0;32m<ipython-input-6-ec50a1ba9117>\u001b[0m in \u001b[0;36mget_accuracy\u001b[0;34m(model, train_loader, val_loader, test_loader, train, test, loss, criterion, sanity_check)\u001b[0m\n\u001b[1;32m     33\u001b[0m           \u001b[0;32mreturn\u001b[0m \u001b[0mcorrect\u001b[0m \u001b[0;34m/\u001b[0m \u001b[0mtotal\u001b[0m\u001b[0;34m,\u001b[0m \u001b[0mfloat\u001b[0m\u001b[0;34m(\u001b[0m\u001b[0mloss_\u001b[0m\u001b[0;34m)\u001b[0m \u001b[0;34m/\u001b[0m \u001b[0;34m(\u001b[0m\u001b[0mc\u001b[0m\u001b[0;34m)\u001b[0m\u001b[0;34m\u001b[0m\u001b[0;34m\u001b[0m\u001b[0m\n\u001b[1;32m     34\u001b[0m     \u001b[0;32mif\u001b[0m \u001b[0mloss\u001b[0m \u001b[0;34m==\u001b[0m \u001b[0;32mFalse\u001b[0m\u001b[0;34m:\u001b[0m\u001b[0;34m\u001b[0m\u001b[0;34m\u001b[0m\u001b[0m\n\u001b[0;32m---> 35\u001b[0;31m       \u001b[0;32mfor\u001b[0m \u001b[0mimgs\u001b[0m\u001b[0;34m,\u001b[0m \u001b[0mlabels\u001b[0m \u001b[0;32min\u001b[0m \u001b[0mdata\u001b[0m\u001b[0;34m:\u001b[0m\u001b[0;34m\u001b[0m\u001b[0;34m\u001b[0m\u001b[0m\n\u001b[0m\u001b[1;32m     36\u001b[0m         \u001b[0;31m#############################################\u001b[0m\u001b[0;34m\u001b[0m\u001b[0;34m\u001b[0m\u001b[0;34m\u001b[0m\u001b[0m\n\u001b[1;32m     37\u001b[0m         \u001b[0;31m#To Enable GPU Usage\u001b[0m\u001b[0;34m\u001b[0m\u001b[0;34m\u001b[0m\u001b[0;34m\u001b[0m\u001b[0m\n",
            "\u001b[0;32m/usr/local/lib/python3.7/dist-packages/torch/utils/data/dataloader.py\u001b[0m in \u001b[0;36m__next__\u001b[0;34m(self)\u001b[0m\n\u001b[1;32m    519\u001b[0m             \u001b[0;32mif\u001b[0m \u001b[0mself\u001b[0m\u001b[0;34m.\u001b[0m\u001b[0m_sampler_iter\u001b[0m \u001b[0;32mis\u001b[0m \u001b[0;32mNone\u001b[0m\u001b[0;34m:\u001b[0m\u001b[0;34m\u001b[0m\u001b[0;34m\u001b[0m\u001b[0m\n\u001b[1;32m    520\u001b[0m                 \u001b[0mself\u001b[0m\u001b[0;34m.\u001b[0m\u001b[0m_reset\u001b[0m\u001b[0;34m(\u001b[0m\u001b[0;34m)\u001b[0m\u001b[0;34m\u001b[0m\u001b[0;34m\u001b[0m\u001b[0m\n\u001b[0;32m--> 521\u001b[0;31m             \u001b[0mdata\u001b[0m \u001b[0;34m=\u001b[0m \u001b[0mself\u001b[0m\u001b[0;34m.\u001b[0m\u001b[0m_next_data\u001b[0m\u001b[0;34m(\u001b[0m\u001b[0;34m)\u001b[0m\u001b[0;34m\u001b[0m\u001b[0;34m\u001b[0m\u001b[0m\n\u001b[0m\u001b[1;32m    522\u001b[0m             \u001b[0mself\u001b[0m\u001b[0;34m.\u001b[0m\u001b[0m_num_yielded\u001b[0m \u001b[0;34m+=\u001b[0m \u001b[0;36m1\u001b[0m\u001b[0;34m\u001b[0m\u001b[0;34m\u001b[0m\u001b[0m\n\u001b[1;32m    523\u001b[0m             \u001b[0;32mif\u001b[0m \u001b[0mself\u001b[0m\u001b[0;34m.\u001b[0m\u001b[0m_dataset_kind\u001b[0m \u001b[0;34m==\u001b[0m \u001b[0m_DatasetKind\u001b[0m\u001b[0;34m.\u001b[0m\u001b[0mIterable\u001b[0m \u001b[0;32mand\u001b[0m\u001b[0;31m \u001b[0m\u001b[0;31m\\\u001b[0m\u001b[0;34m\u001b[0m\u001b[0;34m\u001b[0m\u001b[0m\n",
            "\u001b[0;32m/usr/local/lib/python3.7/dist-packages/torch/utils/data/dataloader.py\u001b[0m in \u001b[0;36m_next_data\u001b[0;34m(self)\u001b[0m\n\u001b[1;32m   1184\u001b[0m \u001b[0;34m\u001b[0m\u001b[0m\n\u001b[1;32m   1185\u001b[0m             \u001b[0;32massert\u001b[0m \u001b[0;32mnot\u001b[0m \u001b[0mself\u001b[0m\u001b[0;34m.\u001b[0m\u001b[0m_shutdown\u001b[0m \u001b[0;32mand\u001b[0m \u001b[0mself\u001b[0m\u001b[0;34m.\u001b[0m\u001b[0m_tasks_outstanding\u001b[0m \u001b[0;34m>\u001b[0m \u001b[0;36m0\u001b[0m\u001b[0;34m\u001b[0m\u001b[0;34m\u001b[0m\u001b[0m\n\u001b[0;32m-> 1186\u001b[0;31m             \u001b[0midx\u001b[0m\u001b[0;34m,\u001b[0m \u001b[0mdata\u001b[0m \u001b[0;34m=\u001b[0m \u001b[0mself\u001b[0m\u001b[0;34m.\u001b[0m\u001b[0m_get_data\u001b[0m\u001b[0;34m(\u001b[0m\u001b[0;34m)\u001b[0m\u001b[0;34m\u001b[0m\u001b[0;34m\u001b[0m\u001b[0m\n\u001b[0m\u001b[1;32m   1187\u001b[0m             \u001b[0mself\u001b[0m\u001b[0;34m.\u001b[0m\u001b[0m_tasks_outstanding\u001b[0m \u001b[0;34m-=\u001b[0m \u001b[0;36m1\u001b[0m\u001b[0;34m\u001b[0m\u001b[0;34m\u001b[0m\u001b[0m\n\u001b[1;32m   1188\u001b[0m             \u001b[0;32mif\u001b[0m \u001b[0mself\u001b[0m\u001b[0;34m.\u001b[0m\u001b[0m_dataset_kind\u001b[0m \u001b[0;34m==\u001b[0m \u001b[0m_DatasetKind\u001b[0m\u001b[0;34m.\u001b[0m\u001b[0mIterable\u001b[0m\u001b[0;34m:\u001b[0m\u001b[0;34m\u001b[0m\u001b[0;34m\u001b[0m\u001b[0m\n",
            "\u001b[0;32m/usr/local/lib/python3.7/dist-packages/torch/utils/data/dataloader.py\u001b[0m in \u001b[0;36m_get_data\u001b[0;34m(self)\u001b[0m\n\u001b[1;32m   1150\u001b[0m         \u001b[0;32melse\u001b[0m\u001b[0;34m:\u001b[0m\u001b[0;34m\u001b[0m\u001b[0;34m\u001b[0m\u001b[0m\n\u001b[1;32m   1151\u001b[0m             \u001b[0;32mwhile\u001b[0m \u001b[0;32mTrue\u001b[0m\u001b[0;34m:\u001b[0m\u001b[0;34m\u001b[0m\u001b[0;34m\u001b[0m\u001b[0m\n\u001b[0;32m-> 1152\u001b[0;31m                 \u001b[0msuccess\u001b[0m\u001b[0;34m,\u001b[0m \u001b[0mdata\u001b[0m \u001b[0;34m=\u001b[0m \u001b[0mself\u001b[0m\u001b[0;34m.\u001b[0m\u001b[0m_try_get_data\u001b[0m\u001b[0;34m(\u001b[0m\u001b[0;34m)\u001b[0m\u001b[0;34m\u001b[0m\u001b[0;34m\u001b[0m\u001b[0m\n\u001b[0m\u001b[1;32m   1153\u001b[0m                 \u001b[0;32mif\u001b[0m \u001b[0msuccess\u001b[0m\u001b[0;34m:\u001b[0m\u001b[0;34m\u001b[0m\u001b[0;34m\u001b[0m\u001b[0m\n\u001b[1;32m   1154\u001b[0m                     \u001b[0;32mreturn\u001b[0m \u001b[0mdata\u001b[0m\u001b[0;34m\u001b[0m\u001b[0;34m\u001b[0m\u001b[0m\n",
            "\u001b[0;32m/usr/local/lib/python3.7/dist-packages/torch/utils/data/dataloader.py\u001b[0m in \u001b[0;36m_try_get_data\u001b[0;34m(self, timeout)\u001b[0m\n\u001b[1;32m    988\u001b[0m         \u001b[0;31m#   (bool: whether successfully get data, any: data if successful else None)\u001b[0m\u001b[0;34m\u001b[0m\u001b[0;34m\u001b[0m\u001b[0;34m\u001b[0m\u001b[0m\n\u001b[1;32m    989\u001b[0m         \u001b[0;32mtry\u001b[0m\u001b[0;34m:\u001b[0m\u001b[0;34m\u001b[0m\u001b[0;34m\u001b[0m\u001b[0m\n\u001b[0;32m--> 990\u001b[0;31m             \u001b[0mdata\u001b[0m \u001b[0;34m=\u001b[0m \u001b[0mself\u001b[0m\u001b[0;34m.\u001b[0m\u001b[0m_data_queue\u001b[0m\u001b[0;34m.\u001b[0m\u001b[0mget\u001b[0m\u001b[0;34m(\u001b[0m\u001b[0mtimeout\u001b[0m\u001b[0;34m=\u001b[0m\u001b[0mtimeout\u001b[0m\u001b[0;34m)\u001b[0m\u001b[0;34m\u001b[0m\u001b[0;34m\u001b[0m\u001b[0m\n\u001b[0m\u001b[1;32m    991\u001b[0m             \u001b[0;32mreturn\u001b[0m \u001b[0;34m(\u001b[0m\u001b[0;32mTrue\u001b[0m\u001b[0;34m,\u001b[0m \u001b[0mdata\u001b[0m\u001b[0;34m)\u001b[0m\u001b[0;34m\u001b[0m\u001b[0;34m\u001b[0m\u001b[0m\n\u001b[1;32m    992\u001b[0m         \u001b[0;32mexcept\u001b[0m \u001b[0mException\u001b[0m \u001b[0;32mas\u001b[0m \u001b[0me\u001b[0m\u001b[0;34m:\u001b[0m\u001b[0;34m\u001b[0m\u001b[0;34m\u001b[0m\u001b[0m\n",
            "\u001b[0;32m/usr/lib/python3.7/multiprocessing/queues.py\u001b[0m in \u001b[0;36mget\u001b[0;34m(self, block, timeout)\u001b[0m\n\u001b[1;32m    102\u001b[0m                 \u001b[0;32mif\u001b[0m \u001b[0mblock\u001b[0m\u001b[0;34m:\u001b[0m\u001b[0;34m\u001b[0m\u001b[0;34m\u001b[0m\u001b[0m\n\u001b[1;32m    103\u001b[0m                     \u001b[0mtimeout\u001b[0m \u001b[0;34m=\u001b[0m \u001b[0mdeadline\u001b[0m \u001b[0;34m-\u001b[0m \u001b[0mtime\u001b[0m\u001b[0;34m.\u001b[0m\u001b[0mmonotonic\u001b[0m\u001b[0;34m(\u001b[0m\u001b[0;34m)\u001b[0m\u001b[0;34m\u001b[0m\u001b[0;34m\u001b[0m\u001b[0m\n\u001b[0;32m--> 104\u001b[0;31m                     \u001b[0;32mif\u001b[0m \u001b[0;32mnot\u001b[0m \u001b[0mself\u001b[0m\u001b[0;34m.\u001b[0m\u001b[0m_poll\u001b[0m\u001b[0;34m(\u001b[0m\u001b[0mtimeout\u001b[0m\u001b[0;34m)\u001b[0m\u001b[0;34m:\u001b[0m\u001b[0;34m\u001b[0m\u001b[0;34m\u001b[0m\u001b[0m\n\u001b[0m\u001b[1;32m    105\u001b[0m                         \u001b[0;32mraise\u001b[0m \u001b[0mEmpty\u001b[0m\u001b[0;34m\u001b[0m\u001b[0;34m\u001b[0m\u001b[0m\n\u001b[1;32m    106\u001b[0m                 \u001b[0;32melif\u001b[0m \u001b[0;32mnot\u001b[0m \u001b[0mself\u001b[0m\u001b[0;34m.\u001b[0m\u001b[0m_poll\u001b[0m\u001b[0;34m(\u001b[0m\u001b[0;34m)\u001b[0m\u001b[0;34m:\u001b[0m\u001b[0;34m\u001b[0m\u001b[0;34m\u001b[0m\u001b[0m\n",
            "\u001b[0;32m/usr/lib/python3.7/multiprocessing/connection.py\u001b[0m in \u001b[0;36mpoll\u001b[0;34m(self, timeout)\u001b[0m\n\u001b[1;32m    255\u001b[0m         \u001b[0mself\u001b[0m\u001b[0;34m.\u001b[0m\u001b[0m_check_closed\u001b[0m\u001b[0;34m(\u001b[0m\u001b[0;34m)\u001b[0m\u001b[0;34m\u001b[0m\u001b[0;34m\u001b[0m\u001b[0m\n\u001b[1;32m    256\u001b[0m         \u001b[0mself\u001b[0m\u001b[0;34m.\u001b[0m\u001b[0m_check_readable\u001b[0m\u001b[0;34m(\u001b[0m\u001b[0;34m)\u001b[0m\u001b[0;34m\u001b[0m\u001b[0;34m\u001b[0m\u001b[0m\n\u001b[0;32m--> 257\u001b[0;31m         \u001b[0;32mreturn\u001b[0m \u001b[0mself\u001b[0m\u001b[0;34m.\u001b[0m\u001b[0m_poll\u001b[0m\u001b[0;34m(\u001b[0m\u001b[0mtimeout\u001b[0m\u001b[0;34m)\u001b[0m\u001b[0;34m\u001b[0m\u001b[0;34m\u001b[0m\u001b[0m\n\u001b[0m\u001b[1;32m    258\u001b[0m \u001b[0;34m\u001b[0m\u001b[0m\n\u001b[1;32m    259\u001b[0m     \u001b[0;32mdef\u001b[0m \u001b[0m__enter__\u001b[0m\u001b[0;34m(\u001b[0m\u001b[0mself\u001b[0m\u001b[0;34m)\u001b[0m\u001b[0;34m:\u001b[0m\u001b[0;34m\u001b[0m\u001b[0;34m\u001b[0m\u001b[0m\n",
            "\u001b[0;32m/usr/lib/python3.7/multiprocessing/connection.py\u001b[0m in \u001b[0;36m_poll\u001b[0;34m(self, timeout)\u001b[0m\n\u001b[1;32m    412\u001b[0m \u001b[0;34m\u001b[0m\u001b[0m\n\u001b[1;32m    413\u001b[0m     \u001b[0;32mdef\u001b[0m \u001b[0m_poll\u001b[0m\u001b[0;34m(\u001b[0m\u001b[0mself\u001b[0m\u001b[0;34m,\u001b[0m \u001b[0mtimeout\u001b[0m\u001b[0;34m)\u001b[0m\u001b[0;34m:\u001b[0m\u001b[0;34m\u001b[0m\u001b[0;34m\u001b[0m\u001b[0m\n\u001b[0;32m--> 414\u001b[0;31m         \u001b[0mr\u001b[0m \u001b[0;34m=\u001b[0m \u001b[0mwait\u001b[0m\u001b[0;34m(\u001b[0m\u001b[0;34m[\u001b[0m\u001b[0mself\u001b[0m\u001b[0;34m]\u001b[0m\u001b[0;34m,\u001b[0m \u001b[0mtimeout\u001b[0m\u001b[0;34m)\u001b[0m\u001b[0;34m\u001b[0m\u001b[0;34m\u001b[0m\u001b[0m\n\u001b[0m\u001b[1;32m    415\u001b[0m         \u001b[0;32mreturn\u001b[0m \u001b[0mbool\u001b[0m\u001b[0;34m(\u001b[0m\u001b[0mr\u001b[0m\u001b[0;34m)\u001b[0m\u001b[0;34m\u001b[0m\u001b[0;34m\u001b[0m\u001b[0m\n\u001b[1;32m    416\u001b[0m \u001b[0;34m\u001b[0m\u001b[0m\n",
            "\u001b[0;32m/usr/lib/python3.7/multiprocessing/connection.py\u001b[0m in \u001b[0;36mwait\u001b[0;34m(object_list, timeout)\u001b[0m\n\u001b[1;32m    919\u001b[0m \u001b[0;34m\u001b[0m\u001b[0m\n\u001b[1;32m    920\u001b[0m             \u001b[0;32mwhile\u001b[0m \u001b[0;32mTrue\u001b[0m\u001b[0;34m:\u001b[0m\u001b[0;34m\u001b[0m\u001b[0;34m\u001b[0m\u001b[0m\n\u001b[0;32m--> 921\u001b[0;31m                 \u001b[0mready\u001b[0m \u001b[0;34m=\u001b[0m \u001b[0mselector\u001b[0m\u001b[0;34m.\u001b[0m\u001b[0mselect\u001b[0m\u001b[0;34m(\u001b[0m\u001b[0mtimeout\u001b[0m\u001b[0;34m)\u001b[0m\u001b[0;34m\u001b[0m\u001b[0;34m\u001b[0m\u001b[0m\n\u001b[0m\u001b[1;32m    922\u001b[0m                 \u001b[0;32mif\u001b[0m \u001b[0mready\u001b[0m\u001b[0;34m:\u001b[0m\u001b[0;34m\u001b[0m\u001b[0;34m\u001b[0m\u001b[0m\n\u001b[1;32m    923\u001b[0m                     \u001b[0;32mreturn\u001b[0m \u001b[0;34m[\u001b[0m\u001b[0mkey\u001b[0m\u001b[0;34m.\u001b[0m\u001b[0mfileobj\u001b[0m \u001b[0;32mfor\u001b[0m \u001b[0;34m(\u001b[0m\u001b[0mkey\u001b[0m\u001b[0;34m,\u001b[0m \u001b[0mevents\u001b[0m\u001b[0;34m)\u001b[0m \u001b[0;32min\u001b[0m \u001b[0mready\u001b[0m\u001b[0;34m]\u001b[0m\u001b[0;34m\u001b[0m\u001b[0;34m\u001b[0m\u001b[0m\n",
            "\u001b[0;32m/usr/lib/python3.7/selectors.py\u001b[0m in \u001b[0;36mselect\u001b[0;34m(self, timeout)\u001b[0m\n\u001b[1;32m    413\u001b[0m         \u001b[0mready\u001b[0m \u001b[0;34m=\u001b[0m \u001b[0;34m[\u001b[0m\u001b[0;34m]\u001b[0m\u001b[0;34m\u001b[0m\u001b[0;34m\u001b[0m\u001b[0m\n\u001b[1;32m    414\u001b[0m         \u001b[0;32mtry\u001b[0m\u001b[0;34m:\u001b[0m\u001b[0;34m\u001b[0m\u001b[0;34m\u001b[0m\u001b[0m\n\u001b[0;32m--> 415\u001b[0;31m             \u001b[0mfd_event_list\u001b[0m \u001b[0;34m=\u001b[0m \u001b[0mself\u001b[0m\u001b[0;34m.\u001b[0m\u001b[0m_selector\u001b[0m\u001b[0;34m.\u001b[0m\u001b[0mpoll\u001b[0m\u001b[0;34m(\u001b[0m\u001b[0mtimeout\u001b[0m\u001b[0;34m)\u001b[0m\u001b[0;34m\u001b[0m\u001b[0;34m\u001b[0m\u001b[0m\n\u001b[0m\u001b[1;32m    416\u001b[0m         \u001b[0;32mexcept\u001b[0m \u001b[0mInterruptedError\u001b[0m\u001b[0;34m:\u001b[0m\u001b[0;34m\u001b[0m\u001b[0;34m\u001b[0m\u001b[0m\n\u001b[1;32m    417\u001b[0m             \u001b[0;32mreturn\u001b[0m \u001b[0mready\u001b[0m\u001b[0;34m\u001b[0m\u001b[0;34m\u001b[0m\u001b[0m\n",
            "\u001b[0;31mKeyboardInterrupt\u001b[0m: "
          ]
        }
      ]
    },
    {
      "cell_type": "code",
      "source": [
        "#batch size = 64, learning rate = 0.013\n",
        "use_cuda = True\n",
        "net = letterclassifier()\n",
        "\n",
        "if use_cuda and torch.cuda.is_available():\n",
        "  net.cuda()\n",
        "  print('CUDA is available!  Training on GPU ...')\n",
        "else:\n",
        "  print('CUDA is not available.  Training on CPU ...')\n",
        "train_net(net, batch_size=64, learning_rate=0.013, num_epochs=30)"
      ],
      "metadata": {
        "colab": {
          "base_uri": "https://localhost:8080/"
        },
        "id": "_QWACa9wqoDV",
        "outputId": "f9e74518-992a-4bc9-dc74-3e5b782dcfbe"
      },
      "execution_count": null,
      "outputs": [
        {
          "output_type": "stream",
          "name": "stdout",
          "text": [
            "CUDA is available!  Training on GPU ...\n",
            "Epoch 1: Train acc: 0.3624322697170379, Train loss: 2.0494755644064684 |Validation acc: 0.28125, Validation loss: 3.290916919708252\n",
            "Epoch 2: Train acc: 0.6435881998795906, Train loss: 1.3550345507951884 |Validation acc: 0.5, Validation loss: 2.33872127532959\n",
            "Epoch 3: Train acc: 0.7664057796508128, Train loss: 0.9514299424795004 |Validation acc: 0.765625, Validation loss: 1.7177774906158447\n",
            "Epoch 4: Train acc: 0.8061408789885611, Train loss: 0.7359262991410035 |Validation acc: 0.6875, Validation loss: 1.5076799392700195\n",
            "Epoch 5: Train acc: 0.847682119205298, Train loss: 0.6210694049413388 |Validation acc: 0.703125, Validation loss: 1.6208680868148804\n",
            "Epoch 6: Train acc: 0.8892233594220349, Train loss: 0.5233588436475167 |Validation acc: 0.6875, Validation loss: 1.8113118410110474\n",
            "Epoch 7: Train acc: 0.8819987959060807, Train loss: 0.4114063542622786 |Validation acc: 0.78125, Validation loss: 0.9302095174789429\n",
            "Epoch 8: Train acc: 0.893437688139675, Train loss: 0.37201352417469025 |Validation acc: 0.765625, Validation loss: 2.2045578956604004\n",
            "Epoch 9: Train acc: 0.9373871161950632, Train loss: 0.3233620048715518 |Validation acc: 0.703125, Validation loss: 2.7175328731536865\n",
            "Epoch 10: Train acc: 0.9512341962673089, Train loss: 0.23149468262608236 |Validation acc: 0.875, Validation loss: 1.7669475078582764\n",
            "Epoch 11: Train acc: 0.9271523178807947, Train loss: 0.1884690147752945 |Validation acc: 0.734375, Validation loss: 2.4096548557281494\n",
            "Epoch 12: Train acc: 0.9416014449127031, Train loss: 0.2444360823585437 |Validation acc: 0.765625, Validation loss: 1.9448933601379395\n",
            "Epoch 13: Train acc: 0.9747140276941602, Train loss: 0.1791688076292093 |Validation acc: 0.8125, Validation loss: 2.398519277572632\n",
            "Epoch 14: Train acc: 0.9620710415412402, Train loss: 0.16099037000766167 |Validation acc: 0.75, Validation loss: 2.672154426574707\n",
            "Epoch 15: Train acc: 0.9602649006622517, Train loss: 0.12858791892918256 |Validation acc: 0.703125, Validation loss: 4.439389228820801\n",
            "Epoch 16: Train acc: 0.9771222155328115, Train loss: 0.1472555651830939 |Validation acc: 0.75, Validation loss: 3.2815983295440674\n",
            "Epoch 17: Train acc: 0.9813365442504516, Train loss: 0.11317430465267254 |Validation acc: 0.8125, Validation loss: 3.1583733558654785\n",
            "Epoch 18: Train acc: 0.979530403371463, Train loss: 0.1149419999967974 |Validation acc: 0.859375, Validation loss: 2.674638032913208\n",
            "Epoch 19: Train acc: 0.9662853702588802, Train loss: 0.2024509974110585 |Validation acc: 0.78125, Validation loss: 1.9261698722839355\n",
            "Epoch 20: Train acc: 0.9723058398555088, Train loss: 0.15303913969546556 |Validation acc: 0.734375, Validation loss: 4.033052444458008\n",
            "Epoch 21: Train acc: 0.9807344972907887, Train loss: 0.10684046292534241 |Validation acc: 0.734375, Validation loss: 3.811960220336914\n",
            "Epoch 22: Train acc: 0.9662853702588802, Train loss: 0.10226397411539577 |Validation acc: 0.71875, Validation loss: 3.1535000801086426\n",
            "Epoch 23: Train acc: 0.9849488260084287, Train loss: 0.1024152751152332 |Validation acc: 0.734375, Validation loss: 3.0913569927215576\n",
            "Epoch 24: Train acc: 0.9903672486453944, Train loss: 0.0889011940632302 |Validation acc: 0.78125, Validation loss: 5.274420261383057\n",
            "Epoch 25: Train acc: 0.9873570138470801, Train loss: 0.07420312435939334 |Validation acc: 0.796875, Validation loss: 4.960116863250732\n",
            "Epoch 26: Train acc: 0.983744732089103, Train loss: 0.0877084109860544 |Validation acc: 0.71875, Validation loss: 2.4776055812835693\n",
            "Epoch 27: Train acc: 0.9759181216134859, Train loss: 0.0903279918532532 |Validation acc: 0.703125, Validation loss: 5.768756866455078\n",
            "Epoch 28: Train acc: 0.9867549668874173, Train loss: 0.09764932067348407 |Validation acc: 0.84375, Validation loss: 2.5456807613372803\n",
            "Epoch 29: Train acc: 0.9596628537025887, Train loss: 0.06299627360959466 |Validation acc: 0.765625, Validation loss: 3.6963813304901123\n",
            "Epoch 30: Train acc: 0.9771222155328115, Train loss: 0.11966639058664441 |Validation acc: 0.71875, Validation loss: 3.8372201919555664\n",
            "Finished Training\n",
            "Total time elapsed: 568.83 seconds\n"
          ]
        }
      ]
    },
    {
      "cell_type": "code",
      "source": [
        "model_path_4 = get_model_name(\"letterclassifier\", batch_size=64, learning_rate=0.013, epoch=29)\n",
        "plot_training_curve(model_path_4)"
      ],
      "metadata": {
        "colab": {
          "base_uri": "https://localhost:8080/",
          "height": 573
        },
        "id": "IEeyMM8lqn86",
        "outputId": "84f895d2-9044-4ad8-ddfb-786fcec19d4c"
      },
      "execution_count": null,
      "outputs": [
        {
          "output_type": "display_data",
          "data": {
            "image/png": "[encoded data removed]",
            "text/plain": [
              "<Figure size 432x288 with 1 Axes>"
            ]
          },
          "metadata": {
            "needs_background": "light"
          }
        },
        {
          "output_type": "display_data",
          "data": {
            "image/png": "[encoded data removed]",
            "text/plain": [
              "<Figure size 432x288 with 1 Axes>"
            ]
          },
          "metadata": {
            "needs_background": "light"
          }
        }
      ]
    },
    {
      "cell_type": "code",
      "source": [
        "#batch size = 512, learning rate = 0.01\n",
        "use_cuda = True\n",
        "net = letterclassifier()\n",
        "\n",
        "if use_cuda and torch.cuda.is_available():\n",
        "  net.cuda()\n",
        "  print('CUDA is available!  Training on GPU ...')\n",
        "else:\n",
        "  print('CUDA is not available.  Training on CPU ...')\n",
        "train_net(net, batch_size=512, learning_rate=0.01, num_epochs=50)"
      ],
      "metadata": {
        "colab": {
          "base_uri": "https://localhost:8080/",
          "height": 779
        },
        "id": "VDJGQEgNq1bZ",
        "outputId": "66b76630-cb35-4919-c5ca-bb073816040b"
      },
      "execution_count": null,
      "outputs": [
        {
          "output_type": "stream",
          "name": "stdout",
          "text": [
            "CUDA is available!  Training on GPU ...\n",
            "Epoch 1: Train acc: 0.10475617098133655, Train loss: 2.2424994111061096 |Validation acc: 0.09523809523809523, Validation loss: 4.406339168548584\n",
            "Epoch 2: Train acc: 0.12221553281155931, Train loss: 2.2006232142448425 |Validation acc: 0.1111111111111111, Validation loss: 4.378012180328369\n",
            "Epoch 3: Train acc: 0.3576158940397351, Train loss: 2.062881648540497 |Validation acc: 0.32936507936507936, Validation loss: 3.5687668323516846\n",
            "Epoch 4: Train acc: 0.45755568934376883, Train loss: 1.7387966215610504 |Validation acc: 0.4781746031746032, Validation loss: 3.039137125015259\n",
            "Epoch 5: Train acc: 0.5731487055990367, Train loss: 1.430136501789093 |Validation acc: 0.5714285714285714, Validation loss: 2.527276039123535\n",
            "Epoch 6: Train acc: 0.6592414208308248, Train loss: 1.2362525165081024 |Validation acc: 0.6309523809523809, Validation loss: 2.136385679244995\n",
            "Epoch 7: Train acc: 0.6821192052980133, Train loss: 1.0768931806087494 |Validation acc: 0.6746031746031746, Validation loss: 1.9151638746261597\n",
            "Epoch 8: Train acc: 0.7314870559903672, Train loss: 0.9356906563043594 |Validation acc: 0.7182539682539683, Validation loss: 1.7313830852508545\n",
            "Epoch 9: Train acc: 0.7652016857314871, Train loss: 0.8462590724229813 |Validation acc: 0.7380952380952381, Validation loss: 1.7041212320327759\n",
            "Epoch 10: Train acc: 0.7832630945213727, Train loss: 0.7714202553033829 |Validation acc: 0.753968253968254, Validation loss: 1.526389241218567\n",
            "Epoch 11: Train acc: 0.8211920529801324, Train loss: 0.6712967604398727 |Validation acc: 0.746031746031746, Validation loss: 1.5351793766021729\n",
            "Epoch 12: Train acc: 0.8332329921733895, Train loss: 0.5390918180346489 |Validation acc: 0.7619047619047619, Validation loss: 1.6259478330612183\n",
            "Epoch 13: Train acc: 0.856110776640578, Train loss: 0.469719722867012 |Validation acc: 0.7837301587301587, Validation loss: 1.4311267137527466\n",
            "Epoch 14: Train acc: 0.8904274533413606, Train loss: 0.39744143933057785 |Validation acc: 0.7857142857142857, Validation loss: 1.6634302139282227\n",
            "Epoch 15: Train acc: 0.9060806742925949, Train loss: 0.3576192110776901 |Validation acc: 0.7857142857142857, Validation loss: 1.607183814048767\n",
            "Epoch 16: Train acc: 0.930162552679109, Train loss: 0.2690301164984703 |Validation acc: 0.7896825396825397, Validation loss: 1.7118840217590332\n",
            "Epoch 17: Train acc: 0.9494280553883203, Train loss: 0.2104392871260643 |Validation acc: 0.7976190476190477, Validation loss: 1.728093147277832\n",
            "Epoch 18: Train acc: 0.9391932570740518, Train loss: 0.1791452020406723 |Validation acc: 0.7976190476190477, Validation loss: 1.9111316204071045\n",
            "Epoch 19: Train acc: 0.9319686935580975, Train loss: 0.15793385915458202 |Validation acc: 0.7738095238095238, Validation loss: 2.3502416610717773\n",
            "Epoch 20: Train acc: 0.9620710415412402, Train loss: 0.1239934042096138 |Validation acc: 0.8015873015873016, Validation loss: 2.4349749088287354\n",
            "Epoch 21: Train acc: 0.9771222155328115, Train loss: 0.09057713206857443 |Validation acc: 0.8115079365079365, Validation loss: 2.283961296081543\n",
            "Epoch 22: Train acc: 0.9813365442504516, Train loss: 0.06751251593232155 |Validation acc: 0.8154761904761905, Validation loss: 2.4431369304656982\n",
            "Epoch 23: Train acc: 0.950632149307646, Train loss: 0.08013917412608862 |Validation acc: 0.7876984126984127, Validation loss: 3.196916341781616\n",
            "Epoch 24: Train acc: 0.9512341962673089, Train loss: 0.13089350704103708 |Validation acc: 0.7698412698412699, Validation loss: 2.689894199371338\n"
          ]
        },
        {
          "output_type": "error",
          "ename": "KeyboardInterrupt",
          "evalue": "ignored",
          "traceback": [
            "\u001b[0;31m---------------------------------------------------------------------------\u001b[0m",
            "\u001b[0;31mKeyboardInterrupt\u001b[0m                         Traceback (most recent call last)",
            "\u001b[0;32m<ipython-input-35-c41e0ad2d58d>\u001b[0m in \u001b[0;36m<module>\u001b[0;34m()\u001b[0m\n\u001b[1;32m      8\u001b[0m \u001b[0;32melse\u001b[0m\u001b[0;34m:\u001b[0m\u001b[0;34m\u001b[0m\u001b[0;34m\u001b[0m\u001b[0m\n\u001b[1;32m      9\u001b[0m   \u001b[0mprint\u001b[0m\u001b[0;34m(\u001b[0m\u001b[0;34m'CUDA is not available.  Training on CPU ...'\u001b[0m\u001b[0;34m)\u001b[0m\u001b[0;34m\u001b[0m\u001b[0;34m\u001b[0m\u001b[0m\n\u001b[0;32m---> 10\u001b[0;31m \u001b[0mtrain_net\u001b[0m\u001b[0;34m(\u001b[0m\u001b[0mnet\u001b[0m\u001b[0;34m,\u001b[0m \u001b[0mbatch_size\u001b[0m\u001b[0;34m=\u001b[0m\u001b[0;36m512\u001b[0m\u001b[0;34m,\u001b[0m \u001b[0mlearning_rate\u001b[0m\u001b[0;34m=\u001b[0m\u001b[0;36m0.01\u001b[0m\u001b[0;34m,\u001b[0m \u001b[0mnum_epochs\u001b[0m\u001b[0;34m=\u001b[0m\u001b[0;36m50\u001b[0m\u001b[0;34m)\u001b[0m\u001b[0;34m\u001b[0m\u001b[0;34m\u001b[0m\u001b[0m\n\u001b[0m",
            "\u001b[0;32m<ipython-input-12-92573cf8607d>\u001b[0m in \u001b[0;36mtrain_net\u001b[0;34m(net, batch_size, learning_rate, num_epochs, transfer_learning)\u001b[0m\n\u001b[1;32m     67\u001b[0m \u001b[0;34m\u001b[0m\u001b[0m\n\u001b[1;32m     68\u001b[0m         \u001b[0mtrain_loss\u001b[0m\u001b[0;34m[\u001b[0m\u001b[0mepoch\u001b[0m\u001b[0;34m]\u001b[0m \u001b[0;34m=\u001b[0m \u001b[0mfloat\u001b[0m\u001b[0;34m(\u001b[0m\u001b[0mtotal_train_loss\u001b[0m\u001b[0;34m)\u001b[0m \u001b[0;34m/\u001b[0m \u001b[0;34m(\u001b[0m\u001b[0mi\u001b[0m\u001b[0;34m+\u001b[0m\u001b[0;36m1\u001b[0m\u001b[0;34m)\u001b[0m\u001b[0;34m\u001b[0m\u001b[0;34m\u001b[0m\u001b[0m\n\u001b[0;32m---> 69\u001b[0;31m         \u001b[0mtrain_acc\u001b[0m\u001b[0;34m[\u001b[0m\u001b[0mepoch\u001b[0m\u001b[0;34m]\u001b[0m \u001b[0;34m=\u001b[0m \u001b[0mget_accuracy\u001b[0m\u001b[0;34m(\u001b[0m\u001b[0mnet\u001b[0m\u001b[0;34m,\u001b[0m \u001b[0mtrain_loader\u001b[0m\u001b[0;34m,\u001b[0m \u001b[0mval_loader\u001b[0m\u001b[0;34m,\u001b[0m \u001b[0mtest_loader\u001b[0m\u001b[0;34m,\u001b[0m \u001b[0mtrain\u001b[0m\u001b[0;34m=\u001b[0m\u001b[0;32mTrue\u001b[0m\u001b[0;34m,\u001b[0m \u001b[0mtest\u001b[0m \u001b[0;34m=\u001b[0m \u001b[0;32mFalse\u001b[0m\u001b[0;34m)\u001b[0m\u001b[0;34m\u001b[0m\u001b[0;34m\u001b[0m\u001b[0m\n\u001b[0m\u001b[1;32m     70\u001b[0m \u001b[0;34m\u001b[0m\u001b[0m\n\u001b[1;32m     71\u001b[0m         \u001b[0;32mwith\u001b[0m \u001b[0mtorch\u001b[0m\u001b[0;34m.\u001b[0m\u001b[0mno_grad\u001b[0m\u001b[0;34m(\u001b[0m\u001b[0;34m)\u001b[0m\u001b[0;34m:\u001b[0m\u001b[0;34m\u001b[0m\u001b[0;34m\u001b[0m\u001b[0m\n",
            "\u001b[0;32m<ipython-input-6-ec50a1ba9117>\u001b[0m in \u001b[0;36mget_accuracy\u001b[0;34m(model, train_loader, val_loader, test_loader, train, test, loss, criterion, sanity_check)\u001b[0m\n\u001b[1;32m     33\u001b[0m           \u001b[0;32mreturn\u001b[0m \u001b[0mcorrect\u001b[0m \u001b[0;34m/\u001b[0m \u001b[0mtotal\u001b[0m\u001b[0;34m,\u001b[0m \u001b[0mfloat\u001b[0m\u001b[0;34m(\u001b[0m\u001b[0mloss_\u001b[0m\u001b[0;34m)\u001b[0m \u001b[0;34m/\u001b[0m \u001b[0;34m(\u001b[0m\u001b[0mc\u001b[0m\u001b[0;34m)\u001b[0m\u001b[0;34m\u001b[0m\u001b[0;34m\u001b[0m\u001b[0m\n\u001b[1;32m     34\u001b[0m     \u001b[0;32mif\u001b[0m \u001b[0mloss\u001b[0m \u001b[0;34m==\u001b[0m \u001b[0;32mFalse\u001b[0m\u001b[0;34m:\u001b[0m\u001b[0;34m\u001b[0m\u001b[0;34m\u001b[0m\u001b[0m\n\u001b[0;32m---> 35\u001b[0;31m       \u001b[0;32mfor\u001b[0m \u001b[0mimgs\u001b[0m\u001b[0;34m,\u001b[0m \u001b[0mlabels\u001b[0m \u001b[0;32min\u001b[0m \u001b[0mdata\u001b[0m\u001b[0;34m:\u001b[0m\u001b[0;34m\u001b[0m\u001b[0;34m\u001b[0m\u001b[0m\n\u001b[0m\u001b[1;32m     36\u001b[0m         \u001b[0;31m#############################################\u001b[0m\u001b[0;34m\u001b[0m\u001b[0;34m\u001b[0m\u001b[0;34m\u001b[0m\u001b[0m\n\u001b[1;32m     37\u001b[0m         \u001b[0;31m#To Enable GPU Usage\u001b[0m\u001b[0;34m\u001b[0m\u001b[0;34m\u001b[0m\u001b[0;34m\u001b[0m\u001b[0m\n",
            "\u001b[0;32m/usr/local/lib/python3.7/dist-packages/torch/utils/data/dataloader.py\u001b[0m in \u001b[0;36m__next__\u001b[0;34m(self)\u001b[0m\n\u001b[1;32m    519\u001b[0m             \u001b[0;32mif\u001b[0m \u001b[0mself\u001b[0m\u001b[0;34m.\u001b[0m\u001b[0m_sampler_iter\u001b[0m \u001b[0;32mis\u001b[0m \u001b[0;32mNone\u001b[0m\u001b[0;34m:\u001b[0m\u001b[0;34m\u001b[0m\u001b[0;34m\u001b[0m\u001b[0m\n\u001b[1;32m    520\u001b[0m                 \u001b[0mself\u001b[0m\u001b[0;34m.\u001b[0m\u001b[0m_reset\u001b[0m\u001b[0;34m(\u001b[0m\u001b[0;34m)\u001b[0m\u001b[0;34m\u001b[0m\u001b[0;34m\u001b[0m\u001b[0m\n\u001b[0;32m--> 521\u001b[0;31m             \u001b[0mdata\u001b[0m \u001b[0;34m=\u001b[0m \u001b[0mself\u001b[0m\u001b[0;34m.\u001b[0m\u001b[0m_next_data\u001b[0m\u001b[0;34m(\u001b[0m\u001b[0;34m)\u001b[0m\u001b[0;34m\u001b[0m\u001b[0;34m\u001b[0m\u001b[0m\n\u001b[0m\u001b[1;32m    522\u001b[0m             \u001b[0mself\u001b[0m\u001b[0;34m.\u001b[0m\u001b[0m_num_yielded\u001b[0m \u001b[0;34m+=\u001b[0m \u001b[0;36m1\u001b[0m\u001b[0;34m\u001b[0m\u001b[0;34m\u001b[0m\u001b[0m\n\u001b[1;32m    523\u001b[0m             \u001b[0;32mif\u001b[0m \u001b[0mself\u001b[0m\u001b[0;34m.\u001b[0m\u001b[0m_dataset_kind\u001b[0m \u001b[0;34m==\u001b[0m \u001b[0m_DatasetKind\u001b[0m\u001b[0;34m.\u001b[0m\u001b[0mIterable\u001b[0m \u001b[0;32mand\u001b[0m\u001b[0;31m \u001b[0m\u001b[0;31m\\\u001b[0m\u001b[0;34m\u001b[0m\u001b[0;34m\u001b[0m\u001b[0m\n",
            "\u001b[0;32m/usr/local/lib/python3.7/dist-packages/torch/utils/data/dataloader.py\u001b[0m in \u001b[0;36m_next_data\u001b[0;34m(self)\u001b[0m\n\u001b[1;32m   1184\u001b[0m \u001b[0;34m\u001b[0m\u001b[0m\n\u001b[1;32m   1185\u001b[0m             \u001b[0;32massert\u001b[0m \u001b[0;32mnot\u001b[0m \u001b[0mself\u001b[0m\u001b[0;34m.\u001b[0m\u001b[0m_shutdown\u001b[0m \u001b[0;32mand\u001b[0m \u001b[0mself\u001b[0m\u001b[0;34m.\u001b[0m\u001b[0m_tasks_outstanding\u001b[0m \u001b[0;34m>\u001b[0m \u001b[0;36m0\u001b[0m\u001b[0;34m\u001b[0m\u001b[0;34m\u001b[0m\u001b[0m\n\u001b[0;32m-> 1186\u001b[0;31m             \u001b[0midx\u001b[0m\u001b[0;34m,\u001b[0m \u001b[0mdata\u001b[0m \u001b[0;34m=\u001b[0m \u001b[0mself\u001b[0m\u001b[0;34m.\u001b[0m\u001b[0m_get_data\u001b[0m\u001b[0;34m(\u001b[0m\u001b[0;34m)\u001b[0m\u001b[0;34m\u001b[0m\u001b[0;34m\u001b[0m\u001b[0m\n\u001b[0m\u001b[1;32m   1187\u001b[0m             \u001b[0mself\u001b[0m\u001b[0;34m.\u001b[0m\u001b[0m_tasks_outstanding\u001b[0m \u001b[0;34m-=\u001b[0m \u001b[0;36m1\u001b[0m\u001b[0;34m\u001b[0m\u001b[0;34m\u001b[0m\u001b[0m\n\u001b[1;32m   1188\u001b[0m             \u001b[0;32mif\u001b[0m \u001b[0mself\u001b[0m\u001b[0;34m.\u001b[0m\u001b[0m_dataset_kind\u001b[0m \u001b[0;34m==\u001b[0m \u001b[0m_DatasetKind\u001b[0m\u001b[0;34m.\u001b[0m\u001b[0mIterable\u001b[0m\u001b[0;34m:\u001b[0m\u001b[0;34m\u001b[0m\u001b[0;34m\u001b[0m\u001b[0m\n",
            "\u001b[0;32m/usr/local/lib/python3.7/dist-packages/torch/utils/data/dataloader.py\u001b[0m in \u001b[0;36m_get_data\u001b[0;34m(self)\u001b[0m\n\u001b[1;32m   1150\u001b[0m         \u001b[0;32melse\u001b[0m\u001b[0;34m:\u001b[0m\u001b[0;34m\u001b[0m\u001b[0;34m\u001b[0m\u001b[0m\n\u001b[1;32m   1151\u001b[0m             \u001b[0;32mwhile\u001b[0m \u001b[0;32mTrue\u001b[0m\u001b[0;34m:\u001b[0m\u001b[0;34m\u001b[0m\u001b[0;34m\u001b[0m\u001b[0m\n\u001b[0;32m-> 1152\u001b[0;31m                 \u001b[0msuccess\u001b[0m\u001b[0;34m,\u001b[0m \u001b[0mdata\u001b[0m \u001b[0;34m=\u001b[0m \u001b[0mself\u001b[0m\u001b[0;34m.\u001b[0m\u001b[0m_try_get_data\u001b[0m\u001b[0;34m(\u001b[0m\u001b[0;34m)\u001b[0m\u001b[0;34m\u001b[0m\u001b[0;34m\u001b[0m\u001b[0m\n\u001b[0m\u001b[1;32m   1153\u001b[0m                 \u001b[0;32mif\u001b[0m \u001b[0msuccess\u001b[0m\u001b[0;34m:\u001b[0m\u001b[0;34m\u001b[0m\u001b[0;34m\u001b[0m\u001b[0m\n\u001b[1;32m   1154\u001b[0m                     \u001b[0;32mreturn\u001b[0m \u001b[0mdata\u001b[0m\u001b[0;34m\u001b[0m\u001b[0;34m\u001b[0m\u001b[0m\n",
            "\u001b[0;32m/usr/local/lib/python3.7/dist-packages/torch/utils/data/dataloader.py\u001b[0m in \u001b[0;36m_try_get_data\u001b[0;34m(self, timeout)\u001b[0m\n\u001b[1;32m    988\u001b[0m         \u001b[0;31m#   (bool: whether successfully get data, any: data if successful else None)\u001b[0m\u001b[0;34m\u001b[0m\u001b[0;34m\u001b[0m\u001b[0;34m\u001b[0m\u001b[0m\n\u001b[1;32m    989\u001b[0m         \u001b[0;32mtry\u001b[0m\u001b[0;34m:\u001b[0m\u001b[0;34m\u001b[0m\u001b[0;34m\u001b[0m\u001b[0m\n\u001b[0;32m--> 990\u001b[0;31m             \u001b[0mdata\u001b[0m \u001b[0;34m=\u001b[0m \u001b[0mself\u001b[0m\u001b[0;34m.\u001b[0m\u001b[0m_data_queue\u001b[0m\u001b[0;34m.\u001b[0m\u001b[0mget\u001b[0m\u001b[0;34m(\u001b[0m\u001b[0mtimeout\u001b[0m\u001b[0;34m=\u001b[0m\u001b[0mtimeout\u001b[0m\u001b[0;34m)\u001b[0m\u001b[0;34m\u001b[0m\u001b[0;34m\u001b[0m\u001b[0m\n\u001b[0m\u001b[1;32m    991\u001b[0m             \u001b[0;32mreturn\u001b[0m \u001b[0;34m(\u001b[0m\u001b[0;32mTrue\u001b[0m\u001b[0;34m,\u001b[0m \u001b[0mdata\u001b[0m\u001b[0;34m)\u001b[0m\u001b[0;34m\u001b[0m\u001b[0;34m\u001b[0m\u001b[0m\n\u001b[1;32m    992\u001b[0m         \u001b[0;32mexcept\u001b[0m \u001b[0mException\u001b[0m \u001b[0;32mas\u001b[0m \u001b[0me\u001b[0m\u001b[0;34m:\u001b[0m\u001b[0;34m\u001b[0m\u001b[0;34m\u001b[0m\u001b[0m\n",
            "\u001b[0;32m/usr/lib/python3.7/multiprocessing/queues.py\u001b[0m in \u001b[0;36mget\u001b[0;34m(self, block, timeout)\u001b[0m\n\u001b[1;32m    102\u001b[0m                 \u001b[0;32mif\u001b[0m \u001b[0mblock\u001b[0m\u001b[0;34m:\u001b[0m\u001b[0;34m\u001b[0m\u001b[0;34m\u001b[0m\u001b[0m\n\u001b[1;32m    103\u001b[0m                     \u001b[0mtimeout\u001b[0m \u001b[0;34m=\u001b[0m \u001b[0mdeadline\u001b[0m \u001b[0;34m-\u001b[0m \u001b[0mtime\u001b[0m\u001b[0;34m.\u001b[0m\u001b[0mmonotonic\u001b[0m\u001b[0;34m(\u001b[0m\u001b[0;34m)\u001b[0m\u001b[0;34m\u001b[0m\u001b[0;34m\u001b[0m\u001b[0m\n\u001b[0;32m--> 104\u001b[0;31m                     \u001b[0;32mif\u001b[0m \u001b[0;32mnot\u001b[0m \u001b[0mself\u001b[0m\u001b[0;34m.\u001b[0m\u001b[0m_poll\u001b[0m\u001b[0;34m(\u001b[0m\u001b[0mtimeout\u001b[0m\u001b[0;34m)\u001b[0m\u001b[0;34m:\u001b[0m\u001b[0;34m\u001b[0m\u001b[0;34m\u001b[0m\u001b[0m\n\u001b[0m\u001b[1;32m    105\u001b[0m                         \u001b[0;32mraise\u001b[0m \u001b[0mEmpty\u001b[0m\u001b[0;34m\u001b[0m\u001b[0;34m\u001b[0m\u001b[0m\n\u001b[1;32m    106\u001b[0m                 \u001b[0;32melif\u001b[0m \u001b[0;32mnot\u001b[0m \u001b[0mself\u001b[0m\u001b[0;34m.\u001b[0m\u001b[0m_poll\u001b[0m\u001b[0;34m(\u001b[0m\u001b[0;34m)\u001b[0m\u001b[0;34m:\u001b[0m\u001b[0;34m\u001b[0m\u001b[0;34m\u001b[0m\u001b[0m\n",
            "\u001b[0;32m/usr/lib/python3.7/multiprocessing/connection.py\u001b[0m in \u001b[0;36mpoll\u001b[0;34m(self, timeout)\u001b[0m\n\u001b[1;32m    255\u001b[0m         \u001b[0mself\u001b[0m\u001b[0;34m.\u001b[0m\u001b[0m_check_closed\u001b[0m\u001b[0;34m(\u001b[0m\u001b[0;34m)\u001b[0m\u001b[0;34m\u001b[0m\u001b[0;34m\u001b[0m\u001b[0m\n\u001b[1;32m    256\u001b[0m         \u001b[0mself\u001b[0m\u001b[0;34m.\u001b[0m\u001b[0m_check_readable\u001b[0m\u001b[0;34m(\u001b[0m\u001b[0;34m)\u001b[0m\u001b[0;34m\u001b[0m\u001b[0;34m\u001b[0m\u001b[0m\n\u001b[0;32m--> 257\u001b[0;31m         \u001b[0;32mreturn\u001b[0m \u001b[0mself\u001b[0m\u001b[0;34m.\u001b[0m\u001b[0m_poll\u001b[0m\u001b[0;34m(\u001b[0m\u001b[0mtimeout\u001b[0m\u001b[0;34m)\u001b[0m\u001b[0;34m\u001b[0m\u001b[0;34m\u001b[0m\u001b[0m\n\u001b[0m\u001b[1;32m    258\u001b[0m \u001b[0;34m\u001b[0m\u001b[0m\n\u001b[1;32m    259\u001b[0m     \u001b[0;32mdef\u001b[0m \u001b[0m__enter__\u001b[0m\u001b[0;34m(\u001b[0m\u001b[0mself\u001b[0m\u001b[0;34m)\u001b[0m\u001b[0;34m:\u001b[0m\u001b[0;34m\u001b[0m\u001b[0;34m\u001b[0m\u001b[0m\n",
            "\u001b[0;32m/usr/lib/python3.7/multiprocessing/connection.py\u001b[0m in \u001b[0;36m_poll\u001b[0;34m(self, timeout)\u001b[0m\n\u001b[1;32m    412\u001b[0m \u001b[0;34m\u001b[0m\u001b[0m\n\u001b[1;32m    413\u001b[0m     \u001b[0;32mdef\u001b[0m \u001b[0m_poll\u001b[0m\u001b[0;34m(\u001b[0m\u001b[0mself\u001b[0m\u001b[0;34m,\u001b[0m \u001b[0mtimeout\u001b[0m\u001b[0;34m)\u001b[0m\u001b[0;34m:\u001b[0m\u001b[0;34m\u001b[0m\u001b[0;34m\u001b[0m\u001b[0m\n\u001b[0;32m--> 414\u001b[0;31m         \u001b[0mr\u001b[0m \u001b[0;34m=\u001b[0m \u001b[0mwait\u001b[0m\u001b[0;34m(\u001b[0m\u001b[0;34m[\u001b[0m\u001b[0mself\u001b[0m\u001b[0;34m]\u001b[0m\u001b[0;34m,\u001b[0m \u001b[0mtimeout\u001b[0m\u001b[0;34m)\u001b[0m\u001b[0;34m\u001b[0m\u001b[0;34m\u001b[0m\u001b[0m\n\u001b[0m\u001b[1;32m    415\u001b[0m         \u001b[0;32mreturn\u001b[0m \u001b[0mbool\u001b[0m\u001b[0;34m(\u001b[0m\u001b[0mr\u001b[0m\u001b[0;34m)\u001b[0m\u001b[0;34m\u001b[0m\u001b[0;34m\u001b[0m\u001b[0m\n\u001b[1;32m    416\u001b[0m \u001b[0;34m\u001b[0m\u001b[0m\n",
            "\u001b[0;32m/usr/lib/python3.7/multiprocessing/connection.py\u001b[0m in \u001b[0;36mwait\u001b[0;34m(object_list, timeout)\u001b[0m\n\u001b[1;32m    919\u001b[0m \u001b[0;34m\u001b[0m\u001b[0m\n\u001b[1;32m    920\u001b[0m             \u001b[0;32mwhile\u001b[0m \u001b[0;32mTrue\u001b[0m\u001b[0;34m:\u001b[0m\u001b[0;34m\u001b[0m\u001b[0;34m\u001b[0m\u001b[0m\n\u001b[0;32m--> 921\u001b[0;31m                 \u001b[0mready\u001b[0m \u001b[0;34m=\u001b[0m \u001b[0mselector\u001b[0m\u001b[0;34m.\u001b[0m\u001b[0mselect\u001b[0m\u001b[0;34m(\u001b[0m\u001b[0mtimeout\u001b[0m\u001b[0;34m)\u001b[0m\u001b[0;34m\u001b[0m\u001b[0;34m\u001b[0m\u001b[0m\n\u001b[0m\u001b[1;32m    922\u001b[0m                 \u001b[0;32mif\u001b[0m \u001b[0mready\u001b[0m\u001b[0;34m:\u001b[0m\u001b[0;34m\u001b[0m\u001b[0;34m\u001b[0m\u001b[0m\n\u001b[1;32m    923\u001b[0m                     \u001b[0;32mreturn\u001b[0m \u001b[0;34m[\u001b[0m\u001b[0mkey\u001b[0m\u001b[0;34m.\u001b[0m\u001b[0mfileobj\u001b[0m \u001b[0;32mfor\u001b[0m \u001b[0;34m(\u001b[0m\u001b[0mkey\u001b[0m\u001b[0;34m,\u001b[0m \u001b[0mevents\u001b[0m\u001b[0;34m)\u001b[0m \u001b[0;32min\u001b[0m \u001b[0mready\u001b[0m\u001b[0;34m]\u001b[0m\u001b[0;34m\u001b[0m\u001b[0;34m\u001b[0m\u001b[0m\n",
            "\u001b[0;32m/usr/lib/python3.7/selectors.py\u001b[0m in \u001b[0;36mselect\u001b[0;34m(self, timeout)\u001b[0m\n\u001b[1;32m    413\u001b[0m         \u001b[0mready\u001b[0m \u001b[0;34m=\u001b[0m \u001b[0;34m[\u001b[0m\u001b[0;34m]\u001b[0m\u001b[0;34m\u001b[0m\u001b[0;34m\u001b[0m\u001b[0m\n\u001b[1;32m    414\u001b[0m         \u001b[0;32mtry\u001b[0m\u001b[0;34m:\u001b[0m\u001b[0;34m\u001b[0m\u001b[0;34m\u001b[0m\u001b[0m\n\u001b[0;32m--> 415\u001b[0;31m             \u001b[0mfd_event_list\u001b[0m \u001b[0;34m=\u001b[0m \u001b[0mself\u001b[0m\u001b[0;34m.\u001b[0m\u001b[0m_selector\u001b[0m\u001b[0;34m.\u001b[0m\u001b[0mpoll\u001b[0m\u001b[0;34m(\u001b[0m\u001b[0mtimeout\u001b[0m\u001b[0;34m)\u001b[0m\u001b[0;34m\u001b[0m\u001b[0;34m\u001b[0m\u001b[0m\n\u001b[0m\u001b[1;32m    416\u001b[0m         \u001b[0;32mexcept\u001b[0m \u001b[0mInterruptedError\u001b[0m\u001b[0;34m:\u001b[0m\u001b[0;34m\u001b[0m\u001b[0;34m\u001b[0m\u001b[0m\n\u001b[1;32m    417\u001b[0m             \u001b[0;32mreturn\u001b[0m \u001b[0mready\u001b[0m\u001b[0;34m\u001b[0m\u001b[0;34m\u001b[0m\u001b[0m\n",
            "\u001b[0;31mKeyboardInterrupt\u001b[0m: "
          ]
        }
      ]
    },
    {
      "cell_type": "markdown",
      "metadata": {
        "id": "H93iN5_l60BO"
      },
      "source": [
        "### Part (c) - 2 pt\n",
        "Choose the best model out of all the ones that you have trained. Justify your choice."
      ]
    },
    {
      "cell_type": "markdown",
      "source": [
        "1.\tWith a batch size of 128, learning rate of 0.01 and 30 epochs, three convolutional layers and 2 linear layers - maximum validation accuracy of 76 % is reached after 20 epochs\n",
        "2.\tWith a batch size of 128, learning rate of 0.01 and 30 epochs, two convolutional layers and 2 linear layers - maximum validation accuracy of 85 % is reached after 30 epochs, But from the curve, I can see this could be a potential case of over fitting.\n",
        "3.\tWith a batch size of 128, learning rate of 0.01 and 30 epochs, four convolutional layers and 2 linear layers - maximum validation accuracy of 89 % is reached after 12 epochs. \n",
        "4.\tTo tune the learning rate and batch size, I am keeping the 4 layer architecture. With batch size 32 and learning rate 0.001, I am getting a maximum validation accuracy of 90% at 6 epochs. After this, the validation loss keeps oscillating and there is also a bit of overfitting. \n",
        "5.\tWith batch size 32 and learning rate 0.0001, the accuracies do not reach that high, so I am stopping early. \n",
        "6.\tWith batch size 64 and learning rate 0.013, the validation accuracy reaches 87.5 % after 10 epochs. \n",
        "7.\tWith batch size 512 and learning rate 0.01, the validation accuracy is only reaching 81%, after which it is dropping, therefore, I am not continuing. \n",
        "\n",
        "Therefore, I am keeping batch size 128, 4 convolutional layers, 2 liner layers, learning rate of 0.01 and 12 epochs"
      ],
      "metadata": {
        "id": "ioyc2WxMxLHw"
      }
    },
    {
      "cell_type": "code",
      "execution_count": 21,
      "metadata": {
        "id": "kIhcN7IG6zRO"
      },
      "outputs": [],
      "source": [
        "class letterclassifier(nn.Module):\n",
        "    def __init__(self):\n",
        "        super(letterclassifier, self).__init__()\n",
        "        self.name = \"letterclassifier\"\n",
        "        self.conv1 = nn.Conv2d(3, 5, 5)\n",
        "        self.pool = nn.MaxPool2d(2, 2)\n",
        "        self.conv2 = nn.Conv2d(5, 7, 3)\n",
        "        self.conv3 = nn.Conv2d(7, 14, 3)\n",
        "        self.conv4 = nn.Conv2d(14, 7, 3)\n",
        "        self.fc1 = nn.Linear(1008, 200)\n",
        "        self.fc2 = nn.Linear(200, 9)\n",
        "\n",
        "    def forward(self, x):\n",
        "        x = self.pool(F.relu(self.conv1(x)))\n",
        "        x = self.pool(F.relu(self.conv2(x)))\n",
        "        x = self.pool(F.relu(self.conv3(x)))\n",
        "        x = self.pool(F.relu(self.conv4(x)))\n",
        "        x = x.view(-1, 1008)\n",
        "        x = F.relu(self.fc1(x))\n",
        "        x = self.fc2(x)\n",
        "        return x"
      ]
    },
    {
      "cell_type": "markdown",
      "metadata": {
        "id": "QzNA5oup67JO"
      },
      "source": [
        "### Part (d) - 2 pt\n",
        "Report the test accuracy of your best model. You should only do this step once and prior to this step you should have only used the training and validation data."
      ]
    },
    {
      "cell_type": "code",
      "source": [
        "use_cuda = True\n",
        "net = letterclassifier()\n",
        "\n",
        "if use_cuda and torch.cuda.is_available():\n",
        "  net.cuda()"
      ],
      "metadata": {
        "id": "tCIXqIXI4v8h"
      },
      "execution_count": 46,
      "outputs": []
    },
    {
      "cell_type": "code",
      "source": [
        "\n",
        "model_path_cnn_final = get_model_name(net.name, batch_size=128, learning_rate=0.01, epoch=9)\n",
        "state = torch.load(model_path_cnn_final)\n",
        "net.load_state_dict(state)"
      ],
      "metadata": {
        "id": "sNosgUISK5ap",
        "colab": {
          "base_uri": "https://localhost:8080/"
        },
        "outputId": "3136ca17-1afb-487e-988d-95e86d167bab"
      },
      "execution_count": 47,
      "outputs": [
        {
          "output_type": "execute_result",
          "data": {
            "text/plain": [
              "<All keys matched successfully>"
            ]
          },
          "metadata": {},
          "execution_count": 47
        }
      ]
    },
    {
      "cell_type": "code",
      "execution_count": 48,
      "metadata": {
        "id": "2eJ7AbVl6-ax"
      },
      "outputs": [],
      "source": [
        "test_loader = get_data_loader('/content/gdrive/MyDrive/Lab 2 Dataset/Lab_2_Hand_Gesture_Dataset/Test', 128)\n",
        "train_loader = get_data_loader('/content/gdrive/MyDrive/Lab 2 Dataset/Lab_2_Hand_Gesture_Dataset/Train', 128)\n",
        "val_loader = get_data_loader('/content/gdrive/MyDrive/Lab 2 Dataset/Lab_2_Hand_Gesture_Dataset/Validation', 128)\n",
        "test_acc, test_loss = get_accuracy(net, train_loader, val_loader, test_loader, train=False, test = True, loss = True, criterion= nn.CrossEntropyLoss())"
      ]
    },
    {
      "cell_type": "code",
      "source": [
        "print(\"The accuracy of the best model on the test set is :\", test_acc)\n",
        "print(\"The loss of the best model on the test set is :\", test_loss)"
      ],
      "metadata": {
        "colab": {
          "base_uri": "https://localhost:8080/"
        },
        "id": "kS60k8BevUGb",
        "outputId": "a721f657-9e81-406c-cdf4-dbb8e4e3e1de"
      },
      "execution_count": 49,
      "outputs": [
        {
          "output_type": "stream",
          "name": "stdout",
          "text": [
            "The accuracy of the best model on the test set is : 0.828125\n",
            "The loss of the best model on the test set is : 2.730898141860962\n"
          ]
        }
      ]
    },
    {
      "cell_type": "markdown",
      "metadata": {
        "id": "Wrem-iXV6_Bz"
      },
      "source": [
        "### Part 4. Transfer Learning [8 pt]\n",
        "For many image classification tasks, it is generally not a good idea to train a very large deep neural network\n",
        "model from scratch due to the enormous compute requirements and lack of sufficient amounts of training\n",
        "data.\n",
        "\n",
        "One of the better options is to try using an existing model that performs a similar task to the one you need\n",
        "to solve. This method of utilizing a pre-trained network for other similar tasks is broadly termed **Transfer\n",
        "Learning**. In this assignment, we will use Transfer Learning to extract features from the hand gesture\n",
        "images. Then, train a smaller network to use these features as input and classify the hand gestures.\n",
        "\n",
        "As you have learned from the CNN lecture, convolution layers extract various features from the images which\n",
        "get utilized by the fully connected layers for correct classification. AlexNet architecture played a pivotal\n",
        "role in establishing Deep Neural Nets as a go-to tool for image classification problems and we will use an\n",
        "ImageNet pre-trained AlexNet model to extract features in this assignment."
      ]
    },
    {
      "cell_type": "markdown",
      "metadata": {
        "id": "rWdQJz4Q7O2F"
      },
      "source": [
        "### Part (a) - 2 pt\n",
        "Here is the code to load the AlexNet network, with pretrained weights. When you first run the code, PyTorch\n",
        "will download the pretrained weights from the internet."
      ]
    },
    {
      "cell_type": "code",
      "execution_count": 57,
      "metadata": {
        "id": "BJKcTW9C7TZk"
      },
      "outputs": [],
      "source": [
        "import torchvision.models\n",
        "alexnet = torchvision.models.alexnet(pretrained=True)"
      ]
    },
    {
      "cell_type": "markdown",
      "metadata": {
        "id": "NQ0GZYaP7VAR"
      },
      "source": [
        "The alexnet model is split up into two components: *alexnet.features* and *alexnet.classifier*. The\n",
        "first neural network component, *alexnet.features*, is used to compute convolutional features, which are\n",
        "taken as input in *alexnet.classifier*.\n",
        "\n",
        "The neural network alexnet.features expects an image tensor of shape Nx3x224x224 as input and it will\n",
        "output a tensor of shape Nx256x6x6 . (N = batch size).\n",
        "\n",
        "Compute the AlexNet features for each of your training, validation, and test data. Here is an example code\n",
        "snippet showing how you can compute the AlexNet features for some images (your actual code might be\n",
        "different):"
      ]
    },
    {
      "cell_type": "code",
      "execution_count": 52,
      "metadata": {
        "id": "oX7SjVdB7XAE"
      },
      "outputs": [],
      "source": [
        "# img = ... a PyTorch tensor with shape [N,3,224,224] containing hand images ...\n",
        "test_loader = get_data_loader('/content/gdrive/MyDrive/Lab 2 Dataset/Lab_2_Hand_Gesture_Dataset/Test', 512)\n",
        "train_loader = get_data_loader('/content/gdrive/MyDrive/Lab 2 Dataset/Lab_2_Hand_Gesture_Dataset/Train', 2000)\n",
        "val_loader = get_data_loader('/content/gdrive/MyDrive/Lab 2 Dataset/Lab_2_Hand_Gesture_Dataset/Validation', 512)\n",
        "\n",
        "for img, labels in iter(train_loader):\n",
        "  features_train = alexnet.features(img)\n",
        "  labels_train = labels \n",
        "\n",
        "for img, labels in iter(val_loader):\n",
        "  features_val = alexnet.features(img)\n",
        "  labels_val = labels \n",
        "\n",
        "for img, labels in iter(test_loader):\n",
        "  features_test = alexnet.features(img)\n",
        "  labels_test = labels \n"
      ]
    },
    {
      "cell_type": "markdown",
      "metadata": {
        "id": "DYcjHg_A7cCM"
      },
      "source": [
        "**Save the computed features**. You will be using these features as input to your neural network in Part\n",
        "(b), and you do not want to re-compute the features every time. Instead, run *alexnet.features* once for\n",
        "each image, and save the result."
      ]
    },
    {
      "cell_type": "code",
      "source": [
        "torch.save(features_train, '/content/gdrive/MyDrive/Lab 2 Dataset/features_train.pt')\n",
        "torch.save(features_val, '/content/gdrive/MyDrive/Lab 2 Dataset/features_val.pt')\n",
        "torch.save(features_test, '/content/gdrive/MyDrive/Lab 2 Dataset/features_test.pt')\n",
        "torch.save(labels_train, '/content/gdrive/MyDrive/Lab 2 Dataset/labels_train.pt')\n",
        "torch.save(labels_val, '/content/gdrive/MyDrive/Lab 2 Dataset/labels_val.pt')\n",
        "torch.save(labels_test, '/content/gdrive/MyDrive/Lab 2 Dataset/labels_test.pt')"
      ],
      "metadata": {
        "id": "L2Rt934i2yX7"
      },
      "execution_count": 53,
      "outputs": []
    },
    {
      "cell_type": "code",
      "source": [
        "check = torch.load('/content/gdrive/MyDrive/Lab 2 Dataset/features_train.pt')"
      ],
      "metadata": {
        "id": "MZRWOH2634YS"
      },
      "execution_count": null,
      "outputs": []
    },
    {
      "cell_type": "code",
      "source": [
        "check.shape"
      ],
      "metadata": {
        "colab": {
          "base_uri": "https://localhost:8080/"
        },
        "id": "bfvVOaFa4D7a",
        "outputId": "aa87bc8a-a04d-42ea-b3b3-26033a9d4ccd"
      },
      "execution_count": null,
      "outputs": [
        {
          "output_type": "execute_result",
          "data": {
            "text/plain": [
              "torch.Size([1671, 256, 6, 6])"
            ]
          },
          "metadata": {},
          "execution_count": 43
        }
      ]
    },
    {
      "cell_type": "markdown",
      "metadata": {
        "id": "OFWvvhFN73qY"
      },
      "source": [
        "### Part (b) - 2 pt\n",
        "Build a convolutional neural network model that takes as input these AlexNet features, and makes a\n",
        "prediction. Your model should be a subclass of nn.Module.\n",
        "\n",
        "Explain your choice of neural network architecture: how many layers did you choose? What types of layers\n",
        "did you use: fully-connected or convolutional? What about other decisions like pooling layers, activation\n",
        "functions, number of channels / hidden units in each layer?\n",
        "\n",
        "Here is an example of how your model may be called:"
      ]
    },
    {
      "cell_type": "markdown",
      "source": [
        "1. In this model, I am adding only one convolutional layer because the alexnet\n",
        "features would have already have the important aspects that it has learnt after its immense training. I am choosing two linear layers with one hidden layer in between. \n",
        "\n",
        "2. My kernel size is smaller because there are only 6, 6 features, but I am reducing the out put channels from 256 to 170 cause 256 channels would be a lot.\n",
        "\n",
        "3. I am not adding any pooling layer to the architecture as the number of features are already small in nature. \n",
        "The activation funnction remains the same. "
      ],
      "metadata": {
        "id": "8tlFWa8o5trF"
      }
    },
    {
      "cell_type": "code",
      "execution_count": null,
      "metadata": {
        "id": "oVTuHUeV78-U"
      },
      "outputs": [],
      "source": [
        "class ANNClassifier(nn.Module):\n",
        "    def __init__(self):\n",
        "        super(ANNClassifier, self).__init__()\n",
        "        self.name = 'tf_classifier'\n",
        "        self.conv1 = nn.Conv2d(256, 170, 2)      \n",
        "        self.fc1 = nn.Linear(4250, 2048)\n",
        "        self.fc2 = nn.Linear(2048, 9)\n",
        "\n",
        "    def forward(self, x):\n",
        "        x = F.relu(self.conv1(x))\n",
        "        x = x.view(-1, 4250) #flatten feature data\n",
        "        x = F.relu(self.fc1(x))\n",
        "        x = self.fc2(x)\n",
        "        return x"
      ]
    },
    {
      "cell_type": "markdown",
      "metadata": {
        "id": "wVAGuURu7-9q"
      },
      "source": [
        "### Part (c) - 2 pt\n",
        "Train your new network, including any hyperparameter tuning. Plot and submit the training curve of your\n",
        "best model only.\n",
        "\n",
        "Note: Depending on how you are caching (saving) your AlexNet features, PyTorch might still be tracking\n",
        "updates to the **AlexNet weights**, which we are not tuning. One workaround is to convert your AlexNet\n",
        "feature tensor into a numpy array, and then back into a PyTorch tensor."
      ]
    },
    {
      "cell_type": "code",
      "source": [
        "use_cuda = False\n",
        "net = ANNClassifier()\n",
        "\n",
        "if use_cuda and torch.cuda.is_available():\n",
        "  net.cuda()\n",
        "  print('CUDA is available!  Training on GPU ...')\n",
        "else:\n",
        "  print('CUDA is not available.  Training on CPU ...')\n"
      ],
      "metadata": {
        "colab": {
          "base_uri": "https://localhost:8080/"
        },
        "id": "poDZ2VUq26nY",
        "outputId": "20d69460-d520-4723-baa9-f63abfffa2dd"
      },
      "execution_count": null,
      "outputs": [
        {
          "output_type": "stream",
          "name": "stdout",
          "text": [
            "CUDA is not available.  Training on CPU ...\n"
          ]
        }
      ]
    },
    {
      "cell_type": "code",
      "source": [
        "train_net(net, batch_size=128, learning_rate=0.01, num_epochs= 15, transfer_learning = True)"
      ],
      "metadata": {
        "id": "ua8ghgiZ40tN",
        "colab": {
          "base_uri": "https://localhost:8080/"
        },
        "outputId": "c9dca024-4580-4622-a139-bddfff99055c"
      },
      "execution_count": null,
      "outputs": [
        {
          "output_type": "stream",
          "name": "stdout",
          "text": [
            "Epoch 1: Train acc: 0.3130644190246839, Train loss: 18.00778319285466 |Validation err: 0.30708661417322836, Validation loss: 3.978440761566162\n",
            "Epoch 2: Train acc: 0.370258880192655, Train loss: 1.6426323377169096 |Validation err: 0.3464566929133858, Validation loss: 3.5117223262786865\n",
            "Epoch 3: Train acc: 0.40758579169175196, Train loss: 1.4418698732669537 |Validation err: 0.3700787401574803, Validation loss: 3.330122470855713\n",
            "Epoch 4: Train acc: 0.4105960264900662, Train loss: 1.3910655425145075 |Validation err: 0.33070866141732286, Validation loss: 3.4050791263580322\n",
            "Epoch 5: Train acc: 0.46116797110174595, Train loss: 1.3435201461498554 |Validation err: 0.3700787401574803, Validation loss: 3.4289915561676025\n",
            "Epoch 6: Train acc: 0.5081276339554486, Train loss: 1.2406800710237944 |Validation err: 0.4251968503937008, Validation loss: 3.5286989212036133\n",
            "Epoch 7: Train acc: 0.5960264900662252, Train loss: 1.131465265384087 |Validation err: 0.47244094488188976, Validation loss: 3.433803081512451\n",
            "Epoch 8: Train acc: 0.6363636363636364, Train loss: 1.0168006924482493 |Validation err: 0.5196850393700787, Validation loss: 2.804955005645752\n",
            "Epoch 9: Train acc: 0.724262492474413, Train loss: 0.8614578751417307 |Validation err: 0.6062992125984252, Validation loss: 2.4923949241638184\n",
            "Epoch 10: Train acc: 0.7832630945213727, Train loss: 0.6733854137934171 |Validation err: 0.6614173228346457, Validation loss: 2.1458961963653564\n",
            "Epoch 11: Train acc: 0.8169777242624925, Train loss: 0.5957360382263477 |Validation err: 0.6692913385826772, Validation loss: 2.9074866771698\n",
            "Epoch 12: Train acc: 0.8579169175195666, Train loss: 0.5020270691468165 |Validation err: 0.7559055118110236, Validation loss: 2.8978381156921387\n",
            "Epoch 13: Train acc: 0.8687537627934979, Train loss: 0.45055063183491045 |Validation err: 0.8031496062992126, Validation loss: 1.921678066253662\n",
            "Epoch 14: Train acc: 0.8675496688741722, Train loss: 0.40990565144098723 |Validation err: 0.8031496062992126, Validation loss: 2.3382058143615723\n",
            "Epoch 15: Train acc: 0.8874172185430463, Train loss: 0.36335114332345814 |Validation err: 0.7952755905511811, Validation loss: 1.955478549003601\n",
            "Finished Training\n",
            "Total time elapsed: 1026.85 seconds\n"
          ]
        }
      ]
    },
    {
      "cell_type": "code",
      "source": [
        "class ANNClassifier(nn.Module):\n",
        "    def __init__(self):\n",
        "        super(ANNClassifier, self).__init__()\n",
        "        self.name = 'tf_classifier'\n",
        "        self.conv1 = nn.Conv2d(256, 128, 3)      \n",
        "        self.fc1 = nn.Linear(2048, 1024)\n",
        "        self.fc2 = nn.Linear(1024, 512)\n",
        "        self.fc3 = nn.Linear(512, 9)\n",
        "\n",
        "    def forward(self, x):\n",
        "        x = F.relu(self.conv1(x))\n",
        "        x = x.view(-1, 2048) #flatten feature data\n",
        "        x = F.relu(self.fc1(x))\n",
        "        x = F.relu(self.fc2(x))\n",
        "        x = self.fc3(x)\n",
        "        return x"
      ],
      "metadata": {
        "id": "mUG9XBpfMoZc"
      },
      "execution_count": 17,
      "outputs": []
    },
    {
      "cell_type": "code",
      "source": [
        "use_cuda = False\n",
        "net = ANNClassifier()\n",
        "\n",
        "if use_cuda and torch.cuda.is_available():\n",
        "  net.cuda()\n",
        "  print('CUDA is available!  Training on GPU ...')\n",
        "else:\n",
        "  print('CUDA is not available.  Training on CPU ...')"
      ],
      "metadata": {
        "colab": {
          "base_uri": "https://localhost:8080/"
        },
        "id": "WW4pcXsMNJma",
        "outputId": "2b5329a8-0617-4d8c-c7fa-7b894ffad6ec"
      },
      "execution_count": 18,
      "outputs": [
        {
          "output_type": "stream",
          "name": "stdout",
          "text": [
            "CUDA is not available.  Training on CPU ...\n"
          ]
        }
      ]
    },
    {
      "cell_type": "code",
      "source": [
        "train_net(net, batch_size=64, learning_rate=0.0123, num_epochs= 15, transfer_learning = True)"
      ],
      "metadata": {
        "colab": {
          "base_uri": "https://localhost:8080/",
          "height": 328
        },
        "id": "wA3k8Xa1M9MF",
        "outputId": "6539ad1e-d4f2-4d72-d3af-eb3fa006b268"
      },
      "execution_count": 19,
      "outputs": [
        {
          "output_type": "stream",
          "name": "stdout",
          "text": [
            "Epoch 1: Train acc: 0.11198073449729079, Train loss: 19.61208649782034 |Validation acc: 0.140625, Validation loss: 4.389658451080322\n"
          ]
        },
        {
          "output_type": "error",
          "ename": "KeyboardInterrupt",
          "evalue": "ignored",
          "traceback": [
            "\u001b[0;31m---------------------------------------------------------------------------\u001b[0m",
            "\u001b[0;31mKeyboardInterrupt\u001b[0m                         Traceback (most recent call last)",
            "\u001b[0;32m<ipython-input-19-0bcc0ba065c5>\u001b[0m in \u001b[0;36m<module>\u001b[0;34m()\u001b[0m\n\u001b[0;32m----> 1\u001b[0;31m \u001b[0mtrain_net\u001b[0m\u001b[0;34m(\u001b[0m\u001b[0mnet\u001b[0m\u001b[0;34m,\u001b[0m \u001b[0mbatch_size\u001b[0m\u001b[0;34m=\u001b[0m\u001b[0;36m64\u001b[0m\u001b[0;34m,\u001b[0m \u001b[0mlearning_rate\u001b[0m\u001b[0;34m=\u001b[0m\u001b[0;36m0.0123\u001b[0m\u001b[0;34m,\u001b[0m \u001b[0mnum_epochs\u001b[0m\u001b[0;34m=\u001b[0m \u001b[0;36m15\u001b[0m\u001b[0;34m,\u001b[0m \u001b[0mtransfer_learning\u001b[0m \u001b[0;34m=\u001b[0m \u001b[0;32mTrue\u001b[0m\u001b[0;34m)\u001b[0m\u001b[0;34m\u001b[0m\u001b[0;34m\u001b[0m\u001b[0m\n\u001b[0m",
            "\u001b[0;32m<ipython-input-9-4efc757a1cac>\u001b[0m in \u001b[0;36mtrain_net\u001b[0;34m(net, batch_size, learning_rate, num_epochs, transfer_learning)\u001b[0m\n\u001b[1;32m     61\u001b[0m             \u001b[0moutputs\u001b[0m \u001b[0;34m=\u001b[0m \u001b[0mnet\u001b[0m\u001b[0;34m(\u001b[0m\u001b[0minputs\u001b[0m\u001b[0;34m)\u001b[0m\u001b[0;34m\u001b[0m\u001b[0;34m\u001b[0m\u001b[0m\n\u001b[1;32m     62\u001b[0m             \u001b[0mloss\u001b[0m \u001b[0;34m=\u001b[0m \u001b[0mcriterion\u001b[0m\u001b[0;34m(\u001b[0m\u001b[0moutputs\u001b[0m\u001b[0;34m,\u001b[0m \u001b[0mlabels\u001b[0m\u001b[0;34m)\u001b[0m\u001b[0;34m\u001b[0m\u001b[0;34m\u001b[0m\u001b[0m\n\u001b[0;32m---> 63\u001b[0;31m             \u001b[0mloss\u001b[0m\u001b[0;34m.\u001b[0m\u001b[0mbackward\u001b[0m\u001b[0;34m(\u001b[0m\u001b[0;34m)\u001b[0m\u001b[0;34m\u001b[0m\u001b[0;34m\u001b[0m\u001b[0m\n\u001b[0m\u001b[1;32m     64\u001b[0m             \u001b[0moptimizer\u001b[0m\u001b[0;34m.\u001b[0m\u001b[0mstep\u001b[0m\u001b[0;34m(\u001b[0m\u001b[0;34m)\u001b[0m\u001b[0;34m\u001b[0m\u001b[0;34m\u001b[0m\u001b[0m\n\u001b[1;32m     65\u001b[0m             \u001b[0;31m# Calculate the statistics\u001b[0m\u001b[0;34m\u001b[0m\u001b[0;34m\u001b[0m\u001b[0;34m\u001b[0m\u001b[0m\n",
            "\u001b[0;32m/usr/local/lib/python3.7/dist-packages/torch/_tensor.py\u001b[0m in \u001b[0;36mbackward\u001b[0;34m(self, gradient, retain_graph, create_graph, inputs)\u001b[0m\n\u001b[1;32m    305\u001b[0m                 \u001b[0mcreate_graph\u001b[0m\u001b[0;34m=\u001b[0m\u001b[0mcreate_graph\u001b[0m\u001b[0;34m,\u001b[0m\u001b[0;34m\u001b[0m\u001b[0;34m\u001b[0m\u001b[0m\n\u001b[1;32m    306\u001b[0m                 inputs=inputs)\n\u001b[0;32m--> 307\u001b[0;31m         \u001b[0mtorch\u001b[0m\u001b[0;34m.\u001b[0m\u001b[0mautograd\u001b[0m\u001b[0;34m.\u001b[0m\u001b[0mbackward\u001b[0m\u001b[0;34m(\u001b[0m\u001b[0mself\u001b[0m\u001b[0;34m,\u001b[0m \u001b[0mgradient\u001b[0m\u001b[0;34m,\u001b[0m \u001b[0mretain_graph\u001b[0m\u001b[0;34m,\u001b[0m \u001b[0mcreate_graph\u001b[0m\u001b[0;34m,\u001b[0m \u001b[0minputs\u001b[0m\u001b[0;34m=\u001b[0m\u001b[0minputs\u001b[0m\u001b[0;34m)\u001b[0m\u001b[0;34m\u001b[0m\u001b[0;34m\u001b[0m\u001b[0m\n\u001b[0m\u001b[1;32m    308\u001b[0m \u001b[0;34m\u001b[0m\u001b[0m\n\u001b[1;32m    309\u001b[0m     \u001b[0;32mdef\u001b[0m \u001b[0mregister_hook\u001b[0m\u001b[0;34m(\u001b[0m\u001b[0mself\u001b[0m\u001b[0;34m,\u001b[0m \u001b[0mhook\u001b[0m\u001b[0;34m)\u001b[0m\u001b[0;34m:\u001b[0m\u001b[0;34m\u001b[0m\u001b[0;34m\u001b[0m\u001b[0m\n",
            "\u001b[0;32m/usr/local/lib/python3.7/dist-packages/torch/autograd/__init__.py\u001b[0m in \u001b[0;36mbackward\u001b[0;34m(tensors, grad_tensors, retain_graph, create_graph, grad_variables, inputs)\u001b[0m\n\u001b[1;32m    154\u001b[0m     Variable._execution_engine.run_backward(\n\u001b[1;32m    155\u001b[0m         \u001b[0mtensors\u001b[0m\u001b[0;34m,\u001b[0m \u001b[0mgrad_tensors_\u001b[0m\u001b[0;34m,\u001b[0m \u001b[0mretain_graph\u001b[0m\u001b[0;34m,\u001b[0m \u001b[0mcreate_graph\u001b[0m\u001b[0;34m,\u001b[0m \u001b[0minputs\u001b[0m\u001b[0;34m,\u001b[0m\u001b[0;34m\u001b[0m\u001b[0;34m\u001b[0m\u001b[0m\n\u001b[0;32m--> 156\u001b[0;31m         allow_unreachable=True, accumulate_grad=True)  # allow_unreachable flag\n\u001b[0m\u001b[1;32m    157\u001b[0m \u001b[0;34m\u001b[0m\u001b[0m\n\u001b[1;32m    158\u001b[0m \u001b[0;34m\u001b[0m\u001b[0m\n",
            "\u001b[0;31mKeyboardInterrupt\u001b[0m: "
          ]
        }
      ]
    },
    {
      "cell_type": "markdown",
      "source": [
        "From my prior training experience, I was aware that if the accuracy starts with 10/11%, it will not reach very high. As the convolutional layer did not perform that well on my dataset, I am just adding linear layers. I believe this is okay because the alexnet model already has an extensive convolutional layer from which it has learnt weights with millions of images. Therefore, I believe that weights should be a sufficient starting point for my linear layers to perform classification. I am starting with experimenting 3 layers and training wuth 128 batch size"
      ],
      "metadata": {
        "id": "9Gs1Gc7i7DLL"
      }
    },
    {
      "cell_type": "code",
      "source": [
        "class ANNClassifier(nn.Module):\n",
        "    def __init__(self):\n",
        "        super(ANNClassifier, self).__init__()\n",
        "        self.name = 'tf_classifier'\n",
        "        self.fc1 = nn.Linear(9216, 4608)\n",
        "        self.fc2 = nn.Linear(4608, 2304)\n",
        "        self.fc3 = nn.Linear(2304, 9)\n",
        "\n",
        "    def forward(self, x):\n",
        "        x = x.view(-1, 9216) #flatten feature data\n",
        "        x = F.relu(self.fc1(x))\n",
        "        x = F.relu(self.fc2(x))\n",
        "        x = self.fc3(x)\n",
        "        return x"
      ],
      "metadata": {
        "id": "Mq7POgwaHX7P"
      },
      "execution_count": 44,
      "outputs": []
    },
    {
      "cell_type": "code",
      "source": [
        "use_cuda = False\n",
        "net = ANNClassifier()\n",
        "\n",
        "if use_cuda and torch.cuda.is_available():\n",
        "  net.cuda()\n",
        "  print('CUDA is available!  Training on GPU ...')\n",
        "else:\n",
        "  print('CUDA is not available.  Training on CPU ...')"
      ],
      "metadata": {
        "colab": {
          "base_uri": "https://localhost:8080/"
        },
        "id": "HSWQFQDjHXu0",
        "outputId": "9092e965-9225-4ad3-b069-c0fb83369045"
      },
      "execution_count": 36,
      "outputs": [
        {
          "output_type": "stream",
          "name": "stdout",
          "text": [
            "CUDA is not available.  Training on CPU ...\n"
          ]
        }
      ]
    },
    {
      "cell_type": "code",
      "source": [
        "train_net(net, batch_size=128, learning_rate=0.01, num_epochs= 15, transfer_learning = True)"
      ],
      "metadata": {
        "colab": {
          "base_uri": "https://localhost:8080/"
        },
        "id": "YB6jYMR-HVTp",
        "outputId": "aa408534-9e9c-4879-e65f-3208f6b4d9ae"
      },
      "execution_count": 22,
      "outputs": [
        {
          "output_type": "stream",
          "name": "stdout",
          "text": [
            "Epoch 1: Train acc: 0.38531005418422637, Train loss: 288.59417451345 |Validation acc: 0.375, Validation loss: 3.927318811416626\n",
            "Epoch 2: Train acc: 0.732691149909693, Train loss: 1.6166675320038428 |Validation acc: 0.671875, Validation loss: 2.3812506198883057\n",
            "Epoch 3: Train acc: 0.8603251053582179, Train loss: 0.7816702952751746 |Validation acc: 0.796875, Validation loss: 2.1050078868865967\n",
            "Epoch 4: Train acc: 0.8976520168573149, Train loss: 0.35703850709475005 |Validation acc: 0.8515625, Validation loss: 3.327258825302124\n",
            "Epoch 5: Train acc: 0.8946417820590006, Train loss: 0.3627941975226769 |Validation acc: 0.7421875, Validation loss: 3.27357816696167\n",
            "Epoch 6: Train acc: 0.930162552679109, Train loss: 0.34080952405929565 |Validation acc: 0.859375, Validation loss: 2.4597418308258057\n",
            "Epoch 7: Train acc: 0.9397953040337146, Train loss: 0.30952641941033876 |Validation acc: 0.8671875, Validation loss: 1.5713894367218018\n",
            "Epoch 8: Train acc: 0.9373871161950632, Train loss: 0.1885234942803016 |Validation acc: 0.859375, Validation loss: 2.2502987384796143\n",
            "Epoch 9: Train acc: 0.9343768813967489, Train loss: 0.17143878054160339 |Validation acc: 0.8671875, Validation loss: 2.826744794845581\n",
            "Epoch 10: Train acc: 0.9488260084286574, Train loss: 0.16156516338770205 |Validation acc: 0.890625, Validation loss: 1.9179869890213013\n",
            "Epoch 11: Train acc: 0.9403973509933775, Train loss: 0.13614642161589402 |Validation acc: 0.8671875, Validation loss: 2.2542436122894287\n",
            "Epoch 12: Train acc: 0.921733895243829, Train loss: 0.16714548090329537 |Validation acc: 0.875, Validation loss: 1.8260204792022705\n",
            "Epoch 13: Train acc: 0.9572546658639374, Train loss: 0.1611903143616823 |Validation acc: 0.90625, Validation loss: 3.414179801940918\n",
            "Epoch 14: Train acc: 0.9181216134858519, Train loss: 0.18430628799475157 |Validation acc: 0.8203125, Validation loss: 5.643310546875\n",
            "Epoch 15: Train acc: 0.938591210114389, Train loss: 0.26516438791385066 |Validation acc: 0.84375, Validation loss: 3.5556728839874268\n",
            "Finished Training\n",
            "Total time elapsed: 1166.46 seconds\n"
          ]
        }
      ]
    },
    {
      "cell_type": "code",
      "source": [
        "model_path_4 = get_model_name(\"tf_classifier\", batch_size=128, learning_rate=0.01, epoch=14)\n",
        "plot_training_curve(model_path_4)"
      ],
      "metadata": {
        "colab": {
          "base_uri": "https://localhost:8080/",
          "height": 573
        },
        "id": "fIJ3Gcjy_cSq",
        "outputId": "7b2a8036-a26a-4c2d-fee4-ca2f97ef5b0f"
      },
      "execution_count": 23,
      "outputs": [
        {
          "output_type": "display_data",
          "data": {
            "image/png": "[encoded data removed]",
            "text/plain": [
              "<Figure size 432x288 with 1 Axes>"
            ]
          },
          "metadata": {
            "needs_background": "light"
          }
        },
        {
          "output_type": "display_data",
          "data": {
            "image/png": "[encoded data removed]",
            "text/plain": [
              "<Figure size 432x288 with 1 Axes>"
            ]
          },
          "metadata": {
            "needs_background": "light"
          }
        }
      ]
    },
    {
      "cell_type": "markdown",
      "source": [
        "I wanted to see if I can somehow improve the results, so I am changing the batch size to 64 and seeing what happens"
      ],
      "metadata": {
        "id": "am9KDH1CDejj"
      }
    },
    {
      "cell_type": "code",
      "source": [
        "train_net(net, batch_size=64, learning_rate=0.012, num_epochs= 20, transfer_learning = True)"
      ],
      "metadata": {
        "colab": {
          "base_uri": "https://localhost:8080/",
          "height": 432
        },
        "id": "Vvmsag-XCxcB",
        "outputId": "3ce2a608-e661-4ad2-82f4-3cdd590d5781"
      },
      "execution_count": 37,
      "outputs": [
        {
          "output_type": "stream",
          "name": "stdout",
          "text": [
            "Epoch 1: Train acc: 0.6634557495484648, Train loss: 188.56874796060416 |Validation acc: 0.640625, Validation loss: 2.49873423576355\n",
            "Epoch 2: Train acc: 0.8446718844069837, Train loss: 1.2325064471134772 |Validation acc: 0.75, Validation loss: 1.6211477518081665\n",
            "Epoch 3: Train acc: 0.9193257074051776, Train loss: 0.40868755601919615 |Validation acc: 0.78125, Validation loss: 1.6740493774414062\n",
            "Epoch 4: Train acc: 0.9494280553883203, Train loss: 0.27234614898379034 |Validation acc: 0.84375, Validation loss: 1.1708835363388062\n",
            "Epoch 5: Train acc: 0.9650812763395545, Train loss: 0.14002409441253313 |Validation acc: 0.875, Validation loss: 1.4999185800552368\n",
            "Epoch 6: Train acc: 0.9813365442504516, Train loss: 0.11918700547315754 |Validation acc: 0.859375, Validation loss: 2.421052932739258\n",
            "Epoch 7: Train acc: 0.9879590608067429, Train loss: 0.059589520866911 |Validation acc: 0.875, Validation loss: 2.192159414291382\n"
          ]
        },
        {
          "output_type": "error",
          "ename": "KeyboardInterrupt",
          "evalue": "ignored",
          "traceback": [
            "\u001b[0;31m---------------------------------------------------------------------------\u001b[0m",
            "\u001b[0;31mKeyboardInterrupt\u001b[0m                         Traceback (most recent call last)",
            "\u001b[0;32m<ipython-input-37-c7ac7dfbb50c>\u001b[0m in \u001b[0;36m<module>\u001b[0;34m()\u001b[0m\n\u001b[0;32m----> 1\u001b[0;31m \u001b[0mtrain_net\u001b[0m\u001b[0;34m(\u001b[0m\u001b[0mnet\u001b[0m\u001b[0;34m,\u001b[0m \u001b[0mbatch_size\u001b[0m\u001b[0;34m=\u001b[0m\u001b[0;36m64\u001b[0m\u001b[0;34m,\u001b[0m \u001b[0mlearning_rate\u001b[0m\u001b[0;34m=\u001b[0m\u001b[0;36m0.012\u001b[0m\u001b[0;34m,\u001b[0m \u001b[0mnum_epochs\u001b[0m\u001b[0;34m=\u001b[0m \u001b[0;36m20\u001b[0m\u001b[0;34m,\u001b[0m \u001b[0mtransfer_learning\u001b[0m \u001b[0;34m=\u001b[0m \u001b[0;32mTrue\u001b[0m\u001b[0;34m)\u001b[0m\u001b[0;34m\u001b[0m\u001b[0;34m\u001b[0m\u001b[0m\n\u001b[0m",
            "\u001b[0;32m<ipython-input-9-4efc757a1cac>\u001b[0m in \u001b[0;36mtrain_net\u001b[0;34m(net, batch_size, learning_rate, num_epochs, transfer_learning)\u001b[0m\n\u001b[1;32m     61\u001b[0m             \u001b[0moutputs\u001b[0m \u001b[0;34m=\u001b[0m \u001b[0mnet\u001b[0m\u001b[0;34m(\u001b[0m\u001b[0minputs\u001b[0m\u001b[0;34m)\u001b[0m\u001b[0;34m\u001b[0m\u001b[0;34m\u001b[0m\u001b[0m\n\u001b[1;32m     62\u001b[0m             \u001b[0mloss\u001b[0m \u001b[0;34m=\u001b[0m \u001b[0mcriterion\u001b[0m\u001b[0;34m(\u001b[0m\u001b[0moutputs\u001b[0m\u001b[0;34m,\u001b[0m \u001b[0mlabels\u001b[0m\u001b[0;34m)\u001b[0m\u001b[0;34m\u001b[0m\u001b[0;34m\u001b[0m\u001b[0m\n\u001b[0;32m---> 63\u001b[0;31m             \u001b[0mloss\u001b[0m\u001b[0;34m.\u001b[0m\u001b[0mbackward\u001b[0m\u001b[0;34m(\u001b[0m\u001b[0;34m)\u001b[0m\u001b[0;34m\u001b[0m\u001b[0;34m\u001b[0m\u001b[0m\n\u001b[0m\u001b[1;32m     64\u001b[0m             \u001b[0moptimizer\u001b[0m\u001b[0;34m.\u001b[0m\u001b[0mstep\u001b[0m\u001b[0;34m(\u001b[0m\u001b[0;34m)\u001b[0m\u001b[0;34m\u001b[0m\u001b[0;34m\u001b[0m\u001b[0m\n\u001b[1;32m     65\u001b[0m             \u001b[0;31m# Calculate the statistics\u001b[0m\u001b[0;34m\u001b[0m\u001b[0;34m\u001b[0m\u001b[0;34m\u001b[0m\u001b[0m\n",
            "\u001b[0;32m/usr/local/lib/python3.7/dist-packages/torch/_tensor.py\u001b[0m in \u001b[0;36mbackward\u001b[0;34m(self, gradient, retain_graph, create_graph, inputs)\u001b[0m\n\u001b[1;32m    305\u001b[0m                 \u001b[0mcreate_graph\u001b[0m\u001b[0;34m=\u001b[0m\u001b[0mcreate_graph\u001b[0m\u001b[0;34m,\u001b[0m\u001b[0;34m\u001b[0m\u001b[0;34m\u001b[0m\u001b[0m\n\u001b[1;32m    306\u001b[0m                 inputs=inputs)\n\u001b[0;32m--> 307\u001b[0;31m         \u001b[0mtorch\u001b[0m\u001b[0;34m.\u001b[0m\u001b[0mautograd\u001b[0m\u001b[0;34m.\u001b[0m\u001b[0mbackward\u001b[0m\u001b[0;34m(\u001b[0m\u001b[0mself\u001b[0m\u001b[0;34m,\u001b[0m \u001b[0mgradient\u001b[0m\u001b[0;34m,\u001b[0m \u001b[0mretain_graph\u001b[0m\u001b[0;34m,\u001b[0m \u001b[0mcreate_graph\u001b[0m\u001b[0;34m,\u001b[0m \u001b[0minputs\u001b[0m\u001b[0;34m=\u001b[0m\u001b[0minputs\u001b[0m\u001b[0;34m)\u001b[0m\u001b[0;34m\u001b[0m\u001b[0;34m\u001b[0m\u001b[0m\n\u001b[0m\u001b[1;32m    308\u001b[0m \u001b[0;34m\u001b[0m\u001b[0m\n\u001b[1;32m    309\u001b[0m     \u001b[0;32mdef\u001b[0m \u001b[0mregister_hook\u001b[0m\u001b[0;34m(\u001b[0m\u001b[0mself\u001b[0m\u001b[0;34m,\u001b[0m \u001b[0mhook\u001b[0m\u001b[0;34m)\u001b[0m\u001b[0;34m:\u001b[0m\u001b[0;34m\u001b[0m\u001b[0;34m\u001b[0m\u001b[0m\n",
            "\u001b[0;32m/usr/local/lib/python3.7/dist-packages/torch/autograd/__init__.py\u001b[0m in \u001b[0;36mbackward\u001b[0;34m(tensors, grad_tensors, retain_graph, create_graph, grad_variables, inputs)\u001b[0m\n\u001b[1;32m    154\u001b[0m     Variable._execution_engine.run_backward(\n\u001b[1;32m    155\u001b[0m         \u001b[0mtensors\u001b[0m\u001b[0;34m,\u001b[0m \u001b[0mgrad_tensors_\u001b[0m\u001b[0;34m,\u001b[0m \u001b[0mretain_graph\u001b[0m\u001b[0;34m,\u001b[0m \u001b[0mcreate_graph\u001b[0m\u001b[0;34m,\u001b[0m \u001b[0minputs\u001b[0m\u001b[0;34m,\u001b[0m\u001b[0;34m\u001b[0m\u001b[0;34m\u001b[0m\u001b[0m\n\u001b[0;32m--> 156\u001b[0;31m         allow_unreachable=True, accumulate_grad=True)  # allow_unreachable flag\n\u001b[0m\u001b[1;32m    157\u001b[0m \u001b[0;34m\u001b[0m\u001b[0m\n\u001b[1;32m    158\u001b[0m \u001b[0;34m\u001b[0m\u001b[0m\n",
            "\u001b[0;31mKeyboardInterrupt\u001b[0m: "
          ]
        }
      ]
    },
    {
      "cell_type": "markdown",
      "source": [
        "This began overfitting, so I stopped. "
      ],
      "metadata": {
        "id": "9Imu8MvSFr5m"
      }
    },
    {
      "cell_type": "markdown",
      "source": [
        "I am also checking by increasing the number of layers and seeing if that improves the validation accuracies. "
      ],
      "metadata": {
        "id": "mFu22Z4vDVGj"
      }
    },
    {
      "cell_type": "code",
      "source": [
        "class ANNClassifier1(nn.Module):\n",
        "    def __init__(self):\n",
        "        super(ANNClassifier1, self).__init__()\n",
        "        self.name = 'tf_classifier1'\n",
        "        self.fc1 = nn.Linear(9216, 500 *3 * 3)\n",
        "        self.fc2 = nn.Linear(500 *3 * 3, 100 *3 * 3)\n",
        "        self.fc3 = nn.Linear(100 *3 * 3, 50 *3 * 3)\n",
        "        self.fc4 = nn.Linear(50 *3 * 3, 9)\n",
        "\n",
        "    def forward(self, x):\n",
        "        x = x.view(-1, 9216) #flatten feature data\n",
        "        x = F.relu(self.fc1(x))\n",
        "        x = F.relu(self.fc2(x))\n",
        "        x = F.relu(self.fc3(x))\n",
        "        x = self.fc4(x)\n",
        "        return x"
      ],
      "metadata": {
        "id": "zU1y0i_i_L_R"
      },
      "execution_count": 31,
      "outputs": []
    },
    {
      "cell_type": "code",
      "source": [
        "use_cuda = True\n",
        "net = ANNClassifier1()\n",
        "\n",
        "if use_cuda and torch.cuda.is_available():\n",
        "  net.cuda()\n",
        "  print('CUDA is available!  Training on GPU ...')\n",
        "else:\n",
        "  print('CUDA is not available.  Training on CPU ...')"
      ],
      "metadata": {
        "colab": {
          "base_uri": "https://localhost:8080/"
        },
        "id": "eLLERzdR_TCT",
        "outputId": "b2fcbc7a-6798-452d-d0dd-0835ba0fce7f"
      },
      "execution_count": 34,
      "outputs": [
        {
          "output_type": "stream",
          "name": "stdout",
          "text": [
            "CUDA is available!  Training on GPU ...\n"
          ]
        }
      ]
    },
    {
      "cell_type": "code",
      "source": [
        "train_net(net, batch_size=64, learning_rate=0.01, num_epochs= 15, transfer_learning = True)"
      ],
      "metadata": {
        "colab": {
          "base_uri": "https://localhost:8080/",
          "height": 484
        },
        "id": "Y_eftgxU_V-w",
        "outputId": "3d923260-88e7-434f-9c42-f83874e87f07"
      },
      "execution_count": 35,
      "outputs": [
        {
          "output_type": "stream",
          "name": "stdout",
          "text": [
            "Epoch 1: Train acc: 0.42323901264298613, Train loss: 70.48081463575363 |Validation acc: 0.40625, Validation loss: 2.7373101711273193\n",
            "Epoch 2: Train acc: 0.7194461167971101, Train loss: 1.1136137636808248 |Validation acc: 0.65625, Validation loss: 1.6907203197479248\n",
            "Epoch 3: Train acc: 0.8657435279951836, Train loss: 0.8231825610766044 |Validation acc: 0.75, Validation loss: 1.7125539779663086\n",
            "Epoch 4: Train acc: 0.8910295003010235, Train loss: 0.4328614754172472 |Validation acc: 0.765625, Validation loss: 1.8449082374572754\n",
            "Epoch 5: Train acc: 0.8964479229379891, Train loss: 0.31756386246818763 |Validation acc: 0.796875, Validation loss: 1.979489803314209\n",
            "Epoch 6: Train acc: 0.8458759783263095, Train loss: 0.24556328872075447 |Validation acc: 0.78125, Validation loss: 2.8149046897888184\n",
            "Epoch 7: Train acc: 0.9325707405177603, Train loss: 0.39116688588490856 |Validation acc: 0.8125, Validation loss: 1.5552021265029907\n",
            "Epoch 8: Train acc: 0.9391932570740518, Train loss: 0.25057216762350154 |Validation acc: 0.828125, Validation loss: 2.478370189666748\n",
            "Epoch 9: Train acc: 0.9741119807344973, Train loss: 0.11753565345246059 |Validation acc: 0.828125, Validation loss: 1.1598703861236572\n",
            "Epoch 10: Train acc: 0.9813365442504516, Train loss: 0.08212202391587198 |Validation acc: 0.84375, Validation loss: 1.503841519355774\n"
          ]
        },
        {
          "output_type": "error",
          "ename": "KeyboardInterrupt",
          "evalue": "ignored",
          "traceback": [
            "\u001b[0;31m---------------------------------------------------------------------------\u001b[0m",
            "\u001b[0;31mKeyboardInterrupt\u001b[0m                         Traceback (most recent call last)",
            "\u001b[0;32m<ipython-input-35-61b32d60f72c>\u001b[0m in \u001b[0;36m<module>\u001b[0;34m()\u001b[0m\n\u001b[0;32m----> 1\u001b[0;31m \u001b[0mtrain_net\u001b[0m\u001b[0;34m(\u001b[0m\u001b[0mnet\u001b[0m\u001b[0;34m,\u001b[0m \u001b[0mbatch_size\u001b[0m\u001b[0;34m=\u001b[0m\u001b[0;36m64\u001b[0m\u001b[0;34m,\u001b[0m \u001b[0mlearning_rate\u001b[0m\u001b[0;34m=\u001b[0m\u001b[0;36m0.01\u001b[0m\u001b[0;34m,\u001b[0m \u001b[0mnum_epochs\u001b[0m\u001b[0;34m=\u001b[0m \u001b[0;36m15\u001b[0m\u001b[0;34m,\u001b[0m \u001b[0mtransfer_learning\u001b[0m \u001b[0;34m=\u001b[0m \u001b[0;32mTrue\u001b[0m\u001b[0;34m)\u001b[0m\u001b[0;34m\u001b[0m\u001b[0;34m\u001b[0m\u001b[0m\n\u001b[0m",
            "\u001b[0;32m<ipython-input-9-4efc757a1cac>\u001b[0m in \u001b[0;36mtrain_net\u001b[0;34m(net, batch_size, learning_rate, num_epochs, transfer_learning)\u001b[0m\n\u001b[1;32m     61\u001b[0m             \u001b[0moutputs\u001b[0m \u001b[0;34m=\u001b[0m \u001b[0mnet\u001b[0m\u001b[0;34m(\u001b[0m\u001b[0minputs\u001b[0m\u001b[0;34m)\u001b[0m\u001b[0;34m\u001b[0m\u001b[0;34m\u001b[0m\u001b[0m\n\u001b[1;32m     62\u001b[0m             \u001b[0mloss\u001b[0m \u001b[0;34m=\u001b[0m \u001b[0mcriterion\u001b[0m\u001b[0;34m(\u001b[0m\u001b[0moutputs\u001b[0m\u001b[0;34m,\u001b[0m \u001b[0mlabels\u001b[0m\u001b[0;34m)\u001b[0m\u001b[0;34m\u001b[0m\u001b[0;34m\u001b[0m\u001b[0m\n\u001b[0;32m---> 63\u001b[0;31m             \u001b[0mloss\u001b[0m\u001b[0;34m.\u001b[0m\u001b[0mbackward\u001b[0m\u001b[0;34m(\u001b[0m\u001b[0;34m)\u001b[0m\u001b[0;34m\u001b[0m\u001b[0;34m\u001b[0m\u001b[0m\n\u001b[0m\u001b[1;32m     64\u001b[0m             \u001b[0moptimizer\u001b[0m\u001b[0;34m.\u001b[0m\u001b[0mstep\u001b[0m\u001b[0;34m(\u001b[0m\u001b[0;34m)\u001b[0m\u001b[0;34m\u001b[0m\u001b[0;34m\u001b[0m\u001b[0m\n\u001b[1;32m     65\u001b[0m             \u001b[0;31m# Calculate the statistics\u001b[0m\u001b[0;34m\u001b[0m\u001b[0;34m\u001b[0m\u001b[0;34m\u001b[0m\u001b[0m\n",
            "\u001b[0;32m/usr/local/lib/python3.7/dist-packages/torch/_tensor.py\u001b[0m in \u001b[0;36mbackward\u001b[0;34m(self, gradient, retain_graph, create_graph, inputs)\u001b[0m\n\u001b[1;32m    305\u001b[0m                 \u001b[0mcreate_graph\u001b[0m\u001b[0;34m=\u001b[0m\u001b[0mcreate_graph\u001b[0m\u001b[0;34m,\u001b[0m\u001b[0;34m\u001b[0m\u001b[0;34m\u001b[0m\u001b[0m\n\u001b[1;32m    306\u001b[0m                 inputs=inputs)\n\u001b[0;32m--> 307\u001b[0;31m         \u001b[0mtorch\u001b[0m\u001b[0;34m.\u001b[0m\u001b[0mautograd\u001b[0m\u001b[0;34m.\u001b[0m\u001b[0mbackward\u001b[0m\u001b[0;34m(\u001b[0m\u001b[0mself\u001b[0m\u001b[0;34m,\u001b[0m \u001b[0mgradient\u001b[0m\u001b[0;34m,\u001b[0m \u001b[0mretain_graph\u001b[0m\u001b[0;34m,\u001b[0m \u001b[0mcreate_graph\u001b[0m\u001b[0;34m,\u001b[0m \u001b[0minputs\u001b[0m\u001b[0;34m=\u001b[0m\u001b[0minputs\u001b[0m\u001b[0;34m)\u001b[0m\u001b[0;34m\u001b[0m\u001b[0;34m\u001b[0m\u001b[0m\n\u001b[0m\u001b[1;32m    308\u001b[0m \u001b[0;34m\u001b[0m\u001b[0m\n\u001b[1;32m    309\u001b[0m     \u001b[0;32mdef\u001b[0m \u001b[0mregister_hook\u001b[0m\u001b[0;34m(\u001b[0m\u001b[0mself\u001b[0m\u001b[0;34m,\u001b[0m \u001b[0mhook\u001b[0m\u001b[0;34m)\u001b[0m\u001b[0;34m:\u001b[0m\u001b[0;34m\u001b[0m\u001b[0;34m\u001b[0m\u001b[0m\n",
            "\u001b[0;32m/usr/local/lib/python3.7/dist-packages/torch/autograd/__init__.py\u001b[0m in \u001b[0;36mbackward\u001b[0;34m(tensors, grad_tensors, retain_graph, create_graph, grad_variables, inputs)\u001b[0m\n\u001b[1;32m    154\u001b[0m     Variable._execution_engine.run_backward(\n\u001b[1;32m    155\u001b[0m         \u001b[0mtensors\u001b[0m\u001b[0;34m,\u001b[0m \u001b[0mgrad_tensors_\u001b[0m\u001b[0;34m,\u001b[0m \u001b[0mretain_graph\u001b[0m\u001b[0;34m,\u001b[0m \u001b[0mcreate_graph\u001b[0m\u001b[0;34m,\u001b[0m \u001b[0minputs\u001b[0m\u001b[0;34m,\u001b[0m\u001b[0;34m\u001b[0m\u001b[0;34m\u001b[0m\u001b[0m\n\u001b[0;32m--> 156\u001b[0;31m         allow_unreachable=True, accumulate_grad=True)  # allow_unreachable flag\n\u001b[0m\u001b[1;32m    157\u001b[0m \u001b[0;34m\u001b[0m\u001b[0m\n\u001b[1;32m    158\u001b[0m \u001b[0;34m\u001b[0m\u001b[0m\n",
            "\u001b[0;31mKeyboardInterrupt\u001b[0m: "
          ]
        }
      ]
    },
    {
      "cell_type": "markdown",
      "source": [
        "I stopped the above code because the same validation accuracy was ocscillating around 84% only."
      ],
      "metadata": {
        "id": "EB-cMdu4MGB-"
      }
    },
    {
      "cell_type": "markdown",
      "metadata": {
        "id": "hQ2tvqJ68Mqb"
      },
      "source": [
        "### Part (d) - 2 pt\n",
        "Report the test accuracy of your best model. How does the test accuracy compare to Part 3(d) without transfer learning?"
      ]
    },
    {
      "cell_type": "markdown",
      "source": [
        "Based on my training in the previous part, I concluded that three layer ANN worked best with 128 batch size, learning rate of 0.01 and 11 epochs. "
      ],
      "metadata": {
        "id": "4UFJjOZ8OH5G"
      }
    },
    {
      "cell_type": "code",
      "source": [
        "class ANNClassifier(nn.Module):\n",
        "    def __init__(self):\n",
        "        super(ANNClassifier, self).__init__()\n",
        "        self.name = 'tf_classifier'\n",
        "        self.fc1 = nn.Linear(9216, 4608)\n",
        "        self.fc2 = nn.Linear(4608, 2304)\n",
        "        self.fc3 = nn.Linear(2304, 9)\n",
        "\n",
        "    def forward(self, x):\n",
        "        x = x.view(-1, 9216) #flatten feature data\n",
        "        x = F.relu(self.fc1(x))\n",
        "        x = F.relu(self.fc2(x))\n",
        "        x = self.fc3(x)\n",
        "        return x"
      ],
      "metadata": {
        "id": "b-bLiZ_GOjMh"
      },
      "execution_count": null,
      "outputs": []
    },
    {
      "cell_type": "code",
      "execution_count": 43,
      "metadata": {
        "id": "yCp_kFSg8Q2T"
      },
      "outputs": [],
      "source": [
        "#train_net(net, batch_size=128, learning_rate=0.01, num_epochs= 30)\n",
        "train_feature = torch.load('/content/gdrive/MyDrive/Lab 2 Dataset/features_train.pt')\n",
        "val_feature = torch.load('/content/gdrive/MyDrive/Lab 2 Dataset/features_val.pt')\n",
        "test_feature = torch.load('/content/gdrive/MyDrive/Lab 2 Dataset/features_test.pt')\n",
        "train_labels = torch.load('/content/gdrive/MyDrive/Lab 2 Dataset/labels_train.pt')\n",
        "val_labels = torch.load('/content/gdrive/MyDrive/Lab 2 Dataset/labels_val.pt')\n",
        "test_labels = torch.load('/content/gdrive/MyDrive/Lab 2 Dataset/labels_test.pt')\n",
        "train_loader = torch.utils.data.DataLoader(TensorDataset(train_feature, train_labels), batch_size=128)\n",
        "val_loader = torch.utils.data.DataLoader(TensorDataset(val_feature, val_labels), batch_size=128)\n",
        "test_loader = torch.utils.data.DataLoader(TensorDataset(test_feature, test_labels), batch_size=128)"
      ]
    },
    {
      "cell_type": "code",
      "source": [
        "use_cuda = True\n",
        "ANN = ANNClassifier()\n",
        "if use_cuda and torch.cuda.is_available():\n",
        "  ANN.cuda()\n",
        "model_path_ann_final = get_model_name(ANN.name, batch_size=128, learning_rate=0.01, epoch=12)\n",
        "state = torch.load(model_path_ann_final)\n",
        "ANN.load_state_dict(state)"
      ],
      "metadata": {
        "colab": {
          "base_uri": "https://localhost:8080/"
        },
        "id": "i6eVQcnKFwIt",
        "outputId": "312a9608-9214-4be6-98dc-0520a689b5d8"
      },
      "execution_count": 52,
      "outputs": [
        {
          "output_type": "execute_result",
          "data": {
            "text/plain": [
              "<All keys matched successfully>"
            ]
          },
          "metadata": {},
          "execution_count": 52
        }
      ]
    },
    {
      "cell_type": "code",
      "source": [
        "test_acc, test_loss = get_accuracy(ANN, train_loader, val_loader, test_loader, train=False, test = True, loss = True, criterion= nn.CrossEntropyLoss())"
      ],
      "metadata": {
        "id": "bSCv-STiWEZ4"
      },
      "execution_count": 53,
      "outputs": []
    },
    {
      "cell_type": "code",
      "source": [
        "print(\"The accuracy of the best model on the test set is :\", test_acc)\n",
        "print(\"The loss of the best model on the test set is :\", test_loss)"
      ],
      "metadata": {
        "colab": {
          "base_uri": "https://localhost:8080/"
        },
        "id": "1NuXgAtYNQNW",
        "outputId": "5382ada4-ef42-4a28-e82a-5901dd09c0dc"
      },
      "execution_count": null,
      "outputs": [
        {
          "output_type": "stream",
          "name": "stdout",
          "text": [
            "The accuracy of the best model on the test set is : 0.9296875\n",
            "The loss of the best model on the test set is : 0.7925570011138916\n"
          ]
        }
      ]
    },
    {
      "cell_type": "markdown",
      "source": [
        "The accuracy of the test data after transfer learning is around 92% which is way higher than what I was able to achieve with only CNN. Moreover, the CNN training curves oscillated quite a bit, and many of my models during hyperparameter tuning were quite unstable. But, the fully connected model after transfer learning was quite stable. "
      ],
      "metadata": {
        "id": "X8oRRuycMOm3"
      }
    },
    {
      "cell_type": "markdown",
      "metadata": {
        "id": "XrDPb0orGZYJ"
      },
      "source": [
        "### Part 5. Testing on New Data [10 pt]\n",
        "As a final step in testing we will be revisiting the sample images that you had collected and submitted with your lab. These sample images should be untouched and will be used to demonstrate how well your model works at identifying your hand guestures. \n",
        "\n"
      ]
    },
    {
      "cell_type": "markdown",
      "metadata": {
        "id": "oCjo6L_RDF-T"
      },
      "source": [
        "### Part (a) - 3 pt\n",
        "Load and process the hand gesture images you had collected so that they can easily be evaulated by your model."
      ]
    },
    {
      "cell_type": "code",
      "execution_count": 55,
      "metadata": {
        "id": "24qIPbs5DF-T"
      },
      "outputs": [],
      "source": [
        "sample_data = get_data_loader('/content/gdrive/MyDrive/Lab 2 Dataset/Janakiraman_1007397158', 27)\n",
        "\n",
        "#just to feed inputs to my get_accuracy function, I will not be using it anywhere in the function\n",
        "train_loader = get_data_loader('/content/gdrive/MyDrive/Lab 2 Dataset/Lab_2_Hand_Gesture_Dataset/Train', 27)\n",
        "val_loader = get_data_loader('/content/gdrive/MyDrive/Lab 2 Dataset/Lab_2_Hand_Gesture_Dataset/Validation', 27)"
      ]
    },
    {
      "cell_type": "code",
      "source": [
        "for img, labels in iter(sample_data):\n",
        "  features_sample = alexnet.features(img)\n",
        "  labels_sample = labels "
      ],
      "metadata": {
        "id": "spSGjcfnSmVz"
      },
      "execution_count": 58,
      "outputs": []
    },
    {
      "cell_type": "code",
      "source": [
        "torch.save(features_sample, '/content/gdrive/MyDrive/Lab 2 Dataset/features_sample.pt')\n",
        "torch.save(labels_sample, '/content/gdrive/MyDrive/Lab 2 Dataset/labels_sample.pt')"
      ],
      "metadata": {
        "id": "mErdISekXIdx"
      },
      "execution_count": 59,
      "outputs": []
    },
    {
      "cell_type": "code",
      "source": [
        "sample_data_processed = torch.utils.data.DataLoader(TensorDataset(torch.load('/content/gdrive/MyDrive/Lab 2 Dataset/features_sample.pt'), torch.load('/content/gdrive/MyDrive/Lab 2 Dataset/labels_sample.pt')), batch_size=128)"
      ],
      "metadata": {
        "id": "RMjmlUjgTDPs"
      },
      "execution_count": 60,
      "outputs": []
    },
    {
      "cell_type": "markdown",
      "metadata": {
        "id": "TG8QDfdtDF-T"
      },
      "source": [
        "### Part (b) - 7 pt\n",
        "Using the best transfer learning model developed in Part 4. Report the test accuracy on your sample images and how it compares to the test accuracy obtained in Part 4(d)? How well did your model do for the different hand guestures? Provide an explanation for why you think your model performed the way it did?  \n",
        "\n",
        "This question will also be evaluated on the overal performance achieved."
      ]
    },
    {
      "cell_type": "code",
      "execution_count": 61,
      "metadata": {
        "id": "UOwLTn39DF-T"
      },
      "outputs": [],
      "source": [
        "test_acc, test_loss = get_accuracy(ANN, train_loader, val_loader, sample_data_processed, train=False, test = True, loss = True, criterion= nn.CrossEntropyLoss())"
      ]
    },
    {
      "cell_type": "code",
      "source": [
        "print(\"Test accuracy on my final dataset is:\", test_acc)"
      ],
      "metadata": {
        "colab": {
          "base_uri": "https://localhost:8080/"
        },
        "id": "rgXO9z7iQluw",
        "outputId": "90c65769-7277-40ab-8fc4-1a804cfc4ef6"
      },
      "execution_count": 64,
      "outputs": [
        {
          "output_type": "stream",
          "name": "stdout",
          "text": [
            "Test accuracy on my final dataset is: 1.0\n"
          ]
        }
      ]
    },
    {
      "cell_type": "code",
      "source": [
        "print(\"Test loss on my final dataset is:\", test_loss)"
      ],
      "metadata": {
        "colab": {
          "base_uri": "https://localhost:8080/"
        },
        "id": "7Veo9OXQQlmp",
        "outputId": "42a2f35d-6257-43e8-81ce-6130e8b801c3"
      },
      "execution_count": 66,
      "outputs": [
        {
          "output_type": "stream",
          "name": "stdout",
          "text": [
            "Test loss on my final dataset is: 0.0009714980260469019\n"
          ]
        }
      ]
    },
    {
      "cell_type": "markdown",
      "source": [
        "My model performed really well with my hand dataset. It was able to achieve a 100% accuracy on my unseen data, and this is contrary to the test dataset where it achieved 92% accuracy.\n",
        "\n",
        "The reason I believe is because, with transfer learning, the feature maps generated are very informative and it really helps in identifying and classifying effectively. With the feature maps, the linear layers were able to nicely classify my hand gestures. Also, my linear layers had a good number of parameters, giving the neural network a lot of parameters to learn and understand the images properly. Three layers, with hidden units led to a lot of training, which enhanced my model's capability to predict. This probably would not have been possible without the transfer learning as just my CNN architecture did not perform that well on the test dataset itself. It could have led to erroneous predictions and lower accuracies. \n",
        "\n",
        "Every part of my architecture- from the number of layers to the activation functions, helped in increasing the accuracy. \n",
        "\n",
        "Moreover, I believe the reason I could achieve 100% accuracy on my hand gesture dataset was because I did not rotate my hands too much and kept my different orientations to a minimum. "
      ],
      "metadata": {
        "id": "9XHcBs8XNL0D"
      }
    },
    {
      "cell_type": "markdown",
      "metadata": {
        "id": "FYwI4RmFS2RB"
      },
      "source": [
        "### Saving to HTML\n",
        "Detailed instructions for saving to HTML can be found <a href=\"https://stackoverflow.com/questions/53460051/convert-ipynb-notebook-to-html-in-google-colab/64487858#64487858\">here</a>. Provided below are a summary of the instructions:\n",
        "\n",
        "(1) download your ipynb file by clicking on File->Download.ipynb\n",
        "\n",
        "(2) reupload your file to the temporary Google Colab storage (you can access the temporary storage from the tab to the left)\n",
        "\n",
        "(3) run the following:"
      ]
    },
    {
      "cell_type": "code",
      "execution_count": null,
      "metadata": {
        "id": "2TrsqdNgS5ex"
      },
      "outputs": [],
      "source": [
        "%%shell\n",
        "jupyter nbconvert --to html LAB_2_Hand_Gesture_Recognition.ipynb"
      ]
    },
    {
      "cell_type": "markdown",
      "metadata": {
        "id": "nuXhlFlPTY7F"
      },
      "source": [
        "(4) the html file will be available for download in the temporary Google Colab storage\n",
        "\n",
        "(5) review the html file and make sure all the results are visible before submitting your assignment to Quercus"
      ]
    }
  ],
  "metadata": {
    "colab": {
      "collapsed_sections": [],
      "name": "LAB_2_Hand_Gesture_Recognition.ipynb",
      "provenance": []
    },
    "kernelspec": {
      "display_name": "Python 3",
      "language": "python",
      "name": "python3"
    },
    "language_info": {
      "codemirror_mode": {
        "name": "ipython",
        "version": 3
      },
      "file_extension": ".py",
      "mimetype": "text/x-python",
      "name": "python",
      "nbconvert_exporter": "python",
      "pygments_lexer": "ipython3",
      "version": "3.7.4"
    },
    "accelerator": "GPU"
  },
  "nbformat": 4,
  "nbformat_minor": 0
}